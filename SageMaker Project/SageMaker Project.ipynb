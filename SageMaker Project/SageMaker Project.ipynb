{
 "cells": [
  {
   "cell_type": "markdown",
   "metadata": {},
   "source": [
    "# Creating a Sentiment Analysis Web App\n",
    "## Using PyTorch and SageMaker\n",
    "\n",
    "_Deep Learning Nanodegree Program | Deployment_\n",
    "\n",
    "---\n",
    "\n",
    "Now that we have a basic understanding of how SageMaker works we will try to use it to construct a complete project from end to end. Our goal will be to have a simple web page which a user can use to enter a movie review. The web page will then send the review off to our deployed model which will predict the sentiment of the entered review.\n",
    "\n",
    "## Instructions\n",
    "\n",
    "Some template code has already been provided for you, and you will need to implement additional functionality to successfully complete this notebook. You will not need to modify the included code beyond what is requested. Sections that begin with '**TODO**' in the header indicate that you need to complete or implement some portion within them. Instructions will be provided for each section and the specifics of the implementation are marked in the code block with a `# TODO: ...` comment. Please be sure to read the instructions carefully!\n",
    "\n",
    "In addition to implementing code, there will be questions for you to answer which relate to the task and your implementation. Each section where you will answer a question is preceded by a '**Question:**' header. Carefully read each question and provide your answer below the '**Answer:**' header by editing the Markdown cell.\n",
    "\n",
    "> **Note**: Code and Markdown cells can be executed using the **Shift+Enter** keyboard shortcut. In addition, a cell can be edited by typically clicking it (double-click for Markdown cells) or by pressing **Enter** while it is highlighted.\n",
    "\n",
    "## General Outline\n",
    "\n",
    "Recall the general outline for SageMaker projects using a notebook instance.\n",
    "\n",
    "1. Download or otherwise retrieve the data.\n",
    "2. Process / Prepare the data.\n",
    "3. Upload the processed data to S3.\n",
    "4. Train a chosen model.\n",
    "5. Test the trained model (typically using a batch transform job).\n",
    "6. Deploy the trained model.\n",
    "7. Use the deployed model.\n",
    "\n",
    "For this project, you will be following the steps in the general outline with some modifications. \n",
    "\n",
    "First, you will not be testing the model in its own step. You will still be testing the model, however, you will do it by deploying your model and then using the deployed model by sending the test data to it. One of the reasons for doing this is so that you can make sure that your deployed model is working correctly before moving forward.\n",
    "\n",
    "In addition, you will deploy and use your trained model a second time. In the second iteration you will customize the way that your trained model is deployed by including some of your own code. In addition, your newly deployed model will be used in the sentiment analysis web app."
   ]
  },
  {
   "cell_type": "markdown",
   "metadata": {},
   "source": [
    "## Step 1: Downloading the data\n",
    "\n",
    "As in the XGBoost in SageMaker notebook, we will be using the [IMDb dataset](http://ai.stanford.edu/~amaas/data/sentiment/)\n",
    "\n",
    "> Maas, Andrew L., et al. [Learning Word Vectors for Sentiment Analysis](http://ai.stanford.edu/~amaas/data/sentiment/). In _Proceedings of the 49th Annual Meeting of the Association for Computational Linguistics: Human Language Technologies_. Association for Computational Linguistics, 2011."
   ]
  },
  {
   "cell_type": "code",
   "execution_count": 114,
   "metadata": {},
   "outputs": [
    {
     "name": "stdout",
     "output_type": "stream",
     "text": [
      "mkdir: cannot create directory ‘../data’: File exists\n",
      "--2020-10-12 02:42:21--  http://ai.stanford.edu/~amaas/data/sentiment/aclImdb_v1.tar.gz\n",
      "Resolving ai.stanford.edu (ai.stanford.edu)... 171.64.68.10\n",
      "Connecting to ai.stanford.edu (ai.stanford.edu)|171.64.68.10|:80... connected.\n",
      "HTTP request sent, awaiting response... 200 OK\n",
      "Length: 84125825 (80M) [application/x-gzip]\n",
      "Saving to: ‘../data/aclImdb_v1.tar.gz’\n",
      "\n",
      "../data/aclImdb_v1. 100%[===================>]  80.23M  25.6MB/s    in 3.9s    \n",
      "\n",
      "2020-10-12 02:42:26 (20.7 MB/s) - ‘../data/aclImdb_v1.tar.gz’ saved [84125825/84125825]\n",
      "\n"
     ]
    }
   ],
   "source": [
    "%mkdir ../data\n",
    "!wget -O ../data/aclImdb_v1.tar.gz http://ai.stanford.edu/~amaas/data/sentiment/aclImdb_v1.tar.gz\n",
    "!tar -zxf ../data/aclImdb_v1.tar.gz -C ../data"
   ]
  },
  {
   "cell_type": "markdown",
   "metadata": {},
   "source": [
    "## Step 2: Preparing and Processing the data\n",
    "\n",
    "Also, as in the XGBoost notebook, we will be doing some initial data processing. The first few steps are the same as in the XGBoost example. To begin with, we will read in each of the reviews and combine them into a single input structure. Then, we will split the dataset into a training set and a testing set."
   ]
  },
  {
   "cell_type": "code",
   "execution_count": 115,
   "metadata": {},
   "outputs": [],
   "source": [
    "import os\n",
    "import glob\n",
    "\n",
    "def read_imdb_data(data_dir='../data/aclImdb'):\n",
    "    data = {}\n",
    "    labels = {}\n",
    "    \n",
    "    for data_type in ['train', 'test']:\n",
    "        data[data_type] = {}\n",
    "        labels[data_type] = {}\n",
    "        \n",
    "        for sentiment in ['pos', 'neg']:\n",
    "            data[data_type][sentiment] = []\n",
    "            labels[data_type][sentiment] = []\n",
    "            \n",
    "            path = os.path.join(data_dir, data_type, sentiment, '*.txt')\n",
    "            files = glob.glob(path)\n",
    "            \n",
    "            for f in files:\n",
    "                with open(f) as review:\n",
    "                    data[data_type][sentiment].append(review.read())\n",
    "                    # Here we represent a positive review by '1' and a negative review by '0'\n",
    "                    labels[data_type][sentiment].append(1 if sentiment == 'pos' else 0)\n",
    "                    \n",
    "            assert len(data[data_type][sentiment]) == len(labels[data_type][sentiment]), \\\n",
    "                    \"{}/{} data size does not match labels size\".format(data_type, sentiment)\n",
    "                \n",
    "    return data, labels"
   ]
  },
  {
   "cell_type": "code",
   "execution_count": 116,
   "metadata": {},
   "outputs": [
    {
     "name": "stdout",
     "output_type": "stream",
     "text": [
      "IMDB reviews: train = 12500 pos / 12500 neg, test = 12500 pos / 12500 neg\n"
     ]
    }
   ],
   "source": [
    "data, labels = read_imdb_data()\n",
    "print(\"IMDB reviews: train = {} pos / {} neg, test = {} pos / {} neg\".format(\n",
    "            len(data['train']['pos']), len(data['train']['neg']),\n",
    "            len(data['test']['pos']), len(data['test']['neg'])))"
   ]
  },
  {
   "cell_type": "markdown",
   "metadata": {},
   "source": [
    "Now that we've read the raw training and testing data from the downloaded dataset, we will combine the positive and negative reviews and shuffle the resulting records."
   ]
  },
  {
   "cell_type": "code",
   "execution_count": 117,
   "metadata": {},
   "outputs": [],
   "source": [
    "from sklearn.utils import shuffle\n",
    "\n",
    "def prepare_imdb_data(data, labels):\n",
    "    \"\"\"Prepare training and test sets from IMDb movie reviews.\"\"\"\n",
    "    \n",
    "    #Combine positive and negative reviews and labels\n",
    "    data_train = data['train']['pos'] + data['train']['neg']\n",
    "    data_test = data['test']['pos'] + data['test']['neg']\n",
    "    labels_train = labels['train']['pos'] + labels['train']['neg']\n",
    "    labels_test = labels['test']['pos'] + labels['test']['neg']\n",
    "    \n",
    "    #Shuffle reviews and corresponding labels within training and test sets\n",
    "    data_train, labels_train = shuffle(data_train, labels_train)\n",
    "    data_test, labels_test = shuffle(data_test, labels_test)\n",
    "    \n",
    "    # Return a unified training data, test data, training labels, test labets\n",
    "    return data_train, data_test, labels_train, labels_test"
   ]
  },
  {
   "cell_type": "code",
   "execution_count": 74,
   "metadata": {},
   "outputs": [
    {
     "name": "stdout",
     "output_type": "stream",
     "text": [
      "IMDb reviews (combined): train = 25000, test = 25000\n"
     ]
    }
   ],
   "source": [
    "train_X, test_X, train_y, test_y = prepare_imdb_data(data, labels)\n",
    "print(\"IMDb reviews (combined): train = {}, test = {}\".format(len(train_X), len(test_X)))"
   ]
  },
  {
   "cell_type": "markdown",
   "metadata": {},
   "source": [
    "Now that we have our training and testing sets unified and prepared, we should do a quick check and see an example of the data our model will be trained on. This is generally a good idea as it allows you to see how each of the further processing steps affects the reviews and it also ensures that the data has been loaded correctly."
   ]
  },
  {
   "cell_type": "code",
   "execution_count": 75,
   "metadata": {},
   "outputs": [
    {
     "name": "stdout",
     "output_type": "stream",
     "text": [
      "Twisted Desire (1996) was a TV movie starring Melissa Joan Hart. Melissa's character, Jennifer Stanton, a seventeen-year-old seduces her current boyfriend Nick Ryan into murdering her two parents. The movie is based on the 1990 murders of the parents of 14 year old Jessica Wiseman. Jessica had her 17 year old boyfriend Douglas Christopher Thomas shoot and kill her parents! Thomas was executed in 2000! Jessica was released from prison when she turned 21 years old. Evidence now suggests that it was Jessica who fired the fatal shot that killed her mother. Jessica is known to now be residing somewhere in the state of Virginia.\n",
      "1\n"
     ]
    }
   ],
   "source": [
    "print(train_X[100])\n",
    "print(train_y[100])"
   ]
  },
  {
   "cell_type": "markdown",
   "metadata": {},
   "source": [
    "The first step in processing the reviews is to make sure that any html tags that appear should be removed. In addition we wish to tokenize our input, that way words such as *entertained* and *entertaining* are considered the same with regard to sentiment analysis."
   ]
  },
  {
   "cell_type": "code",
   "execution_count": 76,
   "metadata": {},
   "outputs": [],
   "source": [
    "import nltk\n",
    "from nltk.corpus import stopwords\n",
    "from nltk.stem.porter import *\n",
    "\n",
    "import re\n",
    "from bs4 import BeautifulSoup\n",
    "\n",
    "def review_to_words(review):\n",
    "    nltk.download(\"stopwords\", quiet=True)\n",
    "    stemmer = PorterStemmer()\n",
    "    \n",
    "    text = BeautifulSoup(review, \"html.parser\").get_text() # Remove HTML tags\n",
    "    text = re.sub(r\"[^a-zA-Z0-9]\", \" \", text.lower()) # Convert to lower case\n",
    "    words = text.split() # Split string into words\n",
    "    words = [w for w in words if w not in stopwords.words(\"english\")] # Remove stopwords\n",
    "    words = [PorterStemmer().stem(w) for w in words] # stem\n",
    "    \n",
    "    return words"
   ]
  },
  {
   "cell_type": "markdown",
   "metadata": {},
   "source": [
    "The `review_to_words` method defined above uses `BeautifulSoup` to remove any html tags that appear and uses the `nltk` package to tokenize the reviews. As a check to ensure we know how everything is working, try applying `review_to_words` to one of the reviews in the training set."
   ]
  },
  {
   "cell_type": "code",
   "execution_count": 77,
   "metadata": {},
   "outputs": [
    {
     "data": {
      "text/plain": [
       "['twist',\n",
       " 'desir',\n",
       " '1996',\n",
       " 'tv',\n",
       " 'movi',\n",
       " 'star',\n",
       " 'melissa',\n",
       " 'joan',\n",
       " 'hart',\n",
       " 'melissa',\n",
       " 'charact',\n",
       " 'jennif',\n",
       " 'stanton',\n",
       " 'seventeen',\n",
       " 'year',\n",
       " 'old',\n",
       " 'seduc',\n",
       " 'current',\n",
       " 'boyfriend',\n",
       " 'nick',\n",
       " 'ryan',\n",
       " 'murder',\n",
       " 'two',\n",
       " 'parent',\n",
       " 'movi',\n",
       " 'base',\n",
       " '1990',\n",
       " 'murder',\n",
       " 'parent',\n",
       " '14',\n",
       " 'year',\n",
       " 'old',\n",
       " 'jessica',\n",
       " 'wiseman',\n",
       " 'jessica',\n",
       " '17',\n",
       " 'year',\n",
       " 'old',\n",
       " 'boyfriend',\n",
       " 'dougla',\n",
       " 'christoph',\n",
       " 'thoma',\n",
       " 'shoot',\n",
       " 'kill',\n",
       " 'parent',\n",
       " 'thoma',\n",
       " 'execut',\n",
       " '2000',\n",
       " 'jessica',\n",
       " 'releas',\n",
       " 'prison',\n",
       " 'turn',\n",
       " '21',\n",
       " 'year',\n",
       " 'old',\n",
       " 'evid',\n",
       " 'suggest',\n",
       " 'jessica',\n",
       " 'fire',\n",
       " 'fatal',\n",
       " 'shot',\n",
       " 'kill',\n",
       " 'mother',\n",
       " 'jessica',\n",
       " 'known',\n",
       " 'resid',\n",
       " 'somewher',\n",
       " 'state',\n",
       " 'virginia']"
      ]
     },
     "execution_count": 77,
     "metadata": {},
     "output_type": "execute_result"
    }
   ],
   "source": [
    "# TODO: Apply review_to_words to a review (train_X[100] or any other review)\n",
    "review_to_words(train_X[100])"
   ]
  },
  {
   "cell_type": "markdown",
   "metadata": {},
   "source": [
    "**Question:** Above we mentioned that `review_to_words` method removes html formatting and allows us to tokenize the words found in a review, for example, converting *entertained* and *entertaining* into *entertain* so that they are treated as though they are the same word. What else, if anything, does this method do to the input?"
   ]
  },
  {
   "cell_type": "markdown",
   "metadata": {},
   "source": [
    "**Answer:**\n",
    "+ Stem the words.\n",
    "+ Removing Punctuations.\n",
    "+ Remove Stop Words.\n",
    "+ Remove HTML tags.\n",
    "+ Convert tp lowercases."
   ]
  },
  {
   "cell_type": "markdown",
   "metadata": {},
   "source": [
    "The method below applies the `review_to_words` method to each of the reviews in the training and testing datasets. In addition it caches the results. This is because performing this processing step can take a long time. This way if you are unable to complete the notebook in the current session, you can come back without needing to process the data a second time."
   ]
  },
  {
   "cell_type": "code",
   "execution_count": 78,
   "metadata": {},
   "outputs": [],
   "source": [
    "import pickle\n",
    "\n",
    "cache_dir = os.path.join(\"../cache\", \"sentiment_analysis\")  # where to store cache files\n",
    "os.makedirs(cache_dir, exist_ok=True)  # ensure cache directory exists\n",
    "\n",
    "def preprocess_data(data_train, data_test, labels_train, labels_test,\n",
    "                    cache_dir=cache_dir, cache_file=\"preprocessed_data.pkl\"):\n",
    "    \"\"\"Convert each review to words; read from cache if available.\"\"\"\n",
    "\n",
    "    # If cache_file is not None, try to read from it first\n",
    "    cache_data = None\n",
    "    if cache_file is not None:\n",
    "        try:\n",
    "            with open(os.path.join(cache_dir, cache_file), \"rb\") as f:\n",
    "                cache_data = pickle.load(f)\n",
    "            print(\"Read preprocessed data from cache file:\", cache_file)\n",
    "        except:\n",
    "            pass  # unable to read from cache, but that's okay\n",
    "    \n",
    "    # If cache is missing, then do the heavy lifting\n",
    "    if cache_data is None:\n",
    "        # Preprocess training and test data to obtain words for each review\n",
    "        #words_train = list(map(review_to_words, data_train))\n",
    "        #words_test = list(map(review_to_words, data_test))\n",
    "        words_train = [review_to_words(review) for review in data_train]\n",
    "        words_test = [review_to_words(review) for review in data_test]\n",
    "        \n",
    "        # Write to cache file for future runs\n",
    "        if cache_file is not None:\n",
    "            cache_data = dict(words_train=words_train, words_test=words_test,\n",
    "                              labels_train=labels_train, labels_test=labels_test)\n",
    "            with open(os.path.join(cache_dir, cache_file), \"wb\") as f:\n",
    "                pickle.dump(cache_data, f)\n",
    "            print(\"Wrote preprocessed data to cache file:\", cache_file)\n",
    "    else:\n",
    "        # Unpack data loaded from cache file\n",
    "        words_train, words_test, labels_train, labels_test = (cache_data['words_train'],\n",
    "                cache_data['words_test'], cache_data['labels_train'], cache_data['labels_test'])\n",
    "    \n",
    "    return words_train, words_test, labels_train, labels_test"
   ]
  },
  {
   "cell_type": "code",
   "execution_count": 79,
   "metadata": {},
   "outputs": [
    {
     "name": "stdout",
     "output_type": "stream",
     "text": [
      "Read preprocessed data from cache file: preprocessed_data.pkl\n"
     ]
    }
   ],
   "source": [
    "# Preprocess data\n",
    "train_X, test_X, train_y, test_y = preprocess_data(train_X, test_X, train_y, test_y)"
   ]
  },
  {
   "cell_type": "markdown",
   "metadata": {},
   "source": [
    "## Transform the data\n",
    "\n",
    "In the XGBoost notebook we transformed the data from its word representation to a bag-of-words feature representation. For the model we are going to construct in this notebook we will construct a feature representation which is very similar. To start, we will represent each word as an integer. Of course, some of the words that appear in the reviews occur very infrequently and so likely don't contain much information for the purposes of sentiment analysis. The way we will deal with this problem is that we will fix the size of our working vocabulary and we will only include the words that appear most frequently. We will then combine all of the infrequent words into a single category and, in our case, we will label it as `1`.\n",
    "\n",
    "Since we will be using a recurrent neural network, it will be convenient if the length of each review is the same. To do this, we will fix a size for our reviews and then pad short reviews with the category 'no word' (which we will label `0`) and truncate long reviews."
   ]
  },
  {
   "cell_type": "markdown",
   "metadata": {},
   "source": [
    "### (TODO) Create a word dictionary\n",
    "\n",
    "To begin with, we need to construct a way to map words that appear in the reviews to integers. Here we fix the size of our vocabulary (including the 'no word' and 'infrequent' categories) to be `5000` but you may wish to change this to see how it affects the model.\n",
    "\n",
    "> **TODO:** Complete the implementation for the `build_dict()` method below. Note that even though the vocab_size is set to `5000`, we only want to construct a mapping for the most frequently appearing `4998` words. This is because we want to reserve the special labels `0` for 'no word' and `1` for 'infrequent word'."
   ]
  },
  {
   "cell_type": "code",
   "execution_count": 80,
   "metadata": {},
   "outputs": [],
   "source": [
    "import numpy as np\n",
    "\n",
    "def build_dict(data, vocab_size = 5000):\n",
    "    \"\"\"Construct and return a dictionary mapping each of the most frequently appearing words to a unique integer.\n",
    "        Returns Word to index\n",
    "    \"\"\"\n",
    "    \n",
    "    # TODO: Determine how often each word appears in `data`. Note that `data` is a list of sentences and that a\n",
    "    #       sentence is a list of words.\n",
    "    \n",
    "    word_count = {} # A dict storing the words that appear in the reviews along with how often they occur\n",
    "    \n",
    "    #data -> sent -> words\n",
    "    for sent in data:\n",
    "        for word in sent:\n",
    "            if word in word_count:\n",
    "                word_count[word] += 1\n",
    "            else:\n",
    "                word_count[word] = 1\n",
    "    # TODO: Sort the words found in `data` so that sorted_words[0] is the most frequently appearing word and\n",
    "    #       sorted_words[-1] is the least frequently appearing word.\n",
    "    \n",
    "    sorted_words = [k for k, v in sorted(word_count.items(), key=lambda item: item[1], reverse=True)]\n",
    "    word_dict = {} # This is what we are building, a dictionary that translates words into integers\n",
    "    for idx, word in enumerate(sorted_words[:vocab_size - 2]): # The -2 is so that we save room for the 'no word'\n",
    "        word_dict[word] = idx + 2                              # 'infrequent' labels\n",
    "        \n",
    "    return word_dict"
   ]
  },
  {
   "cell_type": "code",
   "execution_count": 81,
   "metadata": {},
   "outputs": [],
   "source": [
    "word_dict = build_dict(train_X)"
   ]
  },
  {
   "cell_type": "markdown",
   "metadata": {},
   "source": [
    "**Question:** What are the five most frequently appearing (tokenized) words in the training set? Does it makes sense that these words appear frequently in the training set?"
   ]
  },
  {
   "cell_type": "markdown",
   "metadata": {},
   "source": [
    "**Answer:**\n",
    "+ movi\n",
    "+ film\n",
    "+ one\n",
    "+ like\n",
    "+ time\n",
    "\n",
    "Yes, it makes sense that these five words are on the top of the list of the mose frequent used words in reviewing movies."
   ]
  },
  {
   "cell_type": "code",
   "execution_count": 82,
   "metadata": {},
   "outputs": [
    {
     "name": "stdout",
     "output_type": "stream",
     "text": [
      "{'movi': 2, 'film': 3, 'one': 4, 'like': 5, 'time': 6, 'good': 7, 'make': 8, 'charact': 9, 'get': 10, 'see': 11, 'watch': 12, 'stori': 13, 'even': 14, 'would': 15, 'realli': 16, 'well': 17, 'scene': 18, 'look': 19, 'show': 20, 'much': 21, 'end': 22, 'peopl': 23, 'bad': 24, 'go': 25, 'great': 26, 'also': 27, 'first': 28, 'love': 29, 'think': 30, 'way': 31, 'act': 32, 'play': 33, 'made': 34, 'thing': 35, 'could': 36, 'know': 37, 'say': 38, 'seem': 39, 'work': 40, 'plot': 41, 'two': 42, 'actor': 43, 'year': 44, 'come': 45, 'mani': 46, 'seen': 47, 'take': 48, 'want': 49, 'life': 50, 'never': 51, 'littl': 52, 'best': 53, 'tri': 54, 'man': 55, 'ever': 56, 'give': 57, 'better': 58, 'still': 59, 'perform': 60, 'find': 61, 'feel': 62, 'part': 63, 'back': 64, 'use': 65, 'someth': 66, 'director': 67, 'actual': 68, 'interest': 69, 'lot': 70, 'real': 71, 'old': 72, 'cast': 73, 'though': 74, 'live': 75, 'star': 76, 'enjoy': 77, 'guy': 78, 'anoth': 79, 'new': 80, 'role': 81, 'noth': 82, '10': 83, 'funni': 84, 'music': 85, 'point': 86, 'start': 87, 'set': 88, 'girl': 89, 'origin': 90, 'day': 91, 'world': 92, 'everi': 93, 'believ': 94, 'turn': 95, 'quit': 96, 'us': 97, 'direct': 98, 'thought': 99, 'fact': 100, 'minut': 101, 'horror': 102, 'kill': 103, 'action': 104, 'comedi': 105, 'pretti': 106, 'young': 107, 'wonder': 108, 'happen': 109, 'around': 110, 'got': 111, 'effect': 112, 'right': 113, 'long': 114, 'howev': 115, 'big': 116, 'line': 117, 'famili': 118, 'enough': 119, 'seri': 120, 'may': 121, 'need': 122, 'fan': 123, 'bit': 124, 'script': 125, 'beauti': 126, 'person': 127, 'becom': 128, 'without': 129, 'must': 130, 'alway': 131, 'friend': 132, 'tell': 133, 'reason': 134, 'saw': 135, 'last': 136, 'final': 137, 'kid': 138, 'almost': 139, 'put': 140, 'least': 141, 'sure': 142, 'done': 143, 'whole': 144, 'place': 145, 'complet': 146, 'kind': 147, 'expect': 148, 'differ': 149, 'shot': 150, 'far': 151, 'mean': 152, 'anyth': 153, 'book': 154, 'laugh': 155, 'might': 156, 'name': 157, 'sinc': 158, 'begin': 159, '2': 160, 'probabl': 161, 'woman': 162, 'help': 163, 'entertain': 164, 'let': 165, 'screen': 166, 'call': 167, 'tv': 168, 'moment': 169, 'away': 170, 'read': 171, 'yet': 172, 'rather': 173, 'worst': 174, 'run': 175, 'fun': 176, 'lead': 177, 'hard': 178, 'audienc': 179, 'idea': 180, 'anyon': 181, 'episod': 182, 'american': 183, 'found': 184, 'appear': 185, 'bore': 186, 'especi': 187, 'although': 188, 'hope': 189, 'cours': 190, 'keep': 191, 'anim': 192, 'job': 193, 'goe': 194, 'move': 195, 'sens': 196, 'version': 197, 'dvd': 198, 'war': 199, 'money': 200, 'someon': 201, 'mind': 202, 'mayb': 203, 'problem': 204, 'true': 205, 'hous': 206, 'everyth': 207, 'nice': 208, 'second': 209, 'rate': 210, 'three': 211, 'night': 212, 'follow': 213, 'face': 214, 'recommend': 215, 'product': 216, 'main': 217, 'worth': 218, 'leav': 219, 'human': 220, 'special': 221, 'excel': 222, 'togeth': 223, 'wast': 224, 'everyon': 225, 'sound': 226, 'john': 227, 'hand': 228, '1': 229, 'father': 230, 'later': 231, 'eye': 232, 'said': 233, 'view': 234, 'instead': 235, 'review': 236, 'boy': 237, 'high': 238, 'hour': 239, 'miss': 240, 'classic': 241, 'talk': 242, 'wife': 243, 'understand': 244, 'left': 245, 'care': 246, 'black': 247, 'death': 248, 'open': 249, 'murder': 250, 'write': 251, 'half': 252, 'head': 253, 'rememb': 254, 'chang': 255, 'viewer': 256, 'fight': 257, 'gener': 258, 'surpris': 259, 'short': 260, 'includ': 261, 'die': 262, 'fall': 263, 'less': 264, 'els': 265, 'entir': 266, 'piec': 267, 'involv': 268, 'pictur': 269, 'simpli': 270, 'top': 271, 'power': 272, 'home': 273, 'total': 274, 'usual': 275, 'budget': 276, 'attempt': 277, 'suppos': 278, 'releas': 279, 'hollywood': 280, 'terribl': 281, 'song': 282, 'men': 283, 'possibl': 284, 'featur': 285, 'portray': 286, 'disappoint': 287, '3': 288, 'poor': 289, 'coupl': 290, 'stupid': 291, 'camera': 292, 'dead': 293, 'wrong': 294, 'low': 295, 'produc': 296, 'either': 297, 'video': 298, 'aw': 299, 'definit': 300, 'except': 301, 'rest': 302, 'given': 303, 'absolut': 304, 'women': 305, 'lack': 306, 'word': 307, 'writer': 308, 'titl': 309, 'talent': 310, 'decid': 311, 'full': 312, 'perfect': 313, 'along': 314, 'style': 315, 'close': 316, 'truli': 317, 'school': 318, 'save': 319, 'emot': 320, 'age': 321, 'sex': 322, 'next': 323, 'bring': 324, 'mr': 325, 'case': 326, 'killer': 327, 'heart': 328, 'comment': 329, 'sort': 330, 'creat': 331, 'perhap': 332, 'came': 333, 'brother': 334, 'sever': 335, 'joke': 336, 'art': 337, 'dialogu': 338, 'game': 339, 'small': 340, 'base': 341, 'flick': 342, 'written': 343, 'sequenc': 344, 'meet': 345, 'earli': 346, 'often': 347, 'other': 348, 'mother': 349, 'develop': 350, 'humor': 351, 'actress': 352, 'consid': 353, 'dark': 354, 'guess': 355, 'amaz': 356, 'unfortun': 357, 'lost': 358, 'light': 359, 'exampl': 360, 'cinema': 361, 'drama': 362, 'ye': 363, 'white': 364, 'experi': 365, 'imagin': 366, 'mention': 367, 'stop': 368, 'natur': 369, 'forc': 370, 'manag': 371, 'felt': 372, 'present': 373, 'cut': 374, 'children': 375, 'fail': 376, 'son': 377, 'support': 378, 'qualiti': 379, 'car': 380, 'ask': 381, 'hit': 382, 'side': 383, 'voic': 384, 'extrem': 385, 'impress': 386, 'wors': 387, 'evil': 388, 'went': 389, 'stand': 390, 'certainli': 391, 'basic': 392, 'oh': 393, 'overal': 394, 'favorit': 395, 'horribl': 396, 'mysteri': 397, 'number': 398, 'type': 399, 'danc': 400, 'wait': 401, 'hero': 402, 'alreadi': 403, '5': 404, 'learn': 405, 'matter': 406, '4': 407, 'michael': 408, 'genr': 409, 'fine': 410, 'despit': 411, 'throughout': 412, 'walk': 413, 'success': 414, 'histori': 415, 'question': 416, 'zombi': 417, 'town': 418, 'relationship': 419, 'realiz': 420, 'child': 421, 'past': 422, 'daughter': 423, 'late': 424, 'b': 425, 'wish': 426, 'hate': 427, 'credit': 428, 'event': 429, 'theme': 430, 'touch': 431, 'citi': 432, 'today': 433, 'sometim': 434, 'behind': 435, 'god': 436, 'twist': 437, 'sit': 438, 'deal': 439, 'annoy': 440, 'stay': 441, 'abl': 442, 'rent': 443, 'pleas': 444, 'edit': 445, 'blood': 446, 'deserv': 447, 'comic': 448, 'anyway': 449, 'appar': 450, 'soon': 451, 'gave': 452, 'etc': 453, 'level': 454, 'slow': 455, 'chanc': 456, 'score': 457, 'bodi': 458, 'brilliant': 459, 'incred': 460, 'figur': 461, 'situat': 462, 'major': 463, 'self': 464, 'stuff': 465, 'decent': 466, 'element': 467, 'return': 468, 'dream': 469, 'obvious': 470, 'order': 471, 'continu': 472, 'pace': 473, 'ridicul': 474, 'happi': 475, 'group': 476, 'add': 477, 'highli': 478, 'thank': 479, 'ladi': 480, 'novel': 481, 'speak': 482, 'pain': 483, 'career': 484, 'shoot': 485, 'strang': 486, 'heard': 487, 'sad': 488, 'husband': 489, 'polic': 490, 'import': 491, 'break': 492, 'took': 493, 'cannot': 494, 'strong': 495, 'predict': 496, 'robert': 497, 'violenc': 498, 'hilari': 499, 'recent': 500, 'countri': 501, 'known': 502, 'particularli': 503, 'pick': 504, 'documentari': 505, 'season': 506, 'critic': 507, 'jame': 508, 'compar': 509, 'obviou': 510, 'alon': 511, 'told': 512, 'state': 513, 'visual': 514, 'rock': 515, 'exist': 516, 'theater': 517, 'offer': 518, 'opinion': 519, 'gore': 520, 'hold': 521, 'crap': 522, 'result': 523, 'realiti': 524, 'room': 525, 'hear': 526, 'effort': 527, 'clich': 528, 'thriller': 529, 'caus': 530, 'explain': 531, 'serious': 532, 'sequel': 533, 'king': 534, 'local': 535, 'ago': 536, 'none': 537, 'hell': 538, 'note': 539, 'allow': 540, 'sister': 541, 'david': 542, 'simpl': 543, 'femal': 544, 'deliv': 545, 'ok': 546, 'convinc': 547, 'class': 548, 'check': 549, 'suspens': 550, 'win': 551, 'oscar': 552, 'buy': 553, 'huge': 554, 'valu': 555, 'sexual': 556, 'scari': 557, 'cool': 558, 'similar': 559, 'excit': 560, 'apart': 561, 'exactli': 562, 'provid': 563, 'shown': 564, 'avoid': 565, 'seriou': 566, 'english': 567, 'taken': 568, 'whose': 569, 'cinematographi': 570, 'shock': 571, 'polit': 572, 'spoiler': 573, 'offic': 574, 'across': 575, 'middl': 576, 'pass': 577, 'street': 578, 'messag': 579, 'silli': 580, 'charm': 581, 'somewhat': 582, 'modern': 583, 'filmmak': 584, 'confus': 585, 'form': 586, 'tale': 587, 'singl': 588, 'jack': 589, 'mostli': 590, 'attent': 591, 'william': 592, 'carri': 593, 'sing': 594, 'five': 595, 'subject': 596, 'prove': 597, 'richard': 598, 'team': 599, 'stage': 600, 'unlik': 601, 'cop': 602, 'georg': 603, 'monster': 604, 'televis': 605, 'earth': 606, 'villain': 607, 'cover': 608, 'pay': 609, 'marri': 610, 'toward': 611, 'build': 612, 'pull': 613, 'parent': 614, 'due': 615, 'respect': 616, 'fill': 617, 'four': 618, 'dialog': 619, 'remind': 620, 'futur': 621, 'typic': 622, 'weak': 623, '7': 624, 'cheap': 625, 'intellig': 626, 'british': 627, 'atmospher': 628, 'clearli': 629, '80': 630, 'paul': 631, 'non': 632, 'dog': 633, '8': 634, 'artist': 635, 'fast': 636, 'knew': 637, 'crime': 638, 'easili': 639, 'escap': 640, 'adult': 641, 'doubt': 642, 'detail': 643, 'date': 644, 'fire': 645, 'member': 646, 'romant': 647, 'drive': 648, 'gun': 649, 'straight': 650, 'beyond': 651, 'fit': 652, 'attack': 653, 'imag': 654, 'upon': 655, 'posit': 656, 'whether': 657, 'peter': 658, 'fantast': 659, 'captur': 660, 'appreci': 661, 'aspect': 662, 'ten': 663, 'plan': 664, 'discov': 665, 'remain': 666, 'near': 667, 'period': 668, 'air': 669, 'realist': 670, 'mark': 671, 'red': 672, 'dull': 673, 'adapt': 674, 'within': 675, 'spend': 676, 'lose': 677, 'materi': 678, 'color': 679, 'chase': 680, 'mari': 681, 'storylin': 682, 'forget': 683, 'bunch': 684, 'clear': 685, 'lee': 686, 'victim': 687, 'nearli': 688, 'box': 689, 'york': 690, 'inspir': 691, 'match': 692, 'finish': 693, 'mess': 694, 'standard': 695, 'easi': 696, 'truth': 697, 'suffer': 698, 'busi': 699, 'space': 700, 'dramat': 701, 'bill': 702, 'western': 703, 'e': 704, 'list': 705, 'battl': 706, 'notic': 707, 'de': 708, 'french': 709, 'ad': 710, '9': 711, 'tom': 712, 'larg': 713, 'among': 714, 'eventu': 715, 'accept': 716, 'train': 717, 'agre': 718, 'spirit': 719, 'soundtrack': 720, 'third': 721, 'teenag': 722, 'soldier': 723, 'adventur': 724, 'famou': 725, 'suggest': 726, 'sorri': 727, 'drug': 728, 'normal': 729, 'cri': 730, 'babi': 731, 'ultim': 732, 'troubl': 733, 'contain': 734, 'certain': 735, 'cultur': 736, 'romanc': 737, 'rare': 738, 'lame': 739, 'somehow': 740, 'mix': 741, 'disney': 742, 'gone': 743, 'cartoon': 744, 'student': 745, 'fear': 746, 'reveal': 747, 'kept': 748, 'suck': 749, 'attract': 750, 'appeal': 751, 'premis': 752, 'greatest': 753, 'secret': 754, 'design': 755, 'shame': 756, 'throw': 757, 'copi': 758, 'scare': 759, 'wit': 760, 'admit': 761, 'america': 762, 'brought': 763, 'relat': 764, 'particular': 765, 'screenplay': 766, 'whatev': 767, 'pure': 768, '70': 769, 'averag': 770, 'harri': 771, 'master': 772, 'describ': 773, 'male': 774, 'treat': 775, '20': 776, 'fantasi': 777, 'issu': 778, 'warn': 779, 'inde': 780, 'forward': 781, 'background': 782, 'project': 783, 'free': 784, 'memor': 785, 'japanes': 786, 'poorli': 787, 'award': 788, 'locat': 789, 'amus': 790, 'potenti': 791, 'struggl': 792, 'magic': 793, 'weird': 794, 'societi': 795, 'okay': 796, 'accent': 797, 'imdb': 798, 'doctor': 799, 'water': 800, 'hot': 801, '30': 802, 'express': 803, 'dr': 804, 'alien': 805, 'odd': 806, 'crazi': 807, 'choic': 808, 'fiction': 809, 'studio': 810, 'control': 811, 'becam': 812, 'masterpiec': 813, 'fli': 814, 'difficult': 815, 'joe': 816, 'scream': 817, 'costum': 818, 'lover': 819, 'refer': 820, 'uniqu': 821, 'remak': 822, 'vampir': 823, 'girlfriend': 824, 'prison': 825, 'execut': 826, 'wear': 827, 'jump': 828, 'unless': 829, 'wood': 830, 'creepi': 831, 'cheesi': 832, 'superb': 833, 'otherwis': 834, 'parti': 835, 'roll': 836, 'ghost': 837, 'mad': 838, 'public': 839, 'depict': 840, 'week': 841, 'moral': 842, 'earlier': 843, 'badli': 844, 'jane': 845, 'fi': 846, 'dumb': 847, 'grow': 848, 'flaw': 849, 'deep': 850, 'sci': 851, 'cat': 852, 'maker': 853, 'connect': 854, 'older': 855, 'footag': 856, 'plenti': 857, 'bother': 858, 'outsid': 859, 'stick': 860, 'gay': 861, 'catch': 862, 'plu': 863, 'co': 864, 'popular': 865, 'equal': 866, 'social': 867, 'quickli': 868, 'disturb': 869, 'perfectli': 870, 'dress': 871, '90': 872, 'era': 873, 'mistak': 874, 'lie': 875, 'ride': 876, 'previou': 877, 'combin': 878, 'band': 879, 'concept': 880, 'surviv': 881, 'answer': 882, 'rich': 883, 'front': 884, 'sweet': 885, 'christma': 886, 'insid': 887, 'eat': 888, 'bare': 889, 'concern': 890, 'ben': 891, 'listen': 892, 'beat': 893, 'c': 894, 'term': 895, 'serv': 896, 'la': 897, 'meant': 898, 'german': 899, 'stereotyp': 900, 'hardli': 901, 'innoc': 902, 'law': 903, 'desper': 904, 'memori': 905, 'promis': 906, 'intent': 907, 'cute': 908, 'steal': 909, 'inform': 910, 'variou': 911, 'brain': 912, 'post': 913, 'tone': 914, 'island': 915, 'amount': 916, 'nuditi': 917, 'compani': 918, 'track': 919, 'claim': 920, 'store': 921, '50': 922, 'flat': 923, 'hair': 924, 'univers': 925, 'land': 926, 'fairli': 927, 'kick': 928, 'danger': 929, 'scott': 930, 'player': 931, 'crew': 932, 'step': 933, 'plain': 934, 'toni': 935, 'share': 936, 'centuri': 937, 'tast': 938, 'engag': 939, 'achiev': 940, 'travel': 941, 'cold': 942, 'rip': 943, 'record': 944, 'suit': 945, 'sadli': 946, 'manner': 947, 'spot': 948, 'tension': 949, 'wrote': 950, 'fascin': 951, 'intens': 952, 'familiar': 953, 'depth': 954, 'remark': 955, 'burn': 956, 'destroy': 957, 'histor': 958, 'sleep': 959, 'purpos': 960, 'languag': 961, 'ignor': 962, 'ruin': 963, 'delight': 964, 'italian': 965, 'unbeliev': 966, 'abil': 967, 'soul': 968, 'collect': 969, 'clever': 970, 'detect': 971, 'violent': 972, 'rape': 973, 'reach': 974, 'door': 975, 'scienc': 976, 'trash': 977, 'liter': 978, 'commun': 979, 'caught': 980, 'reveng': 981, 'creatur': 982, 'approach': 983, 'trip': 984, 'fashion': 985, 'intrigu': 986, 'skill': 987, 'paint': 988, 'introduc': 989, 'complex': 990, 'channel': 991, 'camp': 992, 'christian': 993, 'extra': 994, 'hole': 995, 'mental': 996, 'immedi': 997, 'ann': 998, 'limit': 999, '6': 1000, 'mere': 1001, 'comput': 1002, 'million': 1003, 'slightli': 1004, 'slasher': 1005, 'conclus': 1006, 'imposs': 1007, 'suddenli': 1008, 'teen': 1009, 'crimin': 1010, 'neither': 1011, 'spent': 1012, 'nation': 1013, 'physic': 1014, 'respons': 1015, 'planet': 1016, 'fake': 1017, 'receiv': 1018, 'blue': 1019, 'sick': 1020, 'bizarr': 1021, 'embarrass': 1022, 'indian': 1023, 'ring': 1024, '15': 1025, 'drop': 1026, 'pop': 1027, 'drag': 1028, 'haunt': 1029, 'pointless': 1030, 'suspect': 1031, 'edg': 1032, 'search': 1033, 'handl': 1034, 'common': 1035, 'biggest': 1036, 'faith': 1037, 'arriv': 1038, 'hurt': 1039, 'technic': 1040, 'angel': 1041, 'genuin': 1042, 'dad': 1043, 'solid': 1044, 'awesom': 1045, 'f': 1046, 'van': 1047, 'focu': 1048, 'colleg': 1049, 'former': 1050, 'count': 1051, 'heavi': 1052, 'tear': 1053, 'wall': 1054, 'rais': 1055, 'laughabl': 1056, 'visit': 1057, 'younger': 1058, 'fair': 1059, 'sign': 1060, 'excus': 1061, 'cult': 1062, 'tough': 1063, 'key': 1064, 'motion': 1065, 'super': 1066, 'desir': 1067, 'addit': 1068, 'stun': 1069, 'exploit': 1070, 'cloth': 1071, 'smith': 1072, 'tortur': 1073, 'race': 1074, 'davi': 1075, 'author': 1076, 'cross': 1077, 'jim': 1078, 'minor': 1079, 'consist': 1080, 'compel': 1081, 'focus': 1082, 'commit': 1083, 'pathet': 1084, 'chemistri': 1085, 'park': 1086, 'frank': 1087, 'obsess': 1088, 'tradit': 1089, 'grade': 1090, '60': 1091, 'asid': 1092, 'brutal': 1093, 'somewher': 1094, 'steve': 1095, 'depress': 1096, 'u': 1097, 'grant': 1098, 'rule': 1099, 'explor': 1100, 'opportun': 1101, 'honest': 1102, 'besid': 1103, 'anti': 1104, 'dub': 1105, 'trailer': 1106, 'intend': 1107, 'bar': 1108, 'longer': 1109, 'regard': 1110, 'scientist': 1111, 'west': 1112, 'decad': 1113, 'judg': 1114, 'silent': 1115, 'armi': 1116, 'creativ': 1117, 'wild': 1118, 'g': 1119, 'stewart': 1120, 'south': 1121, 'draw': 1122, 'road': 1123, 'govern': 1124, 'ex': 1125, 'boss': 1126, 'practic': 1127, 'surprisingli': 1128, 'club': 1129, 'motiv': 1130, 'gang': 1131, 'festiv': 1132, 'green': 1133, 'page': 1134, 'london': 1135, 'redeem': 1136, 'militari': 1137, 'aliv': 1138, 'idiot': 1139, 'machin': 1140, 'display': 1141, 'thrill': 1142, 'repeat': 1143, 'yeah': 1144, 'nobodi': 1145, 'folk': 1146, '100': 1147, '40': 1148, 'journey': 1149, 'garbag': 1150, 'ground': 1151, 'smile': 1152, 'tire': 1153, 'mood': 1154, 'bought': 1155, 'stone': 1156, 'cost': 1157, 'sam': 1158, 'noir': 1159, 'mouth': 1160, 'agent': 1161, 'terrif': 1162, 'requir': 1163, 'utterli': 1164, 'area': 1165, 'honestli': 1166, 'sexi': 1167, 'geniu': 1168, 'report': 1169, 'enter': 1170, 'glad': 1171, 'humour': 1172, 'investig': 1173, 'serial': 1174, 'narr': 1175, 'occasion': 1176, 'passion': 1177, 'climax': 1178, 'marriag': 1179, 'studi': 1180, 'industri': 1181, 'center': 1182, 'demon': 1183, 'nowher': 1184, 'charli': 1185, 'ship': 1186, 'hors': 1187, 'loos': 1188, 'bear': 1189, 'wow': 1190, 'hang': 1191, 'graphic': 1192, 'giant': 1193, 'admir': 1194, 'send': 1195, 'damn': 1196, 'loud': 1197, 'subtl': 1198, 'profession': 1199, 'nake': 1200, 'rel': 1201, 'blow': 1202, 'bottom': 1203, 'batman': 1204, 'insult': 1205, 'boyfriend': 1206, 'kelli': 1207, 'doubl': 1208, 'r': 1209, 'initi': 1210, 'frame': 1211, 'gem': 1212, 'opera': 1213, 'church': 1214, 'affect': 1215, 'cinemat': 1216, 'drawn': 1217, 'challeng': 1218, 'seek': 1219, 'j': 1220, 'l': 1221, 'fulli': 1222, 'evid': 1223, 'nightmar': 1224, 'essenti': 1225, 'arm': 1226, 'conflict': 1227, 'wind': 1228, 'grace': 1229, 'christoph': 1230, 'henri': 1231, 'narrat': 1232, 'assum': 1233, 'witch': 1234, 'hunt': 1235, 'push': 1236, 'wise': 1237, 'chri': 1238, 'nomin': 1239, 'repres': 1240, 'month': 1241, 'avail': 1242, 'sceneri': 1243, 'affair': 1244, 'hide': 1245, 'bond': 1246, 'thu': 1247, 'smart': 1248, 'justic': 1249, 'interview': 1250, 'outstand': 1251, 'flashback': 1252, 'presenc': 1253, 'constantli': 1254, 'satisfi': 1255, 'bed': 1256, 'central': 1257, 'sell': 1258, 'content': 1259, 'iron': 1260, 'gag': 1261, 'everybodi': 1262, 'slowli': 1263, 'hotel': 1264, 'hire': 1265, 'system': 1266, 'adam': 1267, 'thrown': 1268, 'charl': 1269, 'hey': 1270, 'individu': 1271, 'mediocr': 1272, 'allen': 1273, 'jone': 1274, 'billi': 1275, 'ray': 1276, 'lesson': 1277, 'cameo': 1278, 'photographi': 1279, 'fellow': 1280, 'pari': 1281, 'strike': 1282, 'brief': 1283, 'absurd': 1284, 'independ': 1285, 'rise': 1286, 'neg': 1287, 'phone': 1288, 'impact': 1289, 'ill': 1290, 'model': 1291, 'born': 1292, 'spoil': 1293, 'fresh': 1294, 'angl': 1295, 'likabl': 1296, 'abus': 1297, 'discuss': 1298, 'hill': 1299, 'sight': 1300, 'ahead': 1301, 'photograph': 1302, 'sent': 1303, 'occur': 1304, 'shine': 1305, 'blame': 1306, 'logic': 1307, 'bruce': 1308, 'mainli': 1309, 'forev': 1310, 'skip': 1311, 'commerci': 1312, 'segment': 1313, 'held': 1314, 'teacher': 1315, 'surround': 1316, 'zero': 1317, 'blond': 1318, 'trap': 1319, 'summer': 1320, 'resembl': 1321, 'satir': 1322, 'queen': 1323, 'ball': 1324, 'six': 1325, 'fool': 1326, 'twice': 1327, 'sub': 1328, 'tragedi': 1329, 'pack': 1330, 'reaction': 1331, 'bomb': 1332, 'will': 1333, 'hospit': 1334, 'protagonist': 1335, 'mile': 1336, 'sport': 1337, 'mom': 1338, 'trust': 1339, 'vote': 1340, 'jerri': 1341, 'drink': 1342, 'encount': 1343, 'plane': 1344, 'al': 1345, 'current': 1346, 'station': 1347, 'program': 1348, 'celebr': 1349, 'martin': 1350, 'choos': 1351, 'join': 1352, 'field': 1353, 'round': 1354, 'favourit': 1355, 'tragic': 1356, 'lord': 1357, 'robot': 1358, 'vision': 1359, 'jean': 1360, 'tie': 1361, 'arthur': 1362, 'fortun': 1363, 'random': 1364, 'roger': 1365, 'dread': 1366, 'intern': 1367, 'psycholog': 1368, 'prefer': 1369, 'improv': 1370, 'nonsens': 1371, 'epic': 1372, 'legend': 1373, 'highlight': 1374, 'pleasur': 1375, 'formula': 1376, '11': 1377, 'tape': 1378, 'dollar': 1379, 'gorgeou': 1380, 'thin': 1381, 'fox': 1382, 'porn': 1383, 'wide': 1384, 'object': 1385, 'buddi': 1386, 'influenc': 1387, 'ugli': 1388, 'nasti': 1389, 'prepar': 1390, 'ii': 1391, 'reflect': 1392, 'supposedli': 1393, 'progress': 1394, 'warm': 1395, 'youth': 1396, 'worthi': 1397, 'latter': 1398, 'unusu': 1399, 'length': 1400, 'crash': 1401, 'childhood': 1402, 'superior': 1403, 'seven': 1404, 'shop': 1405, 'theatr': 1406, 'remot': 1407, 'pilot': 1408, 'funniest': 1409, 'paid': 1410, 'disgust': 1411, 'convers': 1412, 'castl': 1413, 'trick': 1414, 'fell': 1415, 'gangster': 1416, 'disast': 1417, 'establish': 1418, 'rob': 1419, 'ident': 1420, 'suicid': 1421, 'disappear': 1422, 'mine': 1423, 'heaven': 1424, 'forgotten': 1425, 'heroin': 1426, 'singer': 1427, 'decis': 1428, 'tend': 1429, 'mask': 1430, 'partner': 1431, 'brian': 1432, 'recogn': 1433, 'desert': 1434, 'alan': 1435, 'thoroughli': 1436, 'sky': 1437, 'p': 1438, 'ms': 1439, 'stuck': 1440, 'replac': 1441, 'accur': 1442, 'market': 1443, 'seemingli': 1444, 'andi': 1445, 'clue': 1446, 'eddi': 1447, 'commentari': 1448, 'uncl': 1449, 'danni': 1450, 'jackson': 1451, 'devil': 1452, 'therefor': 1453, 'refus': 1454, 'pair': 1455, 'that': 1456, 'fault': 1457, 'unit': 1458, 'ed': 1459, 'accid': 1460, 'fate': 1461, 'river': 1462, 'afraid': 1463, 'tune': 1464, 'russian': 1465, 'hidden': 1466, 'clean': 1467, 'stephen': 1468, 'test': 1469, 'quick': 1470, 'readi': 1471, 'instanc': 1472, 'captain': 1473, 'irrit': 1474, 'convey': 1475, 'european': 1476, 'insan': 1477, 'frustrat': 1478, 'daniel': 1479, 'food': 1480, '1950': 1481, 'rescu': 1482, 'wed': 1483, 'chines': 1484, 'dirti': 1485, 'lock': 1486, 'angri': 1487, 'joy': 1488, 'price': 1489, 'steven': 1490, 'cage': 1491, 'bland': 1492, 'rang': 1493, 'anymor': 1494, 'wooden': 1495, 'rush': 1496, 'n': 1497, 'news': 1498, 'jason': 1499, 'twenti': 1500, '12': 1501, 'led': 1502, 'martial': 1503, 'worri': 1504, 'board': 1505, 'transform': 1506, 'symbol': 1507, 'hunter': 1508, 'cgi': 1509, 'onto': 1510, 'johnni': 1511, 'sentiment': 1512, 'piti': 1513, 'x': 1514, 'invent': 1515, 'attitud': 1516, 'process': 1517, 'explan': 1518, 'owner': 1519, 'awar': 1520, 'aim': 1521, 'target': 1522, 'floor': 1523, 'necessari': 1524, 'favor': 1525, 'energi': 1526, 'opposit': 1527, 'religi': 1528, 'insight': 1529, 'chick': 1530, 'window': 1531, 'blind': 1532, 'movement': 1533, 'possess': 1534, 'comparison': 1535, 'research': 1536, 'deepli': 1537, 'mountain': 1538, 'grand': 1539, 'comed': 1540, 'whatsoev': 1541, 'rain': 1542, 'began': 1543, 'mid': 1544, 'shadow': 1545, 'bank': 1546, 'parodi': 1547, 'princ': 1548, 'credibl': 1549, 'friendship': 1550, 'pre': 1551, 'weapon': 1552, 'taylor': 1553, 'teach': 1554, 'flesh': 1555, 'dougla': 1556, 'bloodi': 1557, 'hint': 1558, 'terror': 1559, 'protect': 1560, 'marvel': 1561, 'watchabl': 1562, 'load': 1563, 'drunk': 1564, 'anybodi': 1565, 'superman': 1566, 'leader': 1567, 'accord': 1568, 'brown': 1569, 'freddi': 1570, 'seat': 1571, 'jeff': 1572, 'appropri': 1573, 'tim': 1574, 'hitler': 1575, 'villag': 1576, 'keaton': 1577, 'charg': 1578, 'knock': 1579, 'unknown': 1580, 'media': 1581, 'england': 1582, 'empti': 1583, 'enemi': 1584, 'unnecessari': 1585, 'buck': 1586, 'dare': 1587, 'strength': 1588, 'craft': 1589, 'utter': 1590, 'wave': 1591, 'perspect': 1592, 'correct': 1593, 'contrast': 1594, 'ford': 1595, 'nativ': 1596, 'kiss': 1597, 'anywher': 1598, 'magnific': 1599, 'distract': 1600, 'soap': 1601, 'chill': 1602, 'speed': 1603, 'knowledg': 1604, 'nazi': 1605, '1980': 1606, 'ice': 1607, 'breath': 1608, 'mission': 1609, 'fred': 1610, 'moon': 1611, 'joan': 1612, 'crowd': 1613, 'jr': 1614, 'frighten': 1615, '000': 1616, 'soft': 1617, 'kate': 1618, 'dick': 1619, 'hundr': 1620, 'nick': 1621, 'dan': 1622, 'simon': 1623, 'dozen': 1624, 'somebodi': 1625, 'radio': 1626, 'thousand': 1627, 'loss': 1628, 'academi': 1629, 'shakespear': 1630, 'andrew': 1631, 'sum': 1632, 'root': 1633, 'account': 1634, 'quot': 1635, 'vehicl': 1636, '1970': 1637, 'behavior': 1638, 'convent': 1639, 'leg': 1640, 'gold': 1641, 'regular': 1642, 'worker': 1643, 'pretenti': 1644, 'demand': 1645, 'compet': 1646, 'privat': 1647, 'explos': 1648, 'stretch': 1649, 'lynch': 1650, 'candi': 1651, 'japan': 1652, 'interpret': 1653, 'notabl': 1654, 'constant': 1655, 'tarzan': 1656, 'debut': 1657, 'revolv': 1658, 'spi': 1659, 'sea': 1660, 'translat': 1661, 'prais': 1662, 'threaten': 1663, 'sat': 1664, 'failur': 1665, 'ass': 1666, 'quiet': 1667, 'jesu': 1668, 'franc': 1669, 'technolog': 1670, 'higher': 1671, 'punch': 1672, 'kevin': 1673, 'met': 1674, 'aid': 1675, 'toy': 1676, 'abandon': 1677, 'interact': 1678, 'mike': 1679, 'vh': 1680, 'separ': 1681, 'confront': 1682, 'bet': 1683, 'command': 1684, 'recal': 1685, 'servic': 1686, 'site': 1687, 'stunt': 1688, 'gotten': 1689, 'belong': 1690, 'techniqu': 1691, 'freak': 1692, 'bug': 1693, 'foot': 1694, 'cabl': 1695, 'bright': 1696, 'african': 1697, 'capabl': 1698, 'jimmi': 1699, 'fu': 1700, 'clark': 1701, 'boat': 1702, 'succeed': 1703, 'fat': 1704, 'presid': 1705, 'stock': 1706, 'structur': 1707, 'spanish': 1708, 'gene': 1709, 'paper': 1710, 'kidnap': 1711, 'belief': 1712, 'whilst': 1713, 'factor': 1714, 'attend': 1715, 'bob': 1716, 'educ': 1717, 'realism': 1718, 'realis': 1719, 'tree': 1720, 'complic': 1721, 'witti': 1722, 'finest': 1723, 'assist': 1724, 'santa': 1725, 'broken': 1726, 'observ': 1727, 'v': 1728, 'up': 1729, 'determin': 1730, 'smoke': 1731, 'depart': 1732, 'fame': 1733, 'routin': 1734, 'lewi': 1735, 'domin': 1736, 'rubbish': 1737, 'hat': 1738, 'oper': 1739, 'foreign': 1740, 'safe': 1741, 'lone': 1742, 'advanc': 1743, 'morgan': 1744, 'hook': 1745, 'kinda': 1746, 'rank': 1747, 'numer': 1748, 'shape': 1749, 'vs': 1750, 'shallow': 1751, 'washington': 1752, 'civil': 1753, 'rose': 1754, 'werewolf': 1755, 'gari': 1756, 'morn': 1757, 'winner': 1758, 'ordinari': 1759, 'accomplish': 1760, 'kong': 1761, 'peac': 1762, 'virtual': 1763, 'whenev': 1764, 'grab': 1765, 'luck': 1766, 'h': 1767, 'offens': 1768, 'contriv': 1769, 'bigger': 1770, 'patient': 1771, 'welcom': 1772, 'complain': 1773, 'activ': 1774, 'unfunni': 1775, 'con': 1776, 'trek': 1777, 'dimension': 1778, 'pretend': 1779, 'flash': 1780, 'lesbian': 1781, 'dri': 1782, 'eric': 1783, 'cain': 1784, 'code': 1785, 'wake': 1786, 'statu': 1787, 'albert': 1788, 'manipul': 1789, 'dancer': 1790, 'guard': 1791, 'corrupt': 1792, 'sourc': 1793, 'speech': 1794, 'gain': 1795, 'awkward': 1796, 'context': 1797, 'signific': 1798, 'clip': 1799, 'psycho': 1800, 'anthoni': 1801, '13': 1802, 'corni': 1803, 'sean': 1804, 'theatric': 1805, 'reli': 1806, 'religion': 1807, 'w': 1808, 'curiou': 1809, 'priest': 1810, 'advic': 1811, 'flow': 1812, 'addict': 1813, 'secur': 1814, 'specif': 1815, 'asian': 1816, 'skin': 1817, 'jennif': 1818, 'howard': 1819, 'core': 1820, 'promot': 1821, 'comfort': 1822, 'golden': 1823, 'organ': 1824, 'luke': 1825, 'cash': 1826, 'lucki': 1827, 'cheat': 1828, 'dislik': 1829, 'lower': 1830, 'associ': 1831, 'contribut': 1832, 'devic': 1833, 'spell': 1834, 'balanc': 1835, 'frequent': 1836, 'degre': 1837, 'frankli': 1838, 'wing': 1839, 'regret': 1840, 'sake': 1841, 'print': 1842, 'forgiv': 1843, 'lake': 1844, 'betti': 1845, 'thoma': 1846, 'mass': 1847, 'unexpect': 1848, 'gordon': 1849, 'crack': 1850, 'construct': 1851, 'amateur': 1852, 'unfold': 1853, 'categori': 1854, 'grown': 1855, 'depend': 1856, 'invit': 1857, 'anna': 1858, 'walter': 1859, 'condit': 1860, 'honor': 1861, 'matur': 1862, 'grew': 1863, 'intellectu': 1864, 'spectacular': 1865, 'sole': 1866, 'veteran': 1867, 'sudden': 1868, 'mirror': 1869, 'liner': 1870, 'gift': 1871, 'experienc': 1872, 'overli': 1873, 'card': 1874, 'grip': 1875, 'freedom': 1876, 'demonstr': 1877, 'meanwhil': 1878, 'robin': 1879, 'oliv': 1880, 'sheriff': 1881, 'circumst': 1882, 'brilliantli': 1883, 'theori': 1884, 'drew': 1885, 'crappi': 1886, 'unabl': 1887, 'subtitl': 1888, 'section': 1889, 'colour': 1890, 'sheer': 1891, 'path': 1892, 'altern': 1893, 'matt': 1894, 'laughter': 1895, 'cook': 1896, 'pile': 1897, 'parker': 1898, 'treatment': 1899, 'hall': 1900, 'wander': 1901, 'sinatra': 1902, 'accident': 1903, 'lawyer': 1904, 'relief': 1905, 'defin': 1906, 'captiv': 1907, 'dragon': 1908, 'hank': 1909, 'moor': 1910, 'gratuit': 1911, 'halloween': 1912, 'wound': 1913, 'unintent': 1914, 'k': 1915, 'barbara': 1916, 'jacki': 1917, 'wayn': 1918, 'broadway': 1919, 'cowboy': 1920, 'kung': 1921, 'spoof': 1922, 'canadian': 1923, 'winter': 1924, 'surreal': 1925, 'statement': 1926, 'compos': 1927, 'cheer': 1928, 'gonna': 1929, 'fish': 1930, 'treasur': 1931, 'fare': 1932, 'sensit': 1933, 'unrealist': 1934, 'emerg': 1935, 'victor': 1936, 'woodi': 1937, 'driven': 1938, 'sympathet': 1939, 'ran': 1940, 'neighbor': 1941, 'authent': 1942, 'overlook': 1943, 'glass': 1944, 'menac': 1945, 'topic': 1946, 'expos': 1947, 'chief': 1948, 'michel': 1949, 'gross': 1950, 'handsom': 1951, 'ancient': 1952, 'feet': 1953, 'stranger': 1954, 'network': 1955, 'nevertheless': 1956, 'built': 1957, 'contemporari': 1958, 'russel': 1959, 'pleasant': 1960, 'comedian': 1961, 'cinderella': 1962, 'underr': 1963, 'earn': 1964, 'gori': 1965, 'blockbust': 1966, 'consider': 1967, 'endless': 1968, 'letter': 1969, 'miser': 1970, 'switch': 1971, 'brook': 1972, 'solv': 1973, 'edward': 1974, 'joseph': 1975, 'victoria': 1976, 'convict': 1977, 'bullet': 1978, 'virgin': 1979, 'scenario': 1980, 'scale': 1981, 'chosen': 1982, 'alex': 1983, '0': 1984, 'cynic': 1985, 'gut': 1986, 'curs': 1987, 'sword': 1988, 'com': 1989, 'outrag': 1990, 'screenwrit': 1991, 'uk': 1992, 'driver': 1993, 'wrap': 1994, 'proper': 1995, 'substanc': 1996, 'juli': 1997, 'monkey': 1998, 'indic': 1999, 'remov': 2000, 'par': 2001, 'bird': 2002, 'court': 2003, 'naiv': 2004, 'loser': 2005, 'consequ': 2006, 'grave': 2007, 'advertis': 2008, 'nanci': 2009, 'inevit': 2010, 'roy': 2011, 'rental': 2012, 'brave': 2013, 'bridg': 2014, 'slap': 2015, 'fatal': 2016, 'invis': 2017, 'germani': 2018, 'le': 2019, 'anger': 2020, 'provok': 2021, 'loui': 2022, 'footbal': 2023, 'ador': 2024, 'chan': 2025, 'anderson': 2026, 'alcohol': 2027, 'professor': 2028, 'willi': 2029, 'stumbl': 2030, 'ryan': 2031, '1930': 2032, 'patrick': 2033, 'bat': 2034, 'sharp': 2035, 'assassin': 2036, 'australian': 2037, 'amateurish': 2038, 'deni': 2039, 'strongli': 2040, 'refresh': 2041, 'liber': 2042, 'lousi': 2043, 'trilog': 2044, 'saturday': 2045, 'cell': 2046, 'eight': 2047, 'heck': 2048, 'ape': 2049, 'sin': 2050, 'justifi': 2051, 'san': 2052, 'resid': 2053, 'vagu': 2054, 'terrifi': 2055, 'defeat': 2056, 'reput': 2057, 'mini': 2058, 'indi': 2059, 'sympathi': 2060, 'creator': 2061, 'endur': 2062, 'prevent': 2063, 'tediou': 2064, 'task': 2065, 'tabl': 2066, 'expert': 2067, 'imit': 2068, 'employ': 2069, 'offend': 2070, 'trial': 2071, 'rival': 2072, 'che': 2073, 'basebal': 2074, 'fairi': 2075, 'beach': 2076, 'weekend': 2077, 'max': 2078, 'complaint': 2079, 'pitch': 2080, 'dig': 2081, 'europ': 2082, 'format': 2083, 'risk': 2084, 'purchas': 2085, 'murphi': 2086, 'nois': 2087, 'hype': 2088, 'harsh': 2089, 'reminisc': 2090, 'powel': 2091, 'tini': 2092, 'titan': 2093, 'bite': 2094, 'glimps': 2095, 'asleep': 2096, 'prime': 2097, 'fals': 2098, 'till': 2099, '14': 2100, 'strip': 2101, 'north': 2102, 'revel': 2103, 'descript': 2104, 'texa': 2105, 'destruct': 2106, 'africa': 2107, 'surfac': 2108, 'excess': 2109, 'spin': 2110, 'semi': 2111, 'inner': 2112, 'uninterest': 2113, 'sitcom': 2114, 'arrest': 2115, 'argu': 2116, 'hitchcock': 2117, 'makeup': 2118, 'dinosaur': 2119, 'massiv': 2120, 'maintain': 2121, 'twin': 2122, 'controversi': 2123, 'kim': 2124, 'ludicr': 2125, 'melodrama': 2126, 'ideal': 2127, 'reject': 2128, 'stare': 2129, 'expens': 2130, 'insist': 2131, 'supernatur': 2132, 'atroci': 2133, 'subplot': 2134, 'press': 2135, 'erot': 2136, 'nail': 2137, 'ala': 2138, 'ga': 2139, 'forest': 2140, 'host': 2141, 'columbo': 2142, 'cant': 2143, 'dude': 2144, 'identifi': 2145, 'presum': 2146, 'notch': 2147, 'method': 2148, 'guest': 2149, 'forgett': 2150, 'character': 2151, 'closer': 2152, 'plagu': 2153, 'crude': 2154, 'beast': 2155, 'ear': 2156, 'border': 2157, 'lion': 2158, 'landscap': 2159, 'princess': 2160, 'foster': 2161, 'damag': 2162, 'storytel': 2163, 'urban': 2164, 'previous': 2165, 'pacino': 2166, 'aunt': 2167, 'bound': 2168, 'birth': 2169, 'accus': 2170, 'jungl': 2171, 'thirti': 2172, 'nude': 2173, 'emma': 2174, 'doll': 2175, 'jess': 2176, 'chose': 2177, 'propaganda': 2178, 'guid': 2179, '25': 2180, 'pet': 2181, 'whoever': 2182, 'mainstream': 2183, 'mate': 2184, 'warrior': 2185, 'gritti': 2186, 'upset': 2187, 'exact': 2188, 'latest': 2189, 'size': 2190, 'poster': 2191, 'friday': 2192, 'cooper': 2193, 'merit': 2194, 'deadli': 2195, 'corps': 2196, 'rough': 2197, 'sun': 2198, 'wilson': 2199, 'ton': 2200, 'contest': 2201, '1990': 2202, 'blend': 2203, 'warner': 2204, 'popul': 2205, 'contact': 2206, 'buff': 2207, 'settl': 2208, 'citizen': 2209, 'overcom': 2210, 'widow': 2211, 'mgm': 2212, 'bu': 2213, 'metal': 2214, 'pitt': 2215, 'select': 2216, 'environ': 2217, 'rat': 2218, 'alic': 2219, 'revolut': 2220, 'lift': 2221, 'particip': 2222, 'link': 2223, 'guilti': 2224, 'ted': 2225, 'prostitut': 2226, 'johnson': 2227, 'moron': 2228, 'matrix': 2229, 'corpor': 2230, '1960': 2231, 'accompani': 2232, 'exagger': 2233, 'afternoon': 2234, 'corner': 2235, 'friendli': 2236, 'holm': 2237, 'doom': 2238, 'instal': 2239, 'multipl': 2240, 'leagu': 2241, 'sincer': 2242, 'clair': 2243, 'hood': 2244, 'campi': 2245, 'defend': 2246, 'junk': 2247, 'aka': 2248, 'string': 2249, 'advis': 2250, 'grim': 2251, 'sunday': 2252, 'irish': 2253, 'lugosi': 2254, 'hip': 2255, 'blah': 2256, 'examin': 2257, 'icon': 2258, 'pro': 2259, 'shake': 2260, 'confid': 2261, 'tight': 2262, 'shut': 2263, 'varieti': 2264, 'rachel': 2265, 'attach': 2266, 'mexican': 2267, 'goal': 2268, 'jaw': 2269, 'medic': 2270, 'sullivan': 2271, 'directli': 2272, 'denni': 2273, 'vietnam': 2274, 'sarah': 2275, 'prior': 2276, 'legendari': 2277, 'breast': 2278, 'courag': 2279, 'sentenc': 2280, 'dean': 2281, 'truck': 2282, 'terrorist': 2283, 'duke': 2284, 'bourn': 2285, 'proceed': 2286, 'nose': 2287, 'entri': 2288, 'un': 2289, 'behav': 2290, 'split': 2291, 'donald': 2292, 'hong': 2293, 'yell': 2294, 'confess': 2295, 'crush': 2296, 'stolen': 2297, 'jerk': 2298, 'lifetim': 2299, 'everywher': 2300, 'buri': 2301, 'swim': 2302, 'borrow': 2303, 'forth': 2304, 'unconvinc': 2305, 'concentr': 2306, 'gather': 2307, 'deliveri': 2308, 'turkey': 2309, 'california': 2310, 'spite': 2311, 'julia': 2312, 'lip': 2313, 'pan': 2314, 'downright': 2315, 'reward': 2316, 'china': 2317, 'offici': 2318, 'proud': 2319, 'quest': 2320, 'freeman': 2321, 'hoffman': 2322, 'flight': 2323, 'fade': 2324, 'fabul': 2325, 'worthwhil': 2326, 'notori': 2327, 'betray': 2328, 'inept': 2329, 'jon': 2330, 'sir': 2331, 'jail': 2332, 'encourag': 2333, 'sink': 2334, 'lazi': 2335, 'susan': 2336, 'shower': 2337, 'storm': 2338, 'imageri': 2339, 'survivor': 2340, 'bell': 2341, 'lisa': 2342, 'teeth': 2343, 'retard': 2344, 'bag': 2345, 'relev': 2346, 'cousin': 2347, 'branagh': 2348, 'facial': 2349, 'trade': 2350, 'finger': 2351, 'summari': 2352, 'alright': 2353, 'toler': 2354, 'quirki': 2355, 'stab': 2356, 'mexico': 2357, 'tremend': 2358, 'hugh': 2359, 'bride': 2360, 'shark': 2361, 'blown': 2362, 'bitter': 2363, 'hyster': 2364, 'von': 2365, 'pose': 2366, 'ha': 2367, 'scheme': 2368, 'christ': 2369, 'bone': 2370, 'ron': 2371, 'afterward': 2372, 'larri': 2373, 'cruel': 2374, 'address': 2375, 'ned': 2376, 'pursu': 2377, 'traci': 2378, 'beg': 2379, 'distinct': 2380, 'feed': 2381, 'swear': 2382, 'screw': 2383, 'thumb': 2384, 'tour': 2385, 'snake': 2386, 'photo': 2387, 'chair': 2388, 'mechan': 2389, 'raw': 2390, 'occas': 2391, 'obscur': 2392, 'stomach': 2393, 'chain': 2394, 'argument': 2395, 'sidney': 2396, 'gruesom': 2397, 'render': 2398, 'necessarili': 2399, 'holiday': 2400, 'heavili': 2401, 'hardi': 2402, 'southern': 2403, 'resist': 2404, 'cabin': 2405, 'philip': 2406, 'satan': 2407, 'racist': 2408, 'indulg': 2409, 'india': 2410, 'understood': 2411, 'fourth': 2412, 'obnoxi': 2413, 'tongu': 2414, 'outfit': 2415, 'lay': 2416, 'belov': 2417, 'stalk': 2418, 'integr': 2419, 'forgot': 2420, 'pregnant': 2421, 'midnight': 2422, 'garden': 2423, 'magazin': 2424, 'restor': 2425, 'deeper': 2426, 'inhabit': 2427, 'ticket': 2428, 'carol': 2429, 'slapstick': 2430, '17': 2431, 'incid': 2432, 'brad': 2433, 'devot': 2434, 'shoe': 2435, 'lincoln': 2436, 'elizabeth': 2437, 'benefit': 2438, 'underground': 2439, 'anticip': 2440, 'sandler': 2441, 'disbelief': 2442, 'guarante': 2443, 'maria': 2444, 'lili': 2445, 'divorc': 2446, 'mildli': 2447, 'explod': 2448, 'cring': 2449, 'creation': 2450, 'capit': 2451, 'amazingli': 2452, 'princip': 2453, 'bbc': 2454, 'greater': 2455, 'slave': 2456, 'halfway': 2457, 'lesli': 2458, 'introduct': 2459, 'extraordinari': 2460, 'funnier': 2461, 'extent': 2462, 'enhanc': 2463, 'wreck': 2464, 'tap': 2465, 'advantag': 2466, 'transfer': 2467, 'punish': 2468, 'overwhelm': 2469, 'text': 2470, 'east': 2471, 'lo': 2472, 'dynam': 2473, 'horrif': 2474, 'plant': 2475, 'jessica': 2476, 'deliber': 2477, 'error': 2478, 'lane': 2479, 'preview': 2480, 'homosexu': 2481, 'ensu': 2482, 'vincent': 2483, '2000': 2484, 'vacat': 2485, 'basi': 2486, 'miscast': 2487, 'miller': 2488, 'sophist': 2489, 'appli': 2490, 'spoken': 2491, 'uncomfort': 2492, 'via': 2493, 'sleazi': 2494, 'measur': 2495, 'elev': 2496, 'mansion': 2497, 'reed': 2498, 'extend': 2499, 'steel': 2500, 'bollywood': 2501, 'breathtak': 2502, 'mous': 2503, 'overact': 2504, 'goofi': 2505, 'assign': 2506, 'dentist': 2507, 'savag': 2508, 'alter': 2509, 'blair': 2510, 'cathol': 2511, 'daili': 2512, 'melt': 2513, 'fix': 2514, 'conceiv': 2515, 'stanley': 2516, 'hippi': 2517, 'beer': 2518, 'inspector': 2519, 'subsequ': 2520, 'succe': 2521, 'properli': 2522, 'carpent': 2523, 'sacrific': 2524, 'oppos': 2525, 'burt': 2526, 'nowaday': 2527, 'everyday': 2528, 'block': 2529, 'circl': 2530, 'massacr': 2531, 'neck': 2532, 'laura': 2533, 'pool': 2534, 'christi': 2535, 'fallen': 2536, 'mob': 2537, 'concert': 2538, 'fay': 2539, 'grey': 2540, 'access': 2541, 'portrait': 2542, 'lesser': 2543, 'seagal': 2544, 'chees': 2545, 'react': 2546, 'usa': 2547, 'sinist': 2548, 'isol': 2549, 'relax': 2550, 'jewish': 2551, 'jake': 2552, 'competit': 2553, 'nine': 2554, 'spiritu': 2555, 'immens': 2556, 'stink': 2557, 'appal': 2558, '2006': 2559, 'nonetheless': 2560, 'suitabl': 2561, 'chop': 2562, 'ironi': 2563, 'lyric': 2564, 'creep': 2565, 'reduc': 2566, 'retir': 2567, 'nut': 2568, 'rage': 2569, 'franchis': 2570, 'showcas': 2571, 'user': 2572, 'navi': 2573, 'adopt': 2574, 'spring': 2575, 'needless': 2576, 'shirt': 2577, 'sold': 2578, 'luci': 2579, 'stanwyck': 2580, 'uninspir': 2581, 'bath': 2582, 'per': 2583, 'asham': 2584, 'zone': 2585, 'jay': 2586, 'digit': 2587, 'nurs': 2588, 'bulli': 2589, 'oddli': 2590, 'laid': 2591, 'sutherland': 2592, '1940': 2593, 'illustr': 2594, 'amongst': 2595, '2001': 2596, 'broadcast': 2597, 'upper': 2598, 'fulfil': 2599, 'aspir': 2600, 'throat': 2601, 'baker': 2602, 'disguis': 2603, 'brando': 2604, 'stylish': 2605, 'em': 2606, 'wanna': 2607, 'impli': 2608, 'wwii': 2609, '18': 2610, 'pound': 2611, 'pride': 2612, 'neighborhood': 2613, 'endear': 2614, 'nobl': 2615, 'thief': 2616, 'dinner': 2617, 'albeit': 2618, 'bett': 2619, 'cinematograph': 2620, 'dawn': 2621, 'shoulder': 2622, '16': 2623, 'tens': 2624, 'diseas': 2625, 'prop': 2626, 'bo': 2627, 'distribut': 2628, 'coher': 2629, 'shift': 2630, 'rochest': 2631, 'matthau': 2632, 'rebel': 2633, 'silenc': 2634, 'knife': 2635, 'shout': 2636, 'contract': 2637, 'wash': 2638, 'snow': 2639, 'surf': 2640, 'function': 2641, 'forti': 2642, 'poignant': 2643, 'henc': 2644, 'instinct': 2645, 'chuck': 2646, 'derek': 2647, 'elvira': 2648, 'internet': 2649, 'widmark': 2650, 'proof': 2651, 'height': 2652, 'horrend': 2653, 'mindless': 2654, 'silver': 2655, 'cancel': 2656, 'reunion': 2657, 'duti': 2658, 'eeri': 2659, 'heat': 2660, 'cannib': 2661, 'neat': 2662, 'musician': 2663, 'etern': 2664, 'glori': 2665, 'repetit': 2666, 'alik': 2667, 'greatli': 2668, 'premier': 2669, 'mill': 2670, 'incoher': 2671, 'innov': 2672, 'absorb': 2673, 'pie': 2674, 'spielberg': 2675, 'torn': 2676, 'elvi': 2677, 'homag': 2678, 'lovabl': 2679, 'diamond': 2680, 'wealthi': 2681, 'burton': 2682, 'announc': 2683, 'racism': 2684, 'itali': 2685, 'horrifi': 2686, 'precis': 2687, 'bang': 2688, 'nelson': 2689, 'crisi': 2690, 'fbi': 2691, 'blank': 2692, 'britain': 2693, 'redempt': 2694, 'infam': 2695, 'trite': 2696, 'parallel': 2697, 'pat': 2698, 'ensembl': 2699, 'happili': 2700, 'hammer': 2701, 'resolut': 2702, 'dedic': 2703, 'flop': 2704, 'wilder': 2705, 'helen': 2706, 'chaplin': 2707, 'streisand': 2708, 'mar': 2709, 'factori': 2710, 'triumph': 2711, 'plastic': 2712, 'disagre': 2713, 'conclud': 2714, 'broke': 2715, 'st': 2716, 'carter': 2717, 'cube': 2718, 'oil': 2719, 'bush': 2720, 'fighter': 2721, 'row': 2722, 'vega': 2723, 'climb': 2724, 'own': 2725, 'march': 2726, 'chuckl': 2727, 'rocket': 2728, 'weight': 2729, 'dump': 2730, 'boot': 2731, 'spare': 2732, 'wherea': 2733, 'mst3k': 2734, 'enorm': 2735, 'kurt': 2736, 'lust': 2737, 'meaning': 2738, 'luca': 2739, 'sensibl': 2740, 'dane': 2741, 'thug': 2742, 'unforgett': 2743, 'adequ': 2744, 'rap': 2745, 'arnold': 2746, 'engin': 2747, 'bobbi': 2748, 'dear': 2749, 'caricatur': 2750, 'threat': 2751, 'brand': 2752, 'difficulti': 2753, 'stress': 2754, 'fifti': 2755, 'butt': 2756, 'karloff': 2757, 'swing': 2758, 'journalist': 2759, 'arrog': 2760, 'elabor': 2761, 'polish': 2762, 'fest': 2763, 'ego': 2764, 'barri': 2765, 'secretari': 2766, 'ralph': 2767, 'homeless': 2768, 'hamlet': 2769, 'flynn': 2770, 'arrang': 2771, 'float': 2772, 'spike': 2773, 'conspiraci': 2774, 'induc': 2775, 'fanci': 2776, 'puppet': 2777, 'unbear': 2778, 'resort': 2779, 'simpson': 2780, 'tool': 2781, 'grate': 2782, 'tribut': 2783, 'basement': 2784, 'guilt': 2785, 'phillip': 2786, 'pig': 2787, 'choreograph': 2788, 'muppet': 2789, 'boll': 2790, 'cruis': 2791, 'exercis': 2792, 'medium': 2793, 'layer': 2794, 'korean': 2795, '24': 2796, 'slip': 2797, 'ham': 2798, 'ward': 2799, 'toilet': 2800, 'file': 2801, 'tower': 2802, 'document': 2803, 'fianc': 2804, 'babe': 2805, 'stan': 2806, 'editor': 2807, 'puzzl': 2808, 'item': 2809, 'scarecrow': 2810, 'persona': 2811, 'superfici': 2812, 'orient': 2813, 'assur': 2814, 'inexplic': 2815, 'slaughter': 2816, 'philosoph': 2817, 'spark': 2818, 'transit': 2819, 'doc': 2820, 'denzel': 2821, 'portion': 2822, 'glover': 2823, 'larger': 2824, 'librari': 2825, 'territori': 2826, 'catherin': 2827, 'minim': 2828, 'financi': 2829, 'pg': 2830, 'wolf': 2831, 'boredom': 2832, 'ban': 2833, 'sneak': 2834, 'owe': 2835, 'curti': 2836, 'shi': 2837, 'jeremi': 2838, 'dorothi': 2839, 'walken': 2840, 'jet': 2841, 'profound': 2842, 'hudson': 2843, 'cusack': 2844, 'ambigu': 2845, 'whale': 2846, 'backdrop': 2847, 'metaphor': 2848, 'eleph': 2849, 'multi': 2850, 'ultra': 2851, 'union': 2852, 'elsewher': 2853, 'stiff': 2854, 'hack': 2855, 'implaus': 2856, 'viru': 2857, '2005': 2858, 'birthday': 2859, 'notion': 2860, 'rave': 2861, 'gadget': 2862, 'squar': 2863, 'superhero': 2864, '1st': 2865, 'deriv': 2866, 'bibl': 2867, 'eva': 2868, 'poison': 2869, 'canada': 2870, 'pad': 2871, 'disc': 2872, 'afford': 2873, 'urg': 2874, 'distanc': 2875, 'lloyd': 2876, 'eastwood': 2877, 'slight': 2878, 'newspap': 2879, 'reader': 2880, 'hawk': 2881, 'health': 2882, 'restaur': 2883, 'huh': 2884, 'essenc': 2885, 'sadist': 2886, 'heston': 2887, 'button': 2888, 'cure': 2889, 'skit': 2890, 'montag': 2891, 'spread': 2892, 'charisma': 2893, 'drown': 2894, 'estat': 2895, 'maniac': 2896, 'peak': 2897, 'lab': 2898, 'invest': 2899, 'companion': 2900, 'scoobi': 2901, 'dealt': 2902, 'fetch': 2903, 'muslim': 2904, 'godfath': 2905, 'gradual': 2906, 'gothic': 2907, 'countless': 2908, 'ritter': 2909, 'subtleti': 2910, 'cup': 2911, 'tea': 2912, 'alli': 2913, 'kane': 2914, 'servant': 2915, 'miik': 2916, 'electr': 2917, 'charismat': 2918, 'heroic': 2919, 'iii': 2920, 'briefli': 2921, 'elect': 2922, 'salli': 2923, 'tender': 2924, 'wannab': 2925, 'resourc': 2926, 'nuanc': 2927, 'admittedli': 2928, 'ingredi': 2929, 'grandmoth': 2930, 'reel': 2931, 'bud': 2932, 'cole': 2933, 'toss': 2934, 'neil': 2935, 'stood': 2936, 'dawson': 2937, 'punk': 2938, 'pauli': 2939, 'pit': 2940, 'label': 2941, 'reev': 2942, 'mafia': 2943, 'poverti': 2944, 'stronger': 2945, 'shall': 2946, 'mild': 2947, 'gate': 2948, 'kubrick': 2949, 'carrey': 2950, 'smash': 2951, 'terri': 2952, 'easier': 2953, 'tag': 2954, 'updat': 2955, 'assault': 2956, 'ian': 2957, 'cardboard': 2958, 'fond': 2959, 'useless': 2960, 'outcom': 2961, 'bakshi': 2962, 'smooth': 2963, 'burst': 2964, 'astair': 2965, 'cox': 2966, 'vari': 2967, 'exchang': 2968, 'fist': 2969, 'vulner': 2970, 'melodramat': 2971, '2002': 2972, 'increasingli': 2973, 'resolv': 2974, 'coincid': 2975, 'divers': 2976, 'qualifi': 2977, 'rex': 2978, 'samurai': 2979, 'sketch': 2980, 'scratch': 2981, 'blast': 2982, 'suspend': 2983, 'brillianc': 2984, 'luckili': 2985, 'tame': 2986, 'templ': 2987, 'conveni': 2988, 'be': 2989, 'insert': 2990, 'reynold': 2991, 'meat': 2992, 'pin': 2993, 'ambiti': 2994, 'farm': 2995, 'walker': 2996, 'coach': 2997, 'soprano': 2998, 'hamilton': 2999, 'jami': 3000, 'fisher': 3001, 'seventi': 3002, 'matthew': 3003, 'nuclear': 3004, 'gotta': 3005, 'strictli': 3006, 'eccentr': 3007, 'closet': 3008, 'instantli': 3009, 'revers': 3010, 'convolut': 3011, 'recreat': 3012, 'joey': 3013, 'kudo': 3014, 'butcher': 3015, 'timeless': 3016, 'ninja': 3017, 'monk': 3018, 'struck': 3019, 'empir': 3020, 'grasp': 3021, 'cave': 3022, 'worthless': 3023, 'spooki': 3024, 'clock': 3025, 'brosnan': 3026, 'discoveri': 3027, 'sloppi': 3028, 'importantli': 3029, 'wipe': 3030, 'miracl': 3031, 'sidekick': 3032, 'communist': 3033, 'fifteen': 3034, 'cliff': 3035, 'mitchel': 3036, 'eighti': 3037, 'evok': 3038, 'clown': 3039, 'pal': 3040, 'norman': 3041, 'seller': 3042, 'inconsist': 3043, 'bleak': 3044, 'declar': 3045, 'selfish': 3046, 'gray': 3047, 'partli': 3048, 'psychiatrist': 3049, 'cheek': 3050, 'australia': 3051, 'ho': 3052, 'destin': 3053, 'enthusiast': 3054, 'lifestyl': 3055, 'aforement': 3056, 'flawless': 3057, 'superbl': 3058, 'stoog': 3059, 'debat': 3060, 'seed': 3061, 'farc': 3062, '45': 3063, 'piano': 3064, 'chew': 3065, 'websit': 3066, 'anni': 3067, 'akshay': 3068, 'emili': 3069, 'pressur': 3070, 'dash': 3071, 'dire': 3072, 'wrestl': 3073, 'incompet': 3074, 'splatter': 3075, 'directori': 3076, 'bash': 3077, 'drivel': 3078, 'abc': 3079, 'kitchen': 3080, 'regardless': 3081, 'soviet': 3082, 'wick': 3083, 'slice': 3084, 'seduc': 3085, 'lou': 3086, 'cagney': 3087, 'chapter': 3088, 'pleasantli': 3089, 'mann': 3090, 'ken': 3091, 'helicopt': 3092, 'judi': 3093, 'prize': 3094, 'beaten': 3095, 'increas': 3096, 'curios': 3097, 'artifici': 3098, 'doo': 3099, 'cia': 3100, 'distant': 3101, 'flower': 3102, 'dave': 3103, 'blob': 3104, 'suppli': 3105, 'duo': 3106, 'recov': 3107, 'glow': 3108, 'cameron': 3109, 'jar': 3110, 'boil': 3111, 'favour': 3112, 'turner': 3113, 'perri': 3114, 'ranger': 3115, 'goldberg': 3116, 'francisco': 3117, 'panic': 3118, 'web': 3119, 'craig': 3120, 'psychot': 3121, 'splendid': 3122, 'ellen': 3123, 'glenn': 3124, 'hop': 3125, 'drunken': 3126, 'eleg': 3127, 'laurel': 3128, 'combat': 3129, 'craven': 3130, 'philosophi': 3131, 'slightest': 3132, 'fx': 3133, 'hatr': 3134, 'ruth': 3135, 'graduat': 3136, '20th': 3137, 'gentl': 3138, 'rid': 3139, 'shortli': 3140, 'modesti': 3141, 'flip': 3142, 'greek': 3143, 'min': 3144, 'gandhi': 3145, 'plausibl': 3146, 'wizard': 3147, 'alexand': 3148, 'falk': 3149, 'lend': 3150, 'unpleas': 3151, 'felix': 3152, 'manhattan': 3153, 'we': 3154, 'legal': 3155, 'holi': 3156, 'ocean': 3157, 'harm': 3158, 'dracula': 3159, 'fund': 3160, 'tall': 3161, 'knight': 3162, 'futurist': 3163, 'preciou': 3164, 'jealou': 3165, 'overdon': 3166, 'bless': 3167, 'ami': 3168, 'explicit': 3169, 'scientif': 3170, 'nod': 3171, 'mock': 3172, 'giallo': 3173, 'digniti': 3174, 'thread': 3175, 'reviv': 3176, 'tank': 3177, 'childish': 3178, 'forbidden': 3179, 'eve': 3180, '99': 3181, 'elderli': 3182, 'yesterday': 3183, 'thick': 3184, 'awe': 3185, 'awaken': 3186, 'unwatch': 3187, 'margaret': 3188, 'mel': 3189, 'verhoeven': 3190, '2004': 3191, 'nerv': 3192, 'broad': 3193, 'repeatedli': 3194, 'pirat': 3195, 'fever': 3196, 'torment': 3197, 'custom': 3198, 'griffith': 3199, 'roman': 3200, 'automat': 3201, 'bin': 3202, 'ambit': 3203, 'uniform': 3204, 'ah': 3205, 'acclaim': 3206, 'timothi': 3207, 'absenc': 3208, 'publish': 3209, 'politician': 3210, 'romero': 3211, 'stiller': 3212, 'lean': 3213, 'kay': 3214, 'royal': 3215, 'eas': 3216, 'rivet': 3217, 'launch': 3218, 'darker': 3219, 'stinker': 3220, 'sunshin': 3221, 'bathroom': 3222, 'homicid': 3223, 'termin': 3224, 'crook': 3225, 'warren': 3226, 'phrase': 3227, 'gabriel': 3228, 'antic': 3229, 'tomato': 3230, 'pulp': 3231, 'foul': 3232, 'purpl': 3233, 'transport': 3234, 'wallac': 3235, 'pierc': 3236, 'saint': 3237, '2003': 3238, 'pray': 3239, 'horrid': 3240, 'awak': 3241, 'brazil': 3242, 'prom': 3243, 'donna': 3244, 'evolv': 3245, 'choreographi': 3246, 'juvenil': 3247, 'marin': 3248, 'rambo': 3249, 'album': 3250, 'revolutionari': 3251, 'viciou': 3252, 'contrari': 3253, 'packag': 3254, 'hollow': 3255, 'karen': 3256, 'kenneth': 3257, 'sixti': 3258, 'ought': 3259, 'li': 3260, 'coloni': 3261, 'q': 3262, 'eyr': 3263, 'stole': 3264, 'boast': 3265, 'candid': 3266, 'defi': 3267, 'option': 3268, 'nerd': 3269, 'dose': 3270, 'mummi': 3271, 'overr': 3272, 'ireland': 3273, 'mildr': 3274, 'conserv': 3275, 'beatti': 3276, 'twelv': 3277, 'ramon': 3278, 'kapoor': 3279, 'blade': 3280, 'jazz': 3281, 'trio': 3282, 'confirm': 3283, 'flame': 3284, 'fulci': 3285, 'funer': 3286, 'collabor': 3287, 'protest': 3288, 'astonish': 3289, 'altman': 3290, 'natali': 3291, 'kirk': 3292, 'global': 3293, 'detract': 3294, 'bottl': 3295, 'blake': 3296, 'delici': 3297, 'bull': 3298, 'tommi': 3299, 'audio': 3300, 'yellow': 3301, 'leap': 3302, 'nicholson': 3303, 'shade': 3304, 'whip': 3305, 'destini': 3306, 'spit': 3307, 'enterpris': 3308, 'racial': 3309, 'mystic': 3310, 'staff': 3311, 'bedroom': 3312, 'enchant': 3313, 'merci': 3314, 'altogeth': 3315, 'reunit': 3316, 'visibl': 3317, 'meaningless': 3318, 'harder': 3319, 'threw': 3320, 'todd': 3321, 'popcorn': 3322, 'fonda': 3323, 'adolesc': 3324, 'neo': 3325, 'pseudo': 3326, 'inherit': 3327, 'vivid': 3328, 'swedish': 3329, 'roommat': 3330, 'lemmon': 3331, 'uneven': 3332, 'await': 3333, 'suspici': 3334, 'leonard': 3335, 'befriend': 3336, 'wire': 3337, 'reserv': 3338, 'edi': 3339, 'madonna': 3340, 'synopsi': 3341, 'respond': 3342, 'lawrenc': 3343, 'voight': 3344, 'bust': 3345, 'ruthless': 3346, 'moodi': 3347, 'exhibit': 3348, 'crocodil': 3349, 'tip': 3350, 'fanat': 3351, 'atlanti': 3352, 'decor': 3353, 'kennedi': 3354, 'jew': 3355, 'bargain': 3356, '2007': 3357, 'centr': 3358, 'carl': 3359, 'incident': 3360, 'abysm': 3361, 'clint': 3362, 'rural': 3363, 'bradi': 3364, 'ventur': 3365, 'bold': 3366, 'dimens': 3367, 'clumsi': 3368, 'chao': 3369, 'voyag': 3370, 'unsettl': 3371, 'garner': 3372, 'holli': 3373, 'audit': 3374, 'palma': 3375, 'neglect': 3376, 'immigr': 3377, 'daddi': 3378, 'characterist': 3379, 'tiger': 3380, 'wealth': 3381, 'hart': 3382, 'elimin': 3383, 'poetic': 3384, 'lit': 3385, 'cuba': 3386, 'troop': 3387, 'acknowledg': 3388, 'imperson': 3389, '2nd': 3390, 'cd': 3391, 'versu': 3392, 'echo': 3393, 'ant': 3394, 'nearbi': 3395, 'humili': 3396, 'timon': 3397, 'trail': 3398, 'mall': 3399, 'cari': 3400, 'jeffrey': 3401, 'paus': 3402, 'celluloid': 3403, 'collaps': 3404, 'infect': 3405, 'solo': 3406, 'domest': 3407, 'marshal': 3408, 'mickey': 3409, 'pun': 3410, 'saga': 3411, 'prejudic': 3412, 'mistaken': 3413, 'repuls': 3414, 'homer': 3415, 'hbo': 3416, 'milk': 3417, 'chest': 3418, 'inan': 3419, 'assembl': 3420, 'leon': 3421, 'interrupt': 3422, '1996': 3423, 'undoubtedli': 3424, 'equip': 3425, 'sore': 3426, 'gear': 3427, 'ginger': 3428, 'pant': 3429, 'coat': 3430, 'apolog': 3431, 'tribe': 3432, 'olivi': 3433, 'promin': 3434, 'inappropri': 3435, 'harvey': 3436, 'coffe': 3437, 'cake': 3438, 'embrac': 3439, 'colleagu': 3440, 'devast': 3441, 'highest': 3442, 'solut': 3443, 'institut': 3444, 'retain': 3445, 'primari': 3446, 'furthermor': 3447, 'instant': 3448, 'trace': 3449, 'exot': 3450, 'humbl': 3451, 'maggi': 3452, 'vulgar': 3453, 'aveng': 3454, 'pot': 3455, 'consum': 3456, 'brooklyn': 3457, 'airplan': 3458, 'florida': 3459, 'jenni': 3460, 'colonel': 3461, 'pen': 3462, 'polanski': 3463, 'ya': 3464, 'gender': 3465, 'illog': 3466, 'rick': 3467, 'wive': 3468, 'dian': 3469, 'sale': 3470, '1999': 3471, '3rd': 3472, 'seduct': 3473, 'disabl': 3474, 'strain': 3475, 'outer': 3476, 'smaller': 3477, 'dutch': 3478, 'linda': 3479, 'poke': 3480, 'principl': 3481, 'cope': 3482, 'bowl': 3483, 'descend': 3484, 'godzilla': 3485, 'dud': 3486, 'bubbl': 3487, 'scope': 3488, 'gloriou': 3489, 'lol': 3490, 'primarili': 3491, 'predecessor': 3492, 'glamor': 3493, 'dive': 3494, 'gundam': 3495, 'inferior': 3496, 'secondli': 3497, 'devoid': 3498, 'vast': 3499, 'beneath': 3500, 'blatant': 3501, 'mixtur': 3502, 'yard': 3503, 'rabbit': 3504, 'hal': 3505, 'cue': 3506, 'museum': 3507, 'aggress': 3508, 'casual': 3509, 'talki': 3510, 'alfr': 3511, 'garbo': 3512, 'trademark': 3513, 'april': 3514, 'invas': 3515, 'disjoint': 3516, 'hideou': 3517, 'pearl': 3518, 'alert': 3519, 'z': 3520, 'senseless': 3521, 'shelf': 3522, 'streep': 3523, 'countrysid': 3524, 'arab': 3525, 'shirley': 3526, 'simplist': 3527, 'et': 3528, 'myer': 3529, 'grinch': 3530, 'breed': 3531, 'domino': 3532, 'disgrac': 3533, 'obtain': 3534, 'mayor': 3535, 'unhappi': 3536, 'boom': 3537, 'rendit': 3538, 'applaud': 3539, 'hardcor': 3540, 'oz': 3541, 'uwe': 3542, 'robinson': 3543, 'vanish': 3544, 'maci': 3545, 'loyal': 3546, 'illeg': 3547, 'sh': 3548, 'acid': 3549, 'experiment': 3550, 'stellar': 3551, 'robberi': 3552, 'slide': 3553, 'hopeless': 3554, 'mail': 3555, 'defens': 3556, 'stack': 3557, 'stir': 3558, 'khan': 3559, 'span': 3560, 'blew': 3561, 'emphasi': 3562, 'incomprehens': 3563, 'tenant': 3564, 'counter': 3565, 'fri': 3566, 'topless': 3567, 'rifl': 3568, 'tempt': 3569, 'craze': 3570, 'hartley': 3571, 'berlin': 3572, 'soccer': 3573, 'dismiss': 3574, 'psychic': 3575, 'amanda': 3576, 'dicken': 3577, 'diana': 3578, 'wont': 3579, 'spider': 3580, 'declin': 3581, 'grandfath': 3582, 'recruit': 3583, 'scroog': 3584, 'riot': 3585, 'ethnic': 3586, 'goer': 3587, 'parad': 3588, 'resurrect': 3589, 'niro': 3590, 'shed': 3591, 'intim': 3592, 'justin': 3593, 'wet': 3594, 'ration': 3595, 'trashi': 3596, 'sibl': 3597, 'bitch': 3598, 'shaw': 3599, 'woo': 3600, 'faster': 3601, 'porno': 3602, 'revolt': 3603, 'sympath': 3604, 'lumet': 3605, 'honesti': 3606, 'immort': 3607, 'eager': 3608, 'patriot': 3609, 'feminist': 3610, 'jonathan': 3611, 'wendi': 3612, 'farmer': 3613, 'wheel': 3614, 'rider': 3615, 'hopper': 3616, '00': 3617, 'commend': 3618, 'choru': 3619, 'dealer': 3620, 'hesit': 3621, 'gap': 3622, 'partial': 3623, 'slick': 3624, 'region': 3625, 'nephew': 3626, 'steam': 3627, 'ensur': 3628, 'enlighten': 3629, 'mario': 3630, 'weakest': 3631, 'andr': 3632, 'biographi': 3633, 'unreal': 3634, 'worm': 3635, 'lena': 3636, 'ballet': 3637, 'similarli': 3638, 'blunt': 3639, 'hung': 3640, 'nostalg': 3641, 'composit': 3642, 'safeti': 3643, 'leo': 3644, 'victori': 3645, 'util': 3646, 'wore': 3647, 'franco': 3648, 'confin': 3649, 'sappi': 3650, 'vice': 3651, 'psychopath': 3652, 'prequel': 3653, 'kingdom': 3654, 'repress': 3655, 'sandra': 3656, 'snap': 3657, 'properti': 3658, 'morri': 3659, 'charlott': 3660, 'skull': 3661, 'mutant': 3662, 'owen': 3663, 'macarthur': 3664, 'rocki': 3665, 'rambl': 3666, 'compass': 3667, 'del': 3668, 'kyle': 3669, 'dust': 3670, 'latin': 3671, 'heartbreak': 3672, 'miseri': 3673, 'despair': 3674, 'bergman': 3675, 'tad': 3676, 'cg': 3677, 'drum': 3678, 'repli': 3679, 'compens': 3680, '1972': 3681, 'deed': 3682, 'thru': 3683, 'recycl': 3684, 'acquir': 3685, 'speci': 3686, 'valuabl': 3687, 'bonu': 3688, 'drain': 3689, 'snl': 3690, 'tail': 3691, 'campbel': 3692, 'dalton': 3693, 'rope': 3694, 'bumbl': 3695, 'exit': 3696, 'nervou': 3697, 'pattern': 3698, 'hyde': 3699, 'montana': 3700, 'strand': 3701, 'bow': 3702, 'emperor': 3703, 'farrel': 3704, 'whoopi': 3705, 'slug': 3706, 'rotten': 3707, 'contempl': 3708, 'da': 3709, 'mistress': 3710, 'bleed': 3711, 'tonight': 3712, '35': 3713, 'roth': 3714, 'percept': 3715, 'downhil': 3716, 'gimmick': 3717, 'pour': 3718, 'wacki': 3719, 'oppress': 3720, 'chess': 3721, 'carradin': 3722, 'radic': 3723, 'gal': 3724, 'olli': 3725, 'orson': 3726, 'martian': 3727, 'rapist': 3728, 'romp': 3729, 'airport': 3730, 'arguabl': 3731, 'arc': 3732, 'banal': 3733, '1983': 3734, 'unpredict': 3735, 'champion': 3736, 'pervert': 3737, 'paltrow': 3738, 'belt': 3739, 'heal': 3740, 'pursuit': 3741, 'slash': 3742, 'mislead': 3743, 'stilt': 3744, 'pervers': 3745, 'preach': 3746, 'tackl': 3747, 'melodi': 3748, 'dazzl': 3749, 'taught': 3750, 'programm': 3751, 'shelley': 3752, 'tooth': 3753, 'attorney': 3754, 'edgar': 3755, 'closest': 3756, 'orang': 3757, 'raymond': 3758, 'sensat': 3759, 'virginia': 3760, 'mesmer': 3761, 'maid': 3762, 'graham': 3763, 'conneri': 3764, 'rubi': 3765, 'uplift': 3766, 'vengeanc': 3767, 'marti': 3768, 'vocal': 3769, 'tiresom': 3770, 'employe': 3771, 'dixon': 3772, 'plight': 3773, 'chicken': 3774, 'passeng': 3775, 'bela': 3776, 'duval': 3777, 'gambl': 3778, 'poem': 3779, 'cleverli': 3780, 'franki': 3781, '1968': 3782, 'paranoia': 3783, 'inject': 3784, 'habit': 3785, 'engross': 3786, 'scottish': 3787, 'yawn': 3788, 'profan': 3789, 'volum': 3790, 'numb': 3791, 'whine': 3792, 'clone': 3793, 'lundgren': 3794, 'outing': 3795, 'swallow': 3796, 'amitabh': 3797, 'bay': 3798, 'giggl': 3799, 'monologu': 3800, 'tube': 3801, 'extens': 3802, 'abraham': 3803, 'suffic': 3804, 'mute': 3805, 'quarter': 3806, 'iran': 3807, 'crystal': 3808, 'gerard': 3809, 'convincingli': 3810, 'secretli': 3811, 'sirk': 3812, 'calm': 3813, 'climact': 3814, 'pokemon': 3815, 'plod': 3816, 'abort': 3817, 'septemb': 3818, 'fed': 3819, 'ethan': 3820, 'underst': 3821, 'trend': 3822, 'austen': 3823, 'taxi': 3824, 'frankenstein': 3825, 'nichola': 3826, 'earl': 3827, 'richardson': 3828, 'meander': 3829, 'franci': 3830, 'grotesqu': 3831, 'lowest': 3832, 'dispos': 3833, 'backward': 3834, 'bend': 3835, 'poetri': 3836, 'profess': 3837, 'expand': 3838, 'junior': 3839, 'spock': 3840, 'im': 3841, 'surpass': 3842, 'linger': 3843, 'chicago': 3844, 'household': 3845, 'mundan': 3846, 'myth': 3847, 'rant': 3848, 'hum': 3849, 'simplic': 3850, 'descent': 3851, 'eugen': 3852, 'literatur': 3853, 'tourist': 3854, 'greedi': 3855, 'nostalgia': 3856, 'catchi': 3857, 'lure': 3858, 'econom': 3859, 'rubber': 3860, 'waitress': 3861, 'stallon': 3862, 'spoke': 3863, 'instrument': 3864, 'compliment': 3865, 'sue': 3866, 'cannon': 3867, 'muddl': 3868, 'dysfunct': 3869, 'der': 3870, 'crucial': 3871, 'mortal': 3872, 'dement': 3873, 'louis': 3874, 'occupi': 3875, 'phoni': 3876, 'cent': 3877, 'stale': 3878, 'insur': 3879, 'phantom': 3880, 'june': 3881, 'map': 3882, 'bacal': 3883, 'coast': 3884, 'dictat': 3885, 'duck': 3886, 'omen': 3887, 'eaten': 3888, 'alongsid': 3889, 'molli': 3890, 'firstli': 3891, 'equival': 3892, 'deaf': 3893, 'sissi': 3894, 'mankind': 3895, 'flee': 3896, 'lang': 3897, 'carel': 3898, 'damon': 3899, 'recognis': 3900, 'randi': 3901, 'recognit': 3902, 'hello': 3903, 'furi': 3904, 'irrelev': 3905, 'wisdom': 3906, 'newli': 3907, 'lengthi': 3908, 'blackmail': 3909, 'reign': 3910, 'heel': 3911, 'ashley': 3912, 'twilight': 3913, 'cyborg': 3914, 'grayson': 3915, '1973': 3916, 'distinguish': 3917, 'drake': 3918, 'antwon': 3919, 'bike': 3920, 'loyalti': 3921, 'rooney': 3922, 'bump': 3923, 'biko': 3924, 'damm': 3925, 'freez': 3926, 'labor': 3927, 'rude': 3928, 'dreari': 3929, 'daisi': 3930, 'onlin': 3931, 'likewis': 3932, 'buffalo': 3933, 'nineti': 3934, 'approv': 3935, 'interior': 3936, 'boxer': 3937, 'emphas': 3938, 'baddi': 3939, 'sailor': 3940, 'proce': 3941, 'attribut': 3942, 'chronicl': 3943, 'vein': 3944, 'barrymor': 3945, 'startl': 3946, 'analysi': 3947, 'prey': 3948, 'basketbal': 3949, 'unorigin': 3950, 'worn': 3951, 'incorpor': 3952, 'exposur': 3953, 'butler': 3954, 'tunnel': 3955, 'pink': 3956, 'inher': 3957, 'ridden': 3958, 'provoc': 3959, 'keith': 3960, 'nicol': 3961, 'hypnot': 3962, 'improvis': 3963, 'bunni': 3964, 'unrel': 3965, 'mighti': 3966, 'predat': 3967, 'degrad': 3968, 'julian': 3969, 'elm': 3970, 'substitut': 3971, 'millionair': 3972, 'er': 3973, 'drift': 3974, 'walsh': 3975, 'meyer': 3976, 'simmon': 3977, 'fleet': 3978, 'condemn': 3979, 'meg': 3980, 'belushi': 3981, 'carla': 3982, 'othello': 3983, 'robbin': 3984, 'stalker': 3985, 'undeni': 3986, 'mormon': 3987, 'underli': 3988, 'barrel': 3989, 'indiffer': 3990, 'disord': 3991, 'warmth': 3992, 'nyc': 3993, 'enthusiasm': 3994, 'alison': 3995, 'dolph': 3996, 'agenda': 3997, 'shove': 3998, 'lampoon': 3999, 'hay': 4000, 'alarm': 4001, 'roof': 4002, 'reid': 4003, 'vital': 4004, 'marion': 4005, 'edgi': 4006, 'palac': 4007, 'firm': 4008, 'greed': 4009, 'mtv': 4010, 'errol': 4011, 'priceless': 4012, 'watson': 4013, 'unawar': 4014, '3d': 4015, 'exquisit': 4016, 'rukh': 4017, 'novak': 4018, 'championship': 4019, 'sergeant': 4020, 'glanc': 4021, 'ponder': 4022, 'thompson': 4023, 'drip': 4024, 'nun': 4025, 'pamela': 4026, 'peck': 4027, 'testament': 4028, 'israel': 4029, 'session': 4030, 'distort': 4031, 'beatl': 4032, 'gestur': 4033, 'cassidi': 4034, '1933': 4035, 'spain': 4036, 'crown': 4037, 'angela': 4038, 'unleash': 4039, 'what': 4040, 'simultan': 4041, 'coup': 4042, 'iraq': 4043, 'profit': 4044, '13th': 4045, 'preserv': 4046, 'valentin': 4047, 'showdown': 4048, 'randomli': 4049, 'eastern': 4050, 'orlean': 4051, 'zizek': 4052, 'petti': 4053, 'campaign': 4054, 'minimum': 4055, 'peril': 4056, 'exposit': 4057, 'crawl': 4058, 'miyazaki': 4059, 'scotland': 4060, 'reson': 4061, 'rout': 4062, 'unimagin': 4063, 'shootout': 4064, 'climat': 4065, 'realm': 4066, 'empathi': 4067, 'crow': 4068, 'wig': 4069, 'restrain': 4070, 'brenda': 4071, 'gentleman': 4072, 'cream': 4073, 'bro': 4074, 'represent': 4075, 'jan': 4076, 'calib': 4077, 'mon': 4078, 'valley': 4079, 'regist': 4080, 'perpetu': 4081, 'buster': 4082, '1984': 4083, 'sabrina': 4084, 'quinn': 4085, 'travesti': 4086, 'fido': 4087, 'din': 4088, 'stake': 4089, 'contradict': 4090, 'stroke': 4091, 'kurosawa': 4092, 'cooki': 4093, 'han': 4094, 'wax': 4095, 'monoton': 4096, 'cloud': 4097, 'delic': 4098, 'warrant': 4099, 'tacki': 4100, 'dana': 4101, 'shaki': 4102, '1987': 4103, 'greg': 4104, 'sucker': 4105, 'shoddi': 4106, 'derang': 4107, 'femm': 4108, 'meryl': 4109, 'censor': 4110, 'unseen': 4111, 'spacey': 4112, 'abomin': 4113, 'compromis': 4114, 'passabl': 4115, 'pretens': 4116, 'ustinov': 4117, 'soderbergh': 4118, 'geek': 4119, 'businessman': 4120, 'ross': 4121, 'demis': 4122, 'traumat': 4123, 'absent': 4124, 'pole': 4125, 'baldwin': 4126, 'josh': 4127, 'distress': 4128, 'perceiv': 4129, '1997': 4130, 'mclaglen': 4131, 'painter': 4132, 'unsatisfi': 4133, 'fuller': 4134, 'crawford': 4135, 'darren': 4136, 'sammi': 4137, 'stargat': 4138, 'deceas': 4139, 'seal': 4140, 'nathan': 4141, 'exclus': 4142, 'primit': 4143, 'tarantino': 4144, 'jewel': 4145, 'click': 4146, 'correctli': 4147, 'dee': 4148, 'anchor': 4149, 'kumar': 4150, 'tech': 4151, 'valid': 4152, 'wholli': 4153, 'clash': 4154, 'reluct': 4155, 'unravel': 4156, 'fenc': 4157, 'austin': 4158, 'antonioni': 4159, 'polici': 4160, 'verbal': 4161, 'norm': 4162, 'furiou': 4163, 'judgment': 4164, 'fog': 4165, 'accuraci': 4166, '1993': 4167, 'deniro': 4168, 'expedit': 4169, 'uncov': 4170, 'sid': 4171, 'unfair': 4172, 'vanc': 4173, '2008': 4174, 'logan': 4175, 'pocket': 4176, 'mode': 4177, 'fought': 4178, 'sunni': 4179, 'roller': 4180, 'behold': 4181, 'patienc': 4182, 'tax': 4183, 'enforc': 4184, 'wang': 4185, 'dreck': 4186, 'alec': 4187, 'temper': 4188, 'shanghai': 4189, 'darn': 4190, '1995': 4191, 'trait': 4192, '3000': 4193, 'hallucin': 4194, 'debt': 4195, 'wretch': 4196, 'fabric': 4197, '1971': 4198, 'bake': 4199, 'fart': 4200, 'seldom': 4201, 'murray': 4202, 'sheet': 4203, 'joel': 4204, 'sustain': 4205, 'malon': 4206, 'crippl': 4207, 'ritual': 4208, 'conduct': 4209, 'nicola': 4210, 'sand': 4211, 'slam': 4212, 'clerk': 4213, 'preposter': 4214, 'grief': 4215, 'tactic': 4216, 'pete': 4217, 'technicolor': 4218, 'squad': 4219, 'bias': 4220, 'divid': 4221, 'legaci': 4222, 'schedul': 4223, 'fundament': 4224, 'stuart': 4225, 'phil': 4226, 'conscious': 4227, 'preston': 4228, 'sweep': 4229, 'soup': 4230, 'exhaust': 4231, 'rita': 4232, 'clau': 4233, 'stark': 4234, 'robber': 4235, 'canyon': 4236, 'critiqu': 4237, 'bridget': 4238, 'runner': 4239, 'shell': 4240, 'outlin': 4241, 'scriptwrit': 4242, 'despis': 4243, 'guitar': 4244, 'penni': 4245, 'helpless': 4246, 'isabel': 4247, 'sugar': 4248, 'drove': 4249, 'palanc': 4250, 'boyl': 4251, 'gregori': 4252, 'alley': 4253, 'restrict': 4254, 'kansa': 4255, 'liberti': 4256, 'inabl': 4257, 'consciou': 4258, 'culmin': 4259, 'flair': 4260, 'agenc': 4261, 'rehash': 4262, 'jacket': 4263, 'cigarett': 4264, 'jodi': 4265, 'alicia': 4266, 'propos': 4267, 'lacklust': 4268, 'passag': 4269, 'russia': 4270, 'implic': 4271, 'vomit': 4272, 'delv': 4273, 'invad': 4274, 'connor': 4275, 'unexpectedli': 4276, 'rear': 4277, 'sniper': 4278, 'bloom': 4279, 'marc': 4280, 'sentinel': 4281, 'downey': 4282, 'newman': 4283, 'feat': 4284, 'sharon': 4285, 'ladder': 4286, 'chainsaw': 4287, '22': 4288, 'improb': 4289, 'vet': 4290, 'asylum': 4291, 'karl': 4292, 'lush': 4293, 'rampag': 4294, 'tendenc': 4295, 'bacon': 4296, 'delet': 4297, 'arrow': 4298, '1936': 4299, 'cap': 4300, 'aesthet': 4301, 'tripe': 4302, 'wrench': 4303, 'horn': 4304, 'rehears': 4305, 'awhil': 4306, 'rod': 4307, 'foxx': 4308, 'behaviour': 4309, 'pale': 4310, 'mccoy': 4311, 'kolchak': 4312, 'yeti': 4313, 'spice': 4314, 'newcom': 4315, 'underneath': 4316, 'el': 4317, 'stream': 4318, 'rumor': 4319, 'suspicion': 4320, 'basing': 4321, '1920': 4322, 'coaster': 4323, 'fright': 4324, 'elit': 4325, 'tomorrow': 4326, 'filler': 4327, 'prank': 4328, 'minu': 4329, 'suffici': 4330, 'tasteless': 4331, 'wildli': 4332, '19th': 4333, 'paramount': 4334, 'financ': 4335, 'lurk': 4336, 'weav': 4337, 'hulk': 4338, 'amazon': 4339, '1988': 4340, 'hackney': 4341, 'loneli': 4342, 'paradis': 4343, 'aristocrat': 4344, 'scoop': 4345, 'shortcom': 4346, 'rhythm': 4347, 'sung': 4348, 'conscienc': 4349, 'visitor': 4350, 'hungri': 4351, 'globe': 4352, 'thunderbird': 4353, '1978': 4354, 'wagner': 4355, 'iv': 4356, 'ingeni': 4357, 'naughti': 4358, 'choppi': 4359, 'quietli': 4360, 'en': 4361, 'minist': 4362, 'atroc': 4363, 'bread': 4364, 'teas': 4365, 'grudg': 4366, 'recogniz': 4367, 'immers': 4368, '75': 4369, 'wwe': 4370, 'abrupt': 4371, 'cancer': 4372, 'couch': 4373, 'leigh': 4374, 'smell': 4375, 'penn': 4376, 'dirt': 4377, 'worship': 4378, 'inmat': 4379, 'counterpart': 4380, 'curli': 4381, 'springer': 4382, '1989': 4383, 'secondari': 4384, 'tierney': 4385, 'literari': 4386, 'brit': 4387, 'entranc': 4388, 'impos': 4389, 'ram': 4390, 'beverli': 4391, '1939': 4392, 'paxton': 4393, 'heist': 4394, 'hopkin': 4395, 'rub': 4396, 'chavez': 4397, 'straightforward': 4398, 'standout': 4399, 'chamberlain': 4400, 'lectur': 4401, 'posey': 4402, 'watcher': 4403, '1986': 4404, 'convert': 4405, 'nemesi': 4406, 'sublim': 4407, 'skeptic': 4408, 'ace': 4409, 'morbid': 4410, 'bernard': 4411, 'lindsay': 4412, 'moreov': 4413, 'injuri': 4414, 'misguid': 4415, 'laurenc': 4416, 'heartfelt': 4417, 'net': 4418, 'attenborough': 4419, 'sassi': 4420, 'yearn': 4421, 'geni': 4422, 'variat': 4423, 'duel': 4424, 'cattl': 4425, 'missil': 4426, 'policeman': 4427, 'clan': 4428, 'esther': 4429, 'transcend': 4430, 'enthral': 4431, 'entitl': 4432, 'quaid': 4433, 'nolan': 4434, 'ratso': 4435, 'kidman': 4436, 'puppi': 4437, 'grin': 4438, 'buzz': 4439, 'bye': 4440, 'spiral': 4441, 'tyler': 4442, 'cruelti': 4443, 'steadi': 4444, 'carlito': 4445, 'hk': 4446, 'out': 4447, 'facil': 4448, 'brood': 4449, 'obstacl': 4450, 'egg': 4451, 'mytholog': 4452, 'youngest': 4453, 'dont': 4454, 'diari': 4455, 'moder': 4456, '1979': 4457, 'reliabl': 4458, 'enabl': 4459, 'uncut': 4460, 'hopelessli': 4461, 'graini': 4462, 'characteris': 4463, 'rosemari': 4464, 'vader': 4465, 'artsi': 4466, 'poe': 4467, 'bean': 4468, 'unexplain': 4469, 'setup': 4470, 'kitti': 4471, 'oblig': 4472, 'acquaint': 4473, 'exterior': 4474, 'weather': 4475, 'christin': 4476, 'martha': 4477, 'bronson': 4478, 'athlet': 4479, 'disastr': 4480, 'underworld': 4481, 'hammi': 4482, '1969': 4483, 'fuel': 4484, 'clueless': 4485, 'niec': 4486, 'patricia': 4487, 'decept': 4488, 'kline': 4489, 'effici': 4490, 'hain': 4491, 'baffl': 4492, 'preming': 4493, 'bewar': 4494, 'heap': 4495, 'bounc': 4496, 'spontan': 4497, 'sweat': 4498, 'gina': 4499, 'despic': 4500, 'gillian': 4501, 'narrow': 4502, 'brendan': 4503, 'insipid': 4504, 'goof': 4505, 'shatter': 4506, 'loath': 4507, 'trigger': 4508, 'biker': 4509, 'uh': 4510, 'rome': 4511, 'analyz': 4512, 'preachi': 4513, 'astound': 4514, 'housewif': 4515, '19': 4516, 'headach': 4517, 'loi': 4518, 'sleepwalk': 4519, 'circu': 4520, 'dandi': 4521, 'mayhem': 4522, 'angst': 4523, 'harmless': 4524, 'scar': 4525, 'lester': 4526, 'outlaw': 4527, '73': 4528, 'injur': 4529, 'virtu': 4530, 'enlist': 4531, 'hepburn': 4532, 'tick': 4533, 'taboo': 4534, 'mermaid': 4535, 'viewpoint': 4536, 'fontain': 4537, 'sooner': 4538, 'dilemma': 4539, 'suprem': 4540, 'candl': 4541, 'renaiss': 4542, 'salt': 4543, 'cassavet': 4544, 'stimul': 4545, 'dismal': 4546, 'dish': 4547, 'tripl': 4548, 'oldest': 4549, 'ebert': 4550, 'macho': 4551, 'redund': 4552, 'bent': 4553, 'phenomenon': 4554, 'guin': 4555, 'hostag': 4556, 'camcord': 4557, 'stair': 4558, 'hooker': 4559, 'whore': 4560, 'overlong': 4561, 'hokey': 4562, 'surgeri': 4563, 'fluff': 4564, 'amor': 4565, 'idol': 4566, 'contempt': 4567, 'slimi': 4568, 'claustrophob': 4569, 'intric': 4570, 'spade': 4571, 'steer': 4572, 'boston': 4573, 'sox': 4574, 'immatur': 4575, 'corbett': 4576, 'scorses': 4577, 'ariel': 4578, 'gere': 4579, 'foolish': 4580, 'zoom': 4581, 'glorifi': 4582, 'filth': 4583, 'cush': 4584, '1981': 4585, 'spree': 4586, 'spinal': 4587, 'shred': 4588, 'cohen': 4589, 'flirt': 4590, 'widescreen': 4591, 'zane': 4592, 'messi': 4593, 'schlock': 4594, 'astronaut': 4595, 'trivia': 4596, 'harold': 4597, 'perman': 4598, 'joker': 4599, 'cow': 4600, 'obligatori': 4601, '1976': 4602, 'transplant': 4603, 'mount': 4604, 'proport': 4605, 'antagonist': 4606, 'mutual': 4607, 'fascist': 4608, 'corman': 4609, 'shield': 4610, 'down': 4611, 'assert': 4612, 'muscl': 4613, 'rhyme': 4614, 'frantic': 4615, 'conquer': 4616, 'gasp': 4617, 'preced': 4618, 'flag': 4619, 'remad': 4620, 'beard': 4621, 'faint': 4622, 'strongest': 4623, 'radiat': 4624, 'margin': 4625, 'dwarf': 4626, 'nolt': 4627, 'flashi': 4628, 'keen': 4629, 'naschi': 4630, 'gabl': 4631, 'alvin': 4632, 'wield': 4633, 'neurot': 4634, 'discern': 4635, 'bachelor': 4636, 'hara': 4637, 'interestingli': 4638, 'mol': 4639, 'brush': 4640, 'resum': 4641, 'danish': 4642, 'persuad': 4643, 'barn': 4644, 'boob': 4645, 'info': 4646, 'someday': 4647, '1945': 4648, 'archiv': 4649, 'mobil': 4650, 'divin': 4651, 'vaniti': 4652, 'fishburn': 4653, 'carey': 4654, 'inflict': 4655, 'repris': 4656, 'sensual': 4657, 'ritchi': 4658, 'scandal': 4659, 'flock': 4660, '28': 4661, 'strive': 4662, '95': 4663, 'departur': 4664, 'raj': 4665, 'off': 4666, 'instruct': 4667, 'triangl': 4668, 'www': 4669, 'aborigin': 4670, 'claud': 4671, 'deer': 4672, 'bitten': 4673, 'hapless': 4674, 'colin': 4675, 'submit': 4676, 'earnest': 4677, 'artwork': 4678, 'recit': 4679, 'banter': 4680, 'biblic': 4681, 'heartwarm': 4682, 'cliffhang': 4683, 'hug': 4684, 'dylan': 4685, 'neill': 4686, 'senior': 4687, 'clad': 4688, 'proclaim': 4689, 'helm': 4690, 'miracul': 4691, 'cycl': 4692, 'pacif': 4693, 'axe': 4694, 'mobster': 4695, 'fragil': 4696, 'prophet': 4697, 'ish': 4698, 'traffic': 4699, 'dame': 4700, 'rot': 4701, 'pixar': 4702, 'hilar': 4703, 'undermin': 4704, 'anton': 4705, 'carlo': 4706, 'melissa': 4707, 'kathryn': 4708, 'cb': 4709, 'jade': 4710, 'bate': 4711, 'vibrant': 4712, 'dim': 4713, 'harrison': 4714, 'cher': 4715, 'parson': 4716, 'europa': 4717, 'timberlak': 4718, 'loretta': 4719, 'frontier': 4720, 'luka': 4721, 'casino': 4722, 'wendigo': 4723, 'pickford': 4724, 'foil': 4725, 'lui': 4726, 'blatantli': 4727, 'marlon': 4728, 'bondag': 4729, 'flavor': 4730, 'token': 4731, 'vanessa': 4732, 'eli': 4733, 'articl': 4734, 'rooki': 4735, 'feast': 4736, 'bikini': 4737, 'northern': 4738, 'static': 4739, 'electron': 4740, 'jo': 4741, 'orphan': 4742, 'razor': 4743, 'isra': 4744, 'redneck': 4745, 'estrang': 4746, 'shepherd': 4747, 'akin': 4748, 'aris': 4749, 'legitim': 4750, 'nope': 4751, 'uma': 4752, 'illus': 4753, 'sicken': 4754, 'winchest': 4755, 'misfortun': 4756, 'choke': 4757, 'http': 4758, 'breakfast': 4759, 'wardrob': 4760, 'mason': 4761, 'pc': 4762, 'lucil': 4763, 'milo': 4764, 'toronto': 4765, 'holocaust': 4766, 'trier': 4767, 'antholog': 4768, 'jordan': 4769, 'seedi': 4770, 'cerebr': 4771, 'venom': 4772, 'vile': 4773, 'mathieu': 4774, 'alexandr': 4775, 'tack': 4776, 'comprehend': 4777, 'affleck': 4778, 'cartoonish': 4779, 'glare': 4780, 'clinic': 4781, 'outdat': 4782, 'highway': 4783, 'boyer': 4784, 'ideolog': 4785, 'dudley': 4786, 'oppon': 4787, 'deem': 4788, 'nightclub': 4789, 'linear': 4790, 'charlton': 4791, 'smack': 4792, 'magician': 4793, 'gilbert': 4794, 'shorter': 4795, 'turd': 4796, 'styliz': 4797, 'fifth': 4798, 'swept': 4799, 'psych': 4800, 'howl': 4801, 'retriev': 4802, 'wrestler': 4803, 'knightley': 4804, 'audrey': 4805, 'gunga': 4806, 'leather': 4807, 'huston': 4808, 'disregard': 4809, 'feminin': 4810, 'ceremoni': 4811, 'abund': 4812, 'frog': 4813, 'peer': 4814, 'lighter': 4815, 'braveheart': 4816, 'durat': 4817, 'breakdown': 4818, 'goldsworthi': 4819, 'boo': 4820, 'lavish': 4821, 'uniformli': 4822, 'toe': 4823, '1991': 4824, 'phenomen': 4825, 'senat': 4826, 'spawn': 4827, 'collector': 4828, 'conrad': 4829, 'cemeteri': 4830, 'moe': 4831, 'deliver': 4832, 'mitch': 4833, 'whack': 4834, 'newer': 4835, 'bogu': 4836, 'salman': 4837, 'energet': 4838, 'bastard': 4839, 'btw': 4840, 'monument': 4841, 'chip': 4842, 'summar': 4843, 'plate': 4844, 'lifeless': 4845, 'snatch': 4846, 'client': 4847, 'compris': 4848, 'sleaz': 4849, 'potter': 4850, 'spine': 4851, '1994': 4852, '4th': 4853, 'corn': 4854, 'cuban': 4855, 'evolut': 4856, 'greet': 4857, 'tara': 4858, 'einstein': 4859, 'bulk': 4860, 'trauma': 4861, 'appl': 4862, 'fluid': 4863, 'sorrow': 4864, 'cecil': 4865, 'undertak': 4866, 'firmli': 4867, 'capot': 4868, 'kent': 4869, 'lex': 4870, 'healthi': 4871, 'gilliam': 4872, 'alleg': 4873, 'nina': 4874, 'wtf': 4875, 'constitut': 4876, 'randolph': 4877, '1977': 4878, 'neatli': 4879, 'armstrong': 4880, 'ol': 4881, 'jare': 4882, 'historian': 4883, '1974': 4884, 'occup': 4885, 'mcqueen': 4886, 'outright': 4887, 'jam': 4888, 'judd': 4889, 'ie': 4890, 'signal': 4891, 'replay': 4892, 'eleven': 4893, 'spectacl': 4894, 'undead': 4895, 'embark': 4896, 'inaccuraci': 4897, 'pronounc': 4898, 'kazan': 4899, 'bori': 4900, 'clara': 4901, 'belli': 4902, 'jedi': 4903, 'creek': 4904, 'luxuri': 4905, 'jule': 4906, 'liu': 4907, 'evelyn': 4908, 'fruit': 4909, 'poker': 4910, 'comb': 4911, 'mum': 4912, 'walt': 4913, 'id': 4914, 'carmen': 4915, 'inaccur': 4916, 'ash': 4917, 'palm': 4918, 'paula': 4919, 'porter': 4920, 'kiddi': 4921, 'forgiven': 4922, 'sidewalk': 4923, 'genet': 4924, 'unattract': 4925, 'lauren': 4926, 'vain': 4927, 'blur': 4928, 'pioneer': 4929, 'basket': 4930, 'tokyo': 4931, 'bait': 4932, 'cape': 4933, 'conan': 4934, 'goldblum': 4935, 'meal': 4936, 'comprehens': 4937, 'abound': 4938, 'decapit': 4939, 'subtli': 4940, 'miniseri': 4941, 'unsuspect': 4942, 'propheci': 4943, 'galaxi': 4944, 'miami': 4945, 'truman': 4946, '1985': 4947, 'groan': 4948, 'pepper': 4949, 'vignett': 4950, 'bsg': 4951, 'sacrif': 4952, 'inclus': 4953, 'antonio': 4954, 'spray': 4955, 'knee': 4956, 'aussi': 4957, 'congratul': 4958, 'relentless': 4959, 'rosario': 4960, 'curtain': 4961, 'lanc': 4962, 'roar': 4963, 'asset': 4964, 'jill': 4965, 'optimist': 4966, 'verg': 4967, 'reincarn': 4968, 'turtl': 4969, 'playboy': 4970, 'sophi': 4971, 'scarfac': 4972, 'weari': 4973, 'monti': 4974, 'spill': 4975, 'frontal': 4976, 'motorcycl': 4977, 'assort': 4978, 'profil': 4979, 'vastli': 4980, 'weaker': 4981, '21st': 4982, 'ingrid': 4983, 'handicap': 4984, 'rapidli': 4985, 'substanti': 4986, 'cypher': 4987, 'hackman': 4988, 'victorian': 4989, 'sparkl': 4990, 'casper': 4991, 'modest': 4992, 'omin': 4993, 'incorrect': 4994, 'growth': 4995, 'bach': 4996, 'dubiou': 4997, 'masterson': 4998, 'drone': 4999}\n"
     ]
    }
   ],
   "source": [
    "# TODO: Use this space to determine the five most frequently appearing words in the training set.\n",
    "print (word_dict)"
   ]
  },
  {
   "cell_type": "markdown",
   "metadata": {},
   "source": [
    "### Save `word_dict`\n",
    "\n",
    "Later on when we construct an endpoint which processes a submitted review we will need to make use of the `word_dict` which we have created. As such, we will save it to a file now for future use."
   ]
  },
  {
   "cell_type": "code",
   "execution_count": 83,
   "metadata": {},
   "outputs": [],
   "source": [
    "data_dir = '../data/pytorch' # The folder we will use for storing data\n",
    "if not os.path.exists(data_dir): # Make sure that the folder exists\n",
    "    os.makedirs(data_dir)"
   ]
  },
  {
   "cell_type": "code",
   "execution_count": 84,
   "metadata": {},
   "outputs": [],
   "source": [
    "with open(os.path.join(data_dir, 'word_dict.pkl'), \"wb\") as f:\n",
    "    pickle.dump(word_dict, f)"
   ]
  },
  {
   "cell_type": "markdown",
   "metadata": {},
   "source": [
    "### Transform the reviews\n",
    "\n",
    "Now that we have our word dictionary which allows us to transform the words appearing in the reviews into integers, it is time to make use of it and convert our reviews to their integer sequence representation, making sure to pad or truncate to a fixed length, which in our case is `500`."
   ]
  },
  {
   "cell_type": "code",
   "execution_count": 85,
   "metadata": {},
   "outputs": [],
   "source": [
    "def convert_and_pad(word_dict, sentence, pad=500):\n",
    "    NOWORD = 0 # We will use 0 to represent the 'no word' category\n",
    "    INFREQ = 1 # and we use 1 to represent the infrequent words, i.e., words not appearing in word_dict\n",
    "    \n",
    "    working_sentence = [NOWORD] * pad\n",
    "    \n",
    "    for word_index, word in enumerate(sentence[:pad]):\n",
    "        if word in word_dict:\n",
    "            working_sentence[word_index] = word_dict[word]\n",
    "        else:\n",
    "            working_sentence[word_index] = INFREQ\n",
    "            \n",
    "    return working_sentence, min(len(sentence), pad)\n",
    "\n",
    "def convert_and_pad_data(word_dict, data, pad=500):\n",
    "    result = []\n",
    "    lengths = []\n",
    "    \n",
    "    for sentence in data:\n",
    "        converted, leng = convert_and_pad(word_dict, sentence, pad)\n",
    "        result.append(converted)\n",
    "        lengths.append(leng)\n",
    "        \n",
    "    return np.array(result), np.array(lengths)"
   ]
  },
  {
   "cell_type": "code",
   "execution_count": 86,
   "metadata": {},
   "outputs": [],
   "source": [
    "train_X, train_X_len = convert_and_pad_data(word_dict, train_X)\n",
    "test_X, test_X_len = convert_and_pad_data(word_dict, test_X)"
   ]
  },
  {
   "cell_type": "markdown",
   "metadata": {},
   "source": [
    "As a quick check to make sure that things are working as intended, check to see what one of the reviews in the training set looks like after having been processeed. Does this look reasonable? What is the length of a review in the training set?"
   ]
  },
  {
   "cell_type": "code",
   "execution_count": 87,
   "metadata": {},
   "outputs": [
    {
     "name": "stdout",
     "output_type": "stream",
     "text": [
      "[   1 2274  199 3665 4356    1 4019  689 1880 1156   13  365   97 1116\n",
      "    1 2274 3782 3166 1056    1    1 1304   83   44 3560   97 1137  268\n",
      " 2274  286   35  109    4  340  476  283  260    6 1211  841   57  396\n",
      "    1  269  199    1  283    1   11  213  190  841   42   97  723  250\n",
      "    1   97  723  973    1   97 4020  250   79   97 4020   97 1647  250\n",
      "   97 3311 4020   97  723  103 1913 2236  645  872  103 1913    1 1156\n",
      "   54  577    3  622  365   97  723 2274 3533   42 2274  199    3   15\n",
      "  215  723  205   13 3731  174  706   97  723 2274 3416 1696 1305  875\n",
      "    0    0    0    0    0    0    0    0    0    0    0    0    0    0\n",
      "    0    0    0    0    0    0    0    0    0    0    0    0    0    0\n",
      "    0    0    0    0    0    0    0    0    0    0    0    0    0    0\n",
      "    0    0    0    0    0    0    0    0    0    0    0    0    0    0\n",
      "    0    0    0    0    0    0    0    0    0    0    0    0    0    0\n",
      "    0    0    0    0    0    0    0    0    0    0    0    0    0    0\n",
      "    0    0    0    0    0    0    0    0    0    0    0    0    0    0\n",
      "    0    0    0    0    0    0    0    0    0    0    0    0    0    0\n",
      "    0    0    0    0    0    0    0    0    0    0    0    0    0    0\n",
      "    0    0    0    0    0    0    0    0    0    0    0    0    0    0\n",
      "    0    0    0    0    0    0    0    0    0    0    0    0    0    0\n",
      "    0    0    0    0    0    0    0    0    0    0    0    0    0    0\n",
      "    0    0    0    0    0    0    0    0    0    0    0    0    0    0\n",
      "    0    0    0    0    0    0    0    0    0    0    0    0    0    0\n",
      "    0    0    0    0    0    0    0    0    0    0    0    0    0    0\n",
      "    0    0    0    0    0    0    0    0    0    0    0    0    0    0\n",
      "    0    0    0    0    0    0    0    0    0    0    0    0    0    0\n",
      "    0    0    0    0    0    0    0    0    0    0    0    0    0    0\n",
      "    0    0    0    0    0    0    0    0    0    0    0    0    0    0\n",
      "    0    0    0    0    0    0    0    0    0    0    0    0    0    0\n",
      "    0    0    0    0    0    0    0    0    0    0    0    0    0    0\n",
      "    0    0    0    0    0    0    0    0    0    0    0    0    0    0\n",
      "    0    0    0    0    0    0    0    0    0    0    0    0    0    0\n",
      "    0    0    0    0    0    0    0    0    0    0    0    0    0    0\n",
      "    0    0    0    0    0    0    0    0    0    0    0    0    0    0\n",
      "    0    0    0    0    0    0    0    0    0    0    0    0    0    0\n",
      "    0    0    0    0    0    0    0    0    0    0    0    0    0    0\n",
      "    0    0    0    0    0    0    0    0    0    0]\n",
      "Length: \t112\n"
     ]
    }
   ],
   "source": [
    "# Use this cell to examine one of the processed reviews to make sure everything is working as intended.\n",
    "print (train_X[0])\n",
    "print (f'Length: \\t{train_X_len[0]}')"
   ]
  },
  {
   "cell_type": "markdown",
   "metadata": {},
   "source": [
    "**Question:** In the cells above we use the `preprocess_data` and `convert_and_pad_data` methods to process both the training and testing set. Why or why not might this be a problem?"
   ]
  },
  {
   "cell_type": "markdown",
   "metadata": {},
   "source": [
    "**Answer:**\n",
    "+ Sizing: This will be a problem when deploying the model, as an HTML request has limited size of words that it can transmit.\n",
    "+ Padding: This may be a technical problem when training the model, as we will be using RNNs to train our sequence model\n",
    "    the sequence lengths should be equal, so that we're padding it."
   ]
  },
  {
   "cell_type": "markdown",
   "metadata": {},
   "source": [
    "## Step 3: Upload the data to S3\n",
    "\n",
    "As in the XGBoost notebook, we will need to upload the training dataset to S3 in order for our training code to access it. For now we will save it locally and we will upload to S3 later on.\n",
    "\n",
    "### Save the processed training dataset locally\n",
    "\n",
    "It is important to note the format of the data that we are saving as we will need to know it when we write the training code. In our case, each row of the dataset has the form `label`, `length`, `review[500]` where `review[500]` is a sequence of `500` integers representing the words in the review."
   ]
  },
  {
   "cell_type": "code",
   "execution_count": 88,
   "metadata": {},
   "outputs": [],
   "source": [
    "import pandas as pd\n",
    "    \n",
    "pd.concat([pd.DataFrame(train_y), pd.DataFrame(train_X_len), pd.DataFrame(train_X)], axis=1) \\\n",
    "        .to_csv(os.path.join(data_dir, 'train.csv'), header=False, index=False)"
   ]
  },
  {
   "cell_type": "markdown",
   "metadata": {},
   "source": [
    "### Uploading the training data\n",
    "\n",
    "\n",
    "Next, we need to upload the training data to the SageMaker default S3 bucket so that we can provide access to it while training our model."
   ]
  },
  {
   "cell_type": "code",
   "execution_count": 89,
   "metadata": {},
   "outputs": [],
   "source": [
    "import sagemaker\n",
    "\n",
    "sagemaker_session = sagemaker.Session()\n",
    "\n",
    "bucket = sagemaker_session.default_bucket()\n",
    "prefix = 'sagemaker/sentiment_rnn'\n",
    "\n",
    "role = sagemaker.get_execution_role()"
   ]
  },
  {
   "cell_type": "code",
   "execution_count": 90,
   "metadata": {},
   "outputs": [],
   "source": [
    "input_data = sagemaker_session.upload_data(path=data_dir, bucket=bucket, key_prefix=prefix)"
   ]
  },
  {
   "cell_type": "markdown",
   "metadata": {},
   "source": [
    "**NOTE:** The cell above uploads the entire contents of our data directory. This includes the `word_dict.pkl` file. This is fortunate as we will need this later on when we create an endpoint that accepts an arbitrary review. For now, we will just take note of the fact that it resides in the data directory (and so also in the S3 training bucket) and that we will need to make sure it gets saved in the model directory."
   ]
  },
  {
   "cell_type": "markdown",
   "metadata": {},
   "source": [
    "## Step 4: Build and Train the PyTorch Model\n",
    "\n",
    "In the XGBoost notebook we discussed what a model is in the SageMaker framework. In particular, a model comprises three objects\n",
    "\n",
    " - Model Artifacts,\n",
    " - Training Code, and\n",
    " - Inference Code,\n",
    " \n",
    "each of which interact with one another. In the XGBoost example we used training and inference code that was provided by Amazon. Here we will still be using containers provided by Amazon with the added benefit of being able to include our own custom code.\n",
    "\n",
    "We will start by implementing our own neural network in PyTorch along with a training script. For the purposes of this project we have provided the necessary model object in the `model.py` file, inside of the `train` folder. You can see the provided implementation by running the cell below."
   ]
  },
  {
   "cell_type": "code",
   "execution_count": 91,
   "metadata": {},
   "outputs": [
    {
     "name": "stdout",
     "output_type": "stream",
     "text": [
      "\u001b[34mimport\u001b[39;49;00m \u001b[04m\u001b[36mtorch\u001b[39;49;00m\u001b[04m\u001b[36m.\u001b[39;49;00m\u001b[04m\u001b[36mnn\u001b[39;49;00m \u001b[34mas\u001b[39;49;00m \u001b[04m\u001b[36mnn\u001b[39;49;00m\r\n",
      "\r\n",
      "\u001b[34mclass\u001b[39;49;00m \u001b[04m\u001b[32mLSTMClassifier\u001b[39;49;00m(nn.Module):\r\n",
      "    \u001b[33m\"\"\"\u001b[39;49;00m\r\n",
      "\u001b[33m    This is the simple RNN model we will be using to perform Sentiment Analysis.\u001b[39;49;00m\r\n",
      "\u001b[33m    \"\"\"\u001b[39;49;00m\r\n",
      "\r\n",
      "    \u001b[34mdef\u001b[39;49;00m \u001b[32m__init__\u001b[39;49;00m(\u001b[36mself\u001b[39;49;00m, embedding_dim, hidden_dim, vocab_size):\r\n",
      "        \u001b[33m\"\"\"\u001b[39;49;00m\r\n",
      "\u001b[33m        Initialize the model by settingg up the various layers.\u001b[39;49;00m\r\n",
      "\u001b[33m        \"\"\"\u001b[39;49;00m\r\n",
      "        \u001b[36msuper\u001b[39;49;00m(LSTMClassifier, \u001b[36mself\u001b[39;49;00m).\u001b[32m__init__\u001b[39;49;00m()\r\n",
      "\r\n",
      "        \u001b[36mself\u001b[39;49;00m.embedding = nn.Embedding(vocab_size, embedding_dim, padding_idx=\u001b[34m0\u001b[39;49;00m)\r\n",
      "        \u001b[36mself\u001b[39;49;00m.lstm = nn.LSTM(embedding_dim, hidden_dim)\r\n",
      "        \u001b[36mself\u001b[39;49;00m.dense = nn.Linear(in_features=hidden_dim, out_features=\u001b[34m1\u001b[39;49;00m)\r\n",
      "        \u001b[36mself\u001b[39;49;00m.sig = nn.Sigmoid()\r\n",
      "        \r\n",
      "        \u001b[36mself\u001b[39;49;00m.word_dict = \u001b[34mNone\u001b[39;49;00m\r\n",
      "\r\n",
      "    \u001b[34mdef\u001b[39;49;00m \u001b[32mforward\u001b[39;49;00m(\u001b[36mself\u001b[39;49;00m, x):\r\n",
      "        \u001b[33m\"\"\"\u001b[39;49;00m\r\n",
      "\u001b[33m        Perform a forward pass of our model on some input.\u001b[39;49;00m\r\n",
      "\u001b[33m        \"\"\"\u001b[39;49;00m\r\n",
      "        x = x.t()\r\n",
      "        lengths = x[\u001b[34m0\u001b[39;49;00m,:]\r\n",
      "        reviews = x[\u001b[34m1\u001b[39;49;00m:,:]\r\n",
      "        embeds = \u001b[36mself\u001b[39;49;00m.embedding(reviews)\r\n",
      "        lstm_out, _ = \u001b[36mself\u001b[39;49;00m.lstm(embeds)\r\n",
      "        out = \u001b[36mself\u001b[39;49;00m.dense(lstm_out)\r\n",
      "        out = out[lengths - \u001b[34m1\u001b[39;49;00m, \u001b[36mrange\u001b[39;49;00m(\u001b[36mlen\u001b[39;49;00m(lengths))]\r\n",
      "        \u001b[34mreturn\u001b[39;49;00m \u001b[36mself\u001b[39;49;00m.sig(out.squeeze())\r\n"
     ]
    }
   ],
   "source": [
    "!pygmentize train/model.py"
   ]
  },
  {
   "cell_type": "markdown",
   "metadata": {},
   "source": [
    "The important takeaway from the implementation provided is that there are three parameters that we may wish to tweak to improve the performance of our model. These are the embedding dimension, the hidden dimension and the size of the vocabulary. We will likely want to make these parameters configurable in the training script so that if we wish to modify them we do not need to modify the script itself. We will see how to do this later on. To start we will write some of the training code in the notebook so that we can more easily diagnose any issues that arise.\n",
    "\n",
    "First we will load a small portion of the training data set to use as a sample. It would be very time consuming to try and train the model completely in the notebook as we do not have access to a gpu and the compute instance that we are using is not particularly powerful. However, we can work on a small bit of the data to get a feel for how our training script is behaving."
   ]
  },
  {
   "cell_type": "code",
   "execution_count": 92,
   "metadata": {},
   "outputs": [],
   "source": [
    "import torch\n",
    "import torch.utils.data\n",
    "\n",
    "# Read in only the first 250 rows\n",
    "train_sample = pd.read_csv(os.path.join(data_dir, 'train.csv'), header=None, names=None, nrows=250)\n",
    "\n",
    "# Turn the input pandas dataframe into tensors\n",
    "train_sample_y = torch.from_numpy(train_sample[[0]].values).float().squeeze()\n",
    "train_sample_X = torch.from_numpy(train_sample.drop([0], axis=1).values).long()\n",
    "\n",
    "# Build the dataset\n",
    "train_sample_ds = torch.utils.data.TensorDataset(train_sample_X, train_sample_y)\n",
    "# Build the dataloader\n",
    "train_sample_dl = torch.utils.data.DataLoader(train_sample_ds, batch_size=50)"
   ]
  },
  {
   "cell_type": "markdown",
   "metadata": {},
   "source": [
    "### (TODO) Writing the training method\n",
    "\n",
    "Next we need to write the training code itself. This should be very similar to training methods that you have written before to train PyTorch models. We will leave any difficult aspects such as model saving / loading and parameter loading until a little later."
   ]
  },
  {
   "cell_type": "code",
   "execution_count": 58,
   "metadata": {},
   "outputs": [],
   "source": [
    "def train(model, train_loader, epochs, optimizer, loss_fn, device):\n",
    "    for epoch in range(1, epochs + 1):\n",
    "        model.train()\n",
    "        total_loss = 0\n",
    "        for batch in train_loader:         \n",
    "            batch_X, batch_y = batch\n",
    "            \n",
    "            batch_X = batch_X.to(device)\n",
    "            batch_y = batch_y.to(device)\n",
    "            \n",
    "            # TODO: Complete this train method to train the model provided.\n",
    "            model.zero_grad()\n",
    "            results = model(batch_X)\n",
    "            loss = loss_fn(results.squeeze(), batch_y)\n",
    "            loss.backward()\n",
    "            optimizer.step()\n",
    "            \n",
    "            total_loss += loss.data.item()\n",
    "        print(\"Epoch: {}, BCELoss: {}\".format(epoch, total_loss / len(train_loader)))"
   ]
  },
  {
   "cell_type": "markdown",
   "metadata": {},
   "source": [
    "Supposing we have the training method above, we will test that it is working by writing a bit of code in the notebook that executes our training method on the small sample training set that we loaded earlier. The reason for doing this in the notebook is so that we have an opportunity to fix any errors that arise early when they are easier to diagnose."
   ]
  },
  {
   "cell_type": "code",
   "execution_count": 59,
   "metadata": {},
   "outputs": [
    {
     "name": "stdout",
     "output_type": "stream",
     "text": [
      "Epoch: 1, BCELoss: 0.6939215540885926\n",
      "Epoch: 2, BCELoss: 0.681721317768097\n",
      "Epoch: 3, BCELoss: 0.670732033252716\n",
      "Epoch: 4, BCELoss: 0.6584017395973205\n",
      "Epoch: 5, BCELoss: 0.6435105681419373\n"
     ]
    }
   ],
   "source": [
    "import torch.optim as optim\n",
    "from train.model import LSTMClassifier\n",
    "\n",
    "device = torch.device(\"cuda\" if torch.cuda.is_available() else \"cpu\")\n",
    "model = LSTMClassifier(32, 100, 5000).to(device)\n",
    "optimizer = optim.Adam(model.parameters())\n",
    "loss_fn = torch.nn.BCELoss()\n",
    "\n",
    "train(model, train_sample_dl, 5, optimizer, loss_fn, device)"
   ]
  },
  {
   "cell_type": "markdown",
   "metadata": {},
   "source": [
    "In order to construct a PyTorch model using SageMaker we must provide SageMaker with a training script. We may optionally include a directory which will be copied to the container and from which our training code will be run. When the training container is executed it will check the uploaded directory (if there is one) for a `requirements.txt` file and install any required Python libraries, after which the training script will be run."
   ]
  },
  {
   "cell_type": "markdown",
   "metadata": {},
   "source": [
    "### (TODO) Training the model\n",
    "\n",
    "When a PyTorch model is constructed in SageMaker, an entry point must be specified. This is the Python file which will be executed when the model is trained. Inside of the `train` directory is a file called `train.py` which has been provided and which contains most of the necessary code to train our model. The only thing that is missing is the implementation of the `train()` method which you wrote earlier in this notebook.\n",
    "\n",
    "**TODO**: Copy the `train()` method written above and paste it into the `train/train.py` file where required.\n",
    "\n",
    "The way that SageMaker passes hyperparameters to the training script is by way of arguments. These arguments can then be parsed and used in the training script. To see how this is done take a look at the provided `train/train.py` file."
   ]
  },
  {
   "cell_type": "code",
   "execution_count": 97,
   "metadata": {},
   "outputs": [],
   "source": [
    "from sagemaker.pytorch import PyTorch\n",
    "\n",
    "estimator = PyTorch(entry_point=\"train.py\",\n",
    "                    source_dir=\"train\",\n",
    "                    role=role,\n",
    "                    framework_version='0.4.0',\n",
    "                    train_instance_count=1,\n",
    "                    train_instance_type='ml.m4.xlarge',\n",
    "                    hyperparameters={\n",
    "                        'epochs': 5,\n",
    "                        'hidden_dim': 100,\n",
    "                    })"
   ]
  },
  {
   "cell_type": "code",
   "execution_count": 98,
   "metadata": {},
   "outputs": [
    {
     "name": "stderr",
     "output_type": "stream",
     "text": [
      "'create_image_uri' will be deprecated in favor of 'ImageURIProvider' class in SageMaker Python SDK v2.\n",
      "'s3_input' class will be renamed to 'TrainingInput' in SageMaker Python SDK v2.\n",
      "'create_image_uri' will be deprecated in favor of 'ImageURIProvider' class in SageMaker Python SDK v2.\n"
     ]
    },
    {
     "name": "stdout",
     "output_type": "stream",
     "text": [
      "2020-10-12 01:34:26 Starting - Starting the training job...\n",
      "2020-10-12 01:34:28 Starting - Launching requested ML instances...\n",
      "2020-10-12 01:35:25 Starting - Preparing the instances for training......\n",
      "2020-10-12 01:36:24 Downloading - Downloading input data......\n",
      "2020-10-12 01:37:10 Training - Downloading the training image.\u001b[34mbash: cannot set terminal process group (-1): Inappropriate ioctl for device\u001b[0m\n",
      "\u001b[34mbash: no job control in this shell\u001b[0m\n",
      "\u001b[34m2020-10-12 01:37:31,686 sagemaker-containers INFO     Imported framework sagemaker_pytorch_container.training\u001b[0m\n",
      "\u001b[34m2020-10-12 01:37:31,689 sagemaker-containers INFO     No GPUs detected (normal if no gpus installed)\u001b[0m\n",
      "\u001b[34m2020-10-12 01:37:31,708 sagemaker_pytorch_container.training INFO     Block until all host DNS lookups succeed.\u001b[0m\n",
      "\u001b[34m2020-10-12 01:37:37,939 sagemaker_pytorch_container.training INFO     Invoking user training script.\u001b[0m\n",
      "\u001b[34m2020-10-12 01:37:38,258 sagemaker-containers INFO     Module train does not provide a setup.py. \u001b[0m\n",
      "\u001b[34mGenerating setup.py\u001b[0m\n",
      "\u001b[34m2020-10-12 01:37:38,258 sagemaker-containers INFO     Generating setup.cfg\u001b[0m\n",
      "\u001b[34m2020-10-12 01:37:38,258 sagemaker-containers INFO     Generating MANIFEST.in\u001b[0m\n",
      "\u001b[34m2020-10-12 01:37:38,258 sagemaker-containers INFO     Installing module with the following command:\u001b[0m\n",
      "\u001b[34m/usr/bin/python -m pip install -U . -r requirements.txt\u001b[0m\n",
      "\u001b[34mProcessing /opt/ml/code\u001b[0m\n",
      "\u001b[34mCollecting pandas (from -r requirements.txt (line 1))\u001b[0m\n",
      "\u001b[34m  Downloading https://files.pythonhosted.org/packages/74/24/0cdbf8907e1e3bc5a8da03345c23cbed7044330bb8f73bb12e711a640a00/pandas-0.24.2-cp35-cp35m-manylinux1_x86_64.whl (10.0MB)\u001b[0m\n",
      "\u001b[34mCollecting numpy (from -r requirements.txt (line 2))\u001b[0m\n",
      "\u001b[34m  Downloading https://files.pythonhosted.org/packages/b5/36/88723426b4ff576809fec7d73594fe17a35c27f8d01f93637637a29ae25b/numpy-1.18.5-cp35-cp35m-manylinux1_x86_64.whl (19.9MB)\u001b[0m\n",
      "\n",
      "2020-10-12 01:37:30 Training - Training image download completed. Training in progress.\u001b[34mCollecting nltk (from -r requirements.txt (line 3))\n",
      "  Downloading https://files.pythonhosted.org/packages/92/75/ce35194d8e3022203cca0d2f896dbb88689f9b3fce8e9f9cff942913519d/nltk-3.5.zip (1.4MB)\u001b[0m\n",
      "\u001b[34mCollecting beautifulsoup4 (from -r requirements.txt (line 4))\n",
      "  Downloading https://files.pythonhosted.org/packages/d1/41/e6495bd7d3781cee623ce23ea6ac73282a373088fcd0ddc809a047b18eae/beautifulsoup4-4.9.3-py3-none-any.whl (115kB)\u001b[0m\n",
      "\u001b[34mCollecting html5lib (from -r requirements.txt (line 5))\n",
      "  Downloading https://files.pythonhosted.org/packages/6c/dd/a834df6482147d48e225a49515aabc28974ad5a4ca3215c18a882565b028/html5lib-1.1-py2.py3-none-any.whl (112kB)\u001b[0m\n",
      "\u001b[34mRequirement already satisfied, skipping upgrade: python-dateutil>=2.5.0 in /usr/local/lib/python3.5/dist-packages (from pandas->-r requirements.txt (line 1)) (2.7.5)\u001b[0m\n",
      "\u001b[34mCollecting pytz>=2011k (from pandas->-r requirements.txt (line 1))\n",
      "  Downloading https://files.pythonhosted.org/packages/4f/a4/879454d49688e2fad93e59d7d4efda580b783c745fd2ec2a3adf87b0808d/pytz-2020.1-py2.py3-none-any.whl (510kB)\u001b[0m\n",
      "\u001b[34mRequirement already satisfied, skipping upgrade: click in /usr/local/lib/python3.5/dist-packages (from nltk->-r requirements.txt (line 3)) (7.0)\u001b[0m\n",
      "\u001b[34mCollecting joblib (from nltk->-r requirements.txt (line 3))\u001b[0m\n",
      "\u001b[34m  Downloading https://files.pythonhosted.org/packages/28/5c/cf6a2b65a321c4a209efcdf64c2689efae2cb62661f8f6f4bb28547cf1bf/joblib-0.14.1-py2.py3-none-any.whl (294kB)\u001b[0m\n",
      "\u001b[34mCollecting regex (from nltk->-r requirements.txt (line 3))\n",
      "  Downloading https://files.pythonhosted.org/packages/46/b1/65338cdb6d29410f9f2a5b4d866c920f2d90724d7f3e6aee668079fe6f7b/regex-2020.10.11.tar.gz (690kB)\u001b[0m\n",
      "\u001b[34mCollecting tqdm (from nltk->-r requirements.txt (line 3))\u001b[0m\n",
      "\u001b[34m  Downloading https://files.pythonhosted.org/packages/bd/cf/f91813073e4135c1183cadf968256764a6fe4e35c351d596d527c0540461/tqdm-4.50.2-py2.py3-none-any.whl (70kB)\u001b[0m\n",
      "\u001b[34mCollecting soupsieve>1.2; python_version >= \"3.0\" (from beautifulsoup4->-r requirements.txt (line 4))\n",
      "  Downloading https://files.pythonhosted.org/packages/6f/8f/457f4a5390eeae1cc3aeab89deb7724c965be841ffca6cfca9197482e470/soupsieve-2.0.1-py3-none-any.whl\u001b[0m\n",
      "\u001b[34mRequirement already satisfied, skipping upgrade: six>=1.9 in /usr/local/lib/python3.5/dist-packages (from html5lib->-r requirements.txt (line 5)) (1.11.0)\u001b[0m\n",
      "\u001b[34mCollecting webencodings (from html5lib->-r requirements.txt (line 5))\n",
      "  Downloading https://files.pythonhosted.org/packages/f4/24/2a3e3df732393fed8b3ebf2ec078f05546de641fe1b667ee316ec1dcf3b7/webencodings-0.5.1-py2.py3-none-any.whl\u001b[0m\n",
      "\u001b[34mBuilding wheels for collected packages: nltk, train, regex\n",
      "  Running setup.py bdist_wheel for nltk: started\u001b[0m\n",
      "\u001b[34m  Running setup.py bdist_wheel for nltk: finished with status 'done'\n",
      "  Stored in directory: /root/.cache/pip/wheels/ae/8c/3f/b1fe0ba04555b08b57ab52ab7f86023639a526d8bc8d384306\n",
      "  Running setup.py bdist_wheel for train: started\n",
      "  Running setup.py bdist_wheel for train: finished with status 'done'\n",
      "  Stored in directory: /tmp/pip-ephem-wheel-cache-c7rv_x2y/wheels/35/24/16/37574d11bf9bde50616c67372a334f94fa8356bc7164af8ca3\n",
      "  Running setup.py bdist_wheel for regex: started\u001b[0m\n",
      "\u001b[34m  Running setup.py bdist_wheel for regex: finished with status 'done'\n",
      "  Stored in directory: /root/.cache/pip/wheels/af/13/d2/d29bf26b0d08d4c1ef11e38955277234aeabffccd97fd41c68\u001b[0m\n",
      "\u001b[34mSuccessfully built nltk train regex\u001b[0m\n",
      "\u001b[34mInstalling collected packages: pytz, numpy, pandas, joblib, regex, tqdm, nltk, soupsieve, beautifulsoup4, webencodings, html5lib, train\u001b[0m\n",
      "\u001b[34m  Found existing installation: numpy 1.15.4\n",
      "    Uninstalling numpy-1.15.4:\u001b[0m\n",
      "\u001b[34m      Successfully uninstalled numpy-1.15.4\u001b[0m\n",
      "\u001b[34mSuccessfully installed beautifulsoup4-4.9.3 html5lib-1.1 joblib-0.14.1 nltk-3.5 numpy-1.18.5 pandas-0.24.2 pytz-2020.1 regex-2020.10.11 soupsieve-2.0.1 tqdm-4.50.2 train-1.0.0 webencodings-0.5.1\u001b[0m\n",
      "\u001b[34mYou are using pip version 18.1, however version 20.2.3 is available.\u001b[0m\n",
      "\u001b[34mYou should consider upgrading via the 'pip install --upgrade pip' command.\u001b[0m\n",
      "\u001b[34m2020-10-12 01:38:01,098 sagemaker-containers INFO     No GPUs detected (normal if no gpus installed)\u001b[0m\n",
      "\u001b[34m2020-10-12 01:38:01,112 sagemaker-containers INFO     Invoking user script\n",
      "\u001b[0m\n",
      "\u001b[34mTraining Env:\n",
      "\u001b[0m\n",
      "\u001b[34m{\n",
      "    \"model_dir\": \"/opt/ml/model\",\n",
      "    \"user_entry_point\": \"train.py\",\n",
      "    \"network_interface_name\": \"eth0\",\n",
      "    \"current_host\": \"algo-1\",\n",
      "    \"module_name\": \"train\",\n",
      "    \"log_level\": 20,\n",
      "    \"hosts\": [\n",
      "        \"algo-1\"\n",
      "    ],\n",
      "    \"output_data_dir\": \"/opt/ml/output/data\",\n",
      "    \"output_intermediate_dir\": \"/opt/ml/output/intermediate\",\n",
      "    \"num_gpus\": 0,\n",
      "    \"additional_framework_parameters\": {},\n",
      "    \"channel_input_dirs\": {\n",
      "        \"training\": \"/opt/ml/input/data/training\"\n",
      "    },\n",
      "    \"input_dir\": \"/opt/ml/input\",\n",
      "    \"input_config_dir\": \"/opt/ml/input/config\",\n",
      "    \"input_data_config\": {\n",
      "        \"training\": {\n",
      "            \"TrainingInputMode\": \"File\",\n",
      "            \"S3DistributionType\": \"FullyReplicated\",\n",
      "            \"RecordWrapperType\": \"None\"\n",
      "        }\n",
      "    },\n",
      "    \"module_dir\": \"s3://sagemaker-us-east-2-382010263028/sagemaker-pytorch-2020-10-12-01-34-25-950/source/sourcedir.tar.gz\",\n",
      "    \"num_cpus\": 4,\n",
      "    \"job_name\": \"sagemaker-pytorch-2020-10-12-01-34-25-950\",\n",
      "    \"resource_config\": {\n",
      "        \"network_interface_name\": \"eth0\",\n",
      "        \"hosts\": [\n",
      "            \"algo-1\"\n",
      "        ],\n",
      "        \"current_host\": \"algo-1\"\n",
      "    },\n",
      "    \"output_dir\": \"/opt/ml/output\",\n",
      "    \"framework_module\": \"sagemaker_pytorch_container.training:main\",\n",
      "    \"hyperparameters\": {\n",
      "        \"epochs\": 5,\n",
      "        \"hidden_dim\": 100\n",
      "    }\u001b[0m\n",
      "\u001b[34m}\n",
      "\u001b[0m\n",
      "\u001b[34mEnvironment variables:\n",
      "\u001b[0m\n",
      "\u001b[34mSM_CHANNEL_TRAINING=/opt/ml/input/data/training\u001b[0m\n",
      "\u001b[34mSM_NETWORK_INTERFACE_NAME=eth0\u001b[0m\n",
      "\u001b[34mSM_INPUT_DIR=/opt/ml/input\u001b[0m\n",
      "\u001b[34mSM_OUTPUT_DATA_DIR=/opt/ml/output/data\u001b[0m\n",
      "\u001b[34mSM_HPS={\"epochs\":5,\"hidden_dim\":100}\u001b[0m\n",
      "\u001b[34mSM_NUM_GPUS=0\u001b[0m\n",
      "\u001b[34mSM_USER_ARGS=[\"--epochs\",\"5\",\"--hidden_dim\",\"100\"]\u001b[0m\n",
      "\u001b[34mSM_HOSTS=[\"algo-1\"]\u001b[0m\n",
      "\u001b[34mSM_INPUT_CONFIG_DIR=/opt/ml/input/config\u001b[0m\n",
      "\u001b[34mSM_USER_ENTRY_POINT=train.py\u001b[0m\n",
      "\u001b[34mSM_LOG_LEVEL=20\u001b[0m\n",
      "\u001b[34mSM_HP_EPOCHS=5\u001b[0m\n",
      "\u001b[34mSM_CHANNELS=[\"training\"]\u001b[0m\n",
      "\u001b[34mSM_OUTPUT_INTERMEDIATE_DIR=/opt/ml/output/intermediate\u001b[0m\n",
      "\u001b[34mPYTHONPATH=/usr/local/bin:/usr/lib/python35.zip:/usr/lib/python3.5:/usr/lib/python3.5/plat-x86_64-linux-gnu:/usr/lib/python3.5/lib-dynload:/usr/local/lib/python3.5/dist-packages:/usr/lib/python3/dist-packages\u001b[0m\n",
      "\u001b[34mSM_TRAINING_ENV={\"additional_framework_parameters\":{},\"channel_input_dirs\":{\"training\":\"/opt/ml/input/data/training\"},\"current_host\":\"algo-1\",\"framework_module\":\"sagemaker_pytorch_container.training:main\",\"hosts\":[\"algo-1\"],\"hyperparameters\":{\"epochs\":5,\"hidden_dim\":100},\"input_config_dir\":\"/opt/ml/input/config\",\"input_data_config\":{\"training\":{\"RecordWrapperType\":\"None\",\"S3DistributionType\":\"FullyReplicated\",\"TrainingInputMode\":\"File\"}},\"input_dir\":\"/opt/ml/input\",\"job_name\":\"sagemaker-pytorch-2020-10-12-01-34-25-950\",\"log_level\":20,\"model_dir\":\"/opt/ml/model\",\"module_dir\":\"s3://sagemaker-us-east-2-382010263028/sagemaker-pytorch-2020-10-12-01-34-25-950/source/sourcedir.tar.gz\",\"module_name\":\"train\",\"network_interface_name\":\"eth0\",\"num_cpus\":4,\"num_gpus\":0,\"output_data_dir\":\"/opt/ml/output/data\",\"output_dir\":\"/opt/ml/output\",\"output_intermediate_dir\":\"/opt/ml/output/intermediate\",\"resource_config\":{\"current_host\":\"algo-1\",\"hosts\":[\"algo-1\"],\"network_interface_name\":\"eth0\"},\"user_entry_point\":\"train.py\"}\u001b[0m\n",
      "\u001b[34mSM_FRAMEWORK_MODULE=sagemaker_pytorch_container.training:main\u001b[0m\n",
      "\u001b[34mSM_MODEL_DIR=/opt/ml/model\u001b[0m\n",
      "\u001b[34mSM_MODULE_DIR=s3://sagemaker-us-east-2-382010263028/sagemaker-pytorch-2020-10-12-01-34-25-950/source/sourcedir.tar.gz\u001b[0m\n",
      "\u001b[34mSM_FRAMEWORK_PARAMS={}\u001b[0m\n",
      "\u001b[34mSM_CURRENT_HOST=algo-1\u001b[0m\n",
      "\u001b[34mSM_INPUT_DATA_CONFIG={\"training\":{\"RecordWrapperType\":\"None\",\"S3DistributionType\":\"FullyReplicated\",\"TrainingInputMode\":\"File\"}}\u001b[0m\n",
      "\u001b[34mSM_OUTPUT_DIR=/opt/ml/output\u001b[0m\n",
      "\u001b[34mSM_NUM_CPUS=4\u001b[0m\n",
      "\u001b[34mSM_RESOURCE_CONFIG={\"current_host\":\"algo-1\",\"hosts\":[\"algo-1\"],\"network_interface_name\":\"eth0\"}\u001b[0m\n",
      "\u001b[34mSM_HP_HIDDEN_DIM=100\u001b[0m\n",
      "\u001b[34mSM_MODULE_NAME=train\n",
      "\u001b[0m\n",
      "\u001b[34mInvoking script with the following command:\n",
      "\u001b[0m\n",
      "\u001b[34m/usr/bin/python -m train --epochs 5 --hidden_dim 100\n",
      "\n",
      "\u001b[0m\n",
      "\u001b[34mUsing device cpu.\u001b[0m\n",
      "\u001b[34mGet train data loader.\u001b[0m\n",
      "\u001b[34mModel loaded with embedding_dim 32, hidden_dim 100, vocab_size 5000.\u001b[0m\n"
     ]
    },
    {
     "name": "stdout",
     "output_type": "stream",
     "text": [
      "\u001b[34mEpoch: 1, BCELoss: 0.6750837527975744\u001b[0m\n",
      "\u001b[34mEpoch: 2, BCELoss: 0.5941731248583112\u001b[0m\n",
      "\u001b[34mEpoch: 3, BCELoss: 0.48731448273269495\u001b[0m\n",
      "\u001b[34mEpoch: 4, BCELoss: 0.4168585143527206\u001b[0m\n",
      "\n",
      "2020-10-12 02:18:22 Uploading - Uploading generated training model\u001b[34mEpoch: 5, BCELoss: 0.3637737954149441\u001b[0m\n",
      "\u001b[34m2020-10-12 02:18:18,376 sagemaker-containers INFO     Reporting training SUCCESS\u001b[0m\n",
      "\n",
      "2020-10-12 02:18:29 Completed - Training job completed\n",
      "Training seconds: 2525\n",
      "Billable seconds: 2525\n"
     ]
    }
   ],
   "source": [
    "estimator.fit({'training': input_data})"
   ]
  },
  {
   "cell_type": "markdown",
   "metadata": {},
   "source": [
    "## Step 5: Testing the model\n",
    "\n",
    "As mentioned at the top of this notebook, we will be testing this model by first deploying it and then sending the testing data to the deployed endpoint. We will do this so that we can make sure that the deployed model is working correctly.\n",
    "\n",
    "## Step 6: Deploy the model for testing\n",
    "\n",
    "Now that we have trained our model, we would like to test it to see how it performs. Currently our model takes input of the form `review_length, review[500]` where `review[500]` is a sequence of `500` integers which describe the words present in the review, encoded using `word_dict`. Fortunately for us, SageMaker provides built-in inference code for models with simple inputs such as this.\n",
    "\n",
    "There is one thing that we need to provide, however, and that is a function which loads the saved model. This function must be called `model_fn()` and takes as its only parameter a path to the directory where the model artifacts are stored. This function must also be present in the python file which we specified as the entry point. In our case the model loading function has been provided and so no changes need to be made.\n",
    "\n",
    "**NOTE**: When the built-in inference code is run it must import the `model_fn()` method from the `train.py` file. This is why the training code is wrapped in a main guard ( ie, `if __name__ == '__main__':` )\n",
    "\n",
    "Since we don't need to change anything in the code that was uploaded during training, we can simply deploy the current model as-is.\n",
    "\n",
    "**NOTE:** When deploying a model you are asking SageMaker to launch an compute instance that will wait for data to be sent to it. As a result, this compute instance will continue to run until *you* shut it down. This is important to know since the cost of a deployed endpoint depends on how long it has been running for.\n",
    "\n",
    "In other words **If you are no longer using a deployed endpoint, shut it down!**\n",
    "\n",
    "**TODO:** Deploy the trained model."
   ]
  },
  {
   "cell_type": "code",
   "execution_count": 109,
   "metadata": {},
   "outputs": [
    {
     "name": "stderr",
     "output_type": "stream",
     "text": [
      "Parameter image will be renamed to image_uri in SageMaker Python SDK v2.\n",
      "'create_image_uri' will be deprecated in favor of 'ImageURIProvider' class in SageMaker Python SDK v2.\n",
      "Using already existing model: sagemaker-pytorch-2020-10-12-01-34-25-950\n"
     ]
    },
    {
     "name": "stdout",
     "output_type": "stream",
     "text": [
      "-----------------!"
     ]
    }
   ],
   "source": [
    "# TODO: Deploy the trained model\n",
    "predictor = estimator.deploy(initial_instance_count = 1, instance_type = 'ml.m4.xlarge')"
   ]
  },
  {
   "cell_type": "markdown",
   "metadata": {},
   "source": [
    "## Step 7 - Use the model for testing\n",
    "\n",
    "Once deployed, we can read in the test data and send it off to our deployed model to get some results. Once we collect all of the results we can determine how accurate our model is."
   ]
  },
  {
   "cell_type": "code",
   "execution_count": 110,
   "metadata": {},
   "outputs": [],
   "source": [
    "test_X = pd.concat([pd.DataFrame(test_X_len), pd.DataFrame(test_X)], axis=1)"
   ]
  },
  {
   "cell_type": "code",
   "execution_count": 111,
   "metadata": {},
   "outputs": [],
   "source": [
    "# We split the data into chunks and send each chunk seperately, accumulating the results.\n",
    "\n",
    "def predict(data, rows=512):\n",
    "    split_array = np.array_split(data, int(data.shape[0] / float(rows) + 1))\n",
    "    predictions = np.array([])\n",
    "    for array in split_array:\n",
    "        predictions = np.append(predictions, predictor.predict(array))\n",
    "    \n",
    "    return predictions"
   ]
  },
  {
   "cell_type": "code",
   "execution_count": 112,
   "metadata": {},
   "outputs": [],
   "source": [
    "predictions = predict(test_X.values)\n",
    "predictions = [round(num) for num in predictions]"
   ]
  },
  {
   "cell_type": "code",
   "execution_count": 113,
   "metadata": {},
   "outputs": [
    {
     "data": {
      "text/plain": [
       "0.83424"
      ]
     },
     "execution_count": 113,
     "metadata": {},
     "output_type": "execute_result"
    }
   ],
   "source": [
    "from sklearn.metrics import accuracy_score\n",
    "accuracy_score(test_y, predictions)"
   ]
  },
  {
   "cell_type": "markdown",
   "metadata": {},
   "source": [
    "**Question:** How does this model compare to the XGBoost model you created earlier? Why might these two models perform differently on this dataset? Which do *you* think is better for sentiment analysis?"
   ]
  },
  {
   "cell_type": "markdown",
   "metadata": {},
   "source": [
    "**Answer:**\n",
    "XGBoost model uses Bag of Words to encode the vector that represents the review. In constrast, the LSTM model uses an embedding vector for each word and creates a hidden state for the review by processing the sequence of word vectors. Since BoW vectors lose the order of words in the review and LSTM can exploit the information from the order of words, LSTM is better suited for sentiment analysis."
   ]
  },
  {
   "cell_type": "markdown",
   "metadata": {},
   "source": [
    "### (TODO) More testing\n",
    "\n",
    "We now have a trained model which has been deployed and which we can send processed reviews to and which returns the predicted sentiment. However, ultimately we would like to be able to send our model an unprocessed review. That is, we would like to send the review itself as a string. For example, suppose we wish to send the following review to our model."
   ]
  },
  {
   "cell_type": "code",
   "execution_count": 124,
   "metadata": {},
   "outputs": [],
   "source": [
    "test_review = 'The simplest pleasures in life are the best, and this film is one of them. Combining a rather basic storyline of love and adventure this movie transcends the usual weekend fair with wit and unmitigated charm.'\n"
   ]
  },
  {
   "cell_type": "markdown",
   "metadata": {},
   "source": [
    "The question we now need to answer is, how do we send this review to our model?\n",
    "\n",
    "Recall in the first section of this notebook we did a bunch of data processing to the IMDb dataset. In particular, we did two specific things to the provided reviews.\n",
    " - Removed any html tags and stemmed the input\n",
    " - Encoded the review as a sequence of integers using `word_dict`\n",
    " \n",
    "In order process the review we will need to repeat these two steps.\n",
    "\n",
    "**TODO**: Using the `review_to_words` and `convert_and_pad` methods from section one, convert `test_review` into a numpy array `test_data` suitable to send to our model. Remember that our model expects input of the form `review_length, review[500]`."
   ]
  },
  {
   "cell_type": "code",
   "execution_count": 125,
   "metadata": {},
   "outputs": [],
   "source": [
    "# TODO: Convert test_review into a form usable by the model and save the results in test_data\n",
    "test_review_words, length = convert_and_pad( word_dict,review_to_words(test_review))\n",
    "test_data = np.array([[length] + test_review_words])"
   ]
  },
  {
   "cell_type": "markdown",
   "metadata": {},
   "source": [
    "Now that we have processed the review, we can send the resulting array to our model to predict the sentiment of the review."
   ]
  },
  {
   "cell_type": "code",
   "execution_count": 126,
   "metadata": {},
   "outputs": [
    {
     "data": {
      "text/plain": [
       "array(0.87602293, dtype=float32)"
      ]
     },
     "execution_count": 126,
     "metadata": {},
     "output_type": "execute_result"
    }
   ],
   "source": [
    "predictor.predict(test_data)"
   ]
  },
  {
   "cell_type": "markdown",
   "metadata": {},
   "source": [
    "Since the return value of our model is close to `1`, we can be certain that the review we submitted is positive."
   ]
  },
  {
   "cell_type": "markdown",
   "metadata": {},
   "source": [
    "### Delete the endpoint\n",
    "\n",
    "Of course, just like in the XGBoost notebook, once we've deployed an endpoint it continues to run until we tell it to shut down. Since we are done using our endpoint for now, we can delete it."
   ]
  },
  {
   "cell_type": "code",
   "execution_count": 127,
   "metadata": {},
   "outputs": [
    {
     "name": "stderr",
     "output_type": "stream",
     "text": [
      "estimator.delete_endpoint() will be deprecated in SageMaker Python SDK v2. Please use the delete_endpoint() function on your predictor instead.\n"
     ]
    }
   ],
   "source": [
    "estimator.delete_endpoint()"
   ]
  },
  {
   "cell_type": "markdown",
   "metadata": {},
   "source": [
    "## Step 6 (again) - Deploy the model for the web app\n",
    "\n",
    "Now that we know that our model is working, it's time to create some custom inference code so that we can send the model a review which has not been processed and have it determine the sentiment of the review.\n",
    "\n",
    "As we saw above, by default the estimator which we created, when deployed, will use the entry script and directory which we provided when creating the model. However, since we now wish to accept a string as input and our model expects a processed review, we need to write some custom inference code.\n",
    "\n",
    "We will store the code that we write in the `serve` directory. Provided in this directory is the `model.py` file that we used to construct our model, a `utils.py` file which contains the `review_to_words` and `convert_and_pad` pre-processing functions which we used during the initial data processing, and `predict.py`, the file which will contain our custom inference code. Note also that `requirements.txt` is present which will tell SageMaker what Python libraries are required by our custom inference code.\n",
    "\n",
    "When deploying a PyTorch model in SageMaker, you are expected to provide four functions which the SageMaker inference container will use.\n",
    " - `model_fn`: This function is the same function that we used in the training script and it tells SageMaker how to load our model.\n",
    " - `input_fn`: This function receives the raw serialized input that has been sent to the model's endpoint and its job is to de-serialize and make the input available for the inference code.\n",
    " - `output_fn`: This function takes the output of the inference code and its job is to serialize this output and return it to the caller of the model's endpoint.\n",
    " - `predict_fn`: The heart of the inference script, this is where the actual prediction is done and is the function which you will need to complete.\n",
    "\n",
    "For the simple website that we are constructing during this project, the `input_fn` and `output_fn` methods are relatively straightforward. We only require being able to accept a string as input and we expect to return a single value as output. You might imagine though that in a more complex application the input or output may be image data or some other binary data which would require some effort to serialize.\n",
    "\n",
    "### (TODO) Writing inference code\n",
    "\n",
    "Before writing our custom inference code, we will begin by taking a look at the code which has been provided."
   ]
  },
  {
   "cell_type": "code",
   "execution_count": 128,
   "metadata": {},
   "outputs": [
    {
     "name": "stdout",
     "output_type": "stream",
     "text": [
      "\u001b[34mimport\u001b[39;49;00m \u001b[04m\u001b[36margparse\u001b[39;49;00m\r\n",
      "\u001b[34mimport\u001b[39;49;00m \u001b[04m\u001b[36mjson\u001b[39;49;00m\r\n",
      "\u001b[34mimport\u001b[39;49;00m \u001b[04m\u001b[36mos\u001b[39;49;00m\r\n",
      "\u001b[34mimport\u001b[39;49;00m \u001b[04m\u001b[36mpickle\u001b[39;49;00m\r\n",
      "\u001b[34mimport\u001b[39;49;00m \u001b[04m\u001b[36msys\u001b[39;49;00m\r\n",
      "\u001b[34mimport\u001b[39;49;00m \u001b[04m\u001b[36msagemaker_containers\u001b[39;49;00m\r\n",
      "\u001b[34mimport\u001b[39;49;00m \u001b[04m\u001b[36mpandas\u001b[39;49;00m \u001b[34mas\u001b[39;49;00m \u001b[04m\u001b[36mpd\u001b[39;49;00m\r\n",
      "\u001b[34mimport\u001b[39;49;00m \u001b[04m\u001b[36mnumpy\u001b[39;49;00m \u001b[34mas\u001b[39;49;00m \u001b[04m\u001b[36mnp\u001b[39;49;00m\r\n",
      "\u001b[34mimport\u001b[39;49;00m \u001b[04m\u001b[36mtorch\u001b[39;49;00m\r\n",
      "\u001b[34mimport\u001b[39;49;00m \u001b[04m\u001b[36mtorch\u001b[39;49;00m\u001b[04m\u001b[36m.\u001b[39;49;00m\u001b[04m\u001b[36mnn\u001b[39;49;00m \u001b[34mas\u001b[39;49;00m \u001b[04m\u001b[36mnn\u001b[39;49;00m\r\n",
      "\u001b[34mimport\u001b[39;49;00m \u001b[04m\u001b[36mtorch\u001b[39;49;00m\u001b[04m\u001b[36m.\u001b[39;49;00m\u001b[04m\u001b[36moptim\u001b[39;49;00m \u001b[34mas\u001b[39;49;00m \u001b[04m\u001b[36moptim\u001b[39;49;00m\r\n",
      "\u001b[34mimport\u001b[39;49;00m \u001b[04m\u001b[36mtorch\u001b[39;49;00m\u001b[04m\u001b[36m.\u001b[39;49;00m\u001b[04m\u001b[36mutils\u001b[39;49;00m\u001b[04m\u001b[36m.\u001b[39;49;00m\u001b[04m\u001b[36mdata\u001b[39;49;00m\r\n",
      "\r\n",
      "\u001b[34mfrom\u001b[39;49;00m \u001b[04m\u001b[36mmodel\u001b[39;49;00m \u001b[34mimport\u001b[39;49;00m LSTMClassifier\r\n",
      "\r\n",
      "\u001b[34mfrom\u001b[39;49;00m \u001b[04m\u001b[36mutils\u001b[39;49;00m \u001b[34mimport\u001b[39;49;00m review_to_words, convert_and_pad\r\n",
      "\r\n",
      "\u001b[34mdef\u001b[39;49;00m \u001b[32mmodel_fn\u001b[39;49;00m(model_dir):\r\n",
      "    \u001b[33m\"\"\"Load the PyTorch model from the `model_dir` directory.\"\"\"\u001b[39;49;00m\r\n",
      "    \u001b[36mprint\u001b[39;49;00m(\u001b[33m\"\u001b[39;49;00m\u001b[33mLoading model.\u001b[39;49;00m\u001b[33m\"\u001b[39;49;00m)\r\n",
      "\r\n",
      "    \u001b[37m# First, load the parameters used to create the model.\u001b[39;49;00m\r\n",
      "    model_info = {}\r\n",
      "    model_info_path = os.path.join(model_dir, \u001b[33m'\u001b[39;49;00m\u001b[33mmodel_info.pth\u001b[39;49;00m\u001b[33m'\u001b[39;49;00m)\r\n",
      "    \u001b[34mwith\u001b[39;49;00m \u001b[36mopen\u001b[39;49;00m(model_info_path, \u001b[33m'\u001b[39;49;00m\u001b[33mrb\u001b[39;49;00m\u001b[33m'\u001b[39;49;00m) \u001b[34mas\u001b[39;49;00m f:\r\n",
      "        model_info = torch.load(f)\r\n",
      "\r\n",
      "    \u001b[36mprint\u001b[39;49;00m(\u001b[33m\"\u001b[39;49;00m\u001b[33mmodel_info: \u001b[39;49;00m\u001b[33m{}\u001b[39;49;00m\u001b[33m\"\u001b[39;49;00m.format(model_info))\r\n",
      "\r\n",
      "    \u001b[37m# Determine the device and construct the model.\u001b[39;49;00m\r\n",
      "    device = torch.device(\u001b[33m\"\u001b[39;49;00m\u001b[33mcuda\u001b[39;49;00m\u001b[33m\"\u001b[39;49;00m \u001b[34mif\u001b[39;49;00m torch.cuda.is_available() \u001b[34melse\u001b[39;49;00m \u001b[33m\"\u001b[39;49;00m\u001b[33mcpu\u001b[39;49;00m\u001b[33m\"\u001b[39;49;00m)\r\n",
      "    model = LSTMClassifier(model_info[\u001b[33m'\u001b[39;49;00m\u001b[33membedding_dim\u001b[39;49;00m\u001b[33m'\u001b[39;49;00m], model_info[\u001b[33m'\u001b[39;49;00m\u001b[33mhidden_dim\u001b[39;49;00m\u001b[33m'\u001b[39;49;00m], model_info[\u001b[33m'\u001b[39;49;00m\u001b[33mvocab_size\u001b[39;49;00m\u001b[33m'\u001b[39;49;00m])\r\n",
      "\r\n",
      "    \u001b[37m# Load the store model parameters.\u001b[39;49;00m\r\n",
      "    model_path = os.path.join(model_dir, \u001b[33m'\u001b[39;49;00m\u001b[33mmodel.pth\u001b[39;49;00m\u001b[33m'\u001b[39;49;00m)\r\n",
      "    \u001b[34mwith\u001b[39;49;00m \u001b[36mopen\u001b[39;49;00m(model_path, \u001b[33m'\u001b[39;49;00m\u001b[33mrb\u001b[39;49;00m\u001b[33m'\u001b[39;49;00m) \u001b[34mas\u001b[39;49;00m f:\r\n",
      "        model.load_state_dict(torch.load(f))\r\n",
      "\r\n",
      "    \u001b[37m# Load the saved word_dict.\u001b[39;49;00m\r\n",
      "    word_dict_path = os.path.join(model_dir, \u001b[33m'\u001b[39;49;00m\u001b[33mword_dict.pkl\u001b[39;49;00m\u001b[33m'\u001b[39;49;00m)\r\n",
      "    \u001b[34mwith\u001b[39;49;00m \u001b[36mopen\u001b[39;49;00m(word_dict_path, \u001b[33m'\u001b[39;49;00m\u001b[33mrb\u001b[39;49;00m\u001b[33m'\u001b[39;49;00m) \u001b[34mas\u001b[39;49;00m f:\r\n",
      "        model.word_dict = pickle.load(f)\r\n",
      "\r\n",
      "    model.to(device).eval()\r\n",
      "\r\n",
      "    \u001b[36mprint\u001b[39;49;00m(\u001b[33m\"\u001b[39;49;00m\u001b[33mDone loading model.\u001b[39;49;00m\u001b[33m\"\u001b[39;49;00m)\r\n",
      "    \u001b[34mreturn\u001b[39;49;00m model\r\n",
      "\r\n",
      "\u001b[34mdef\u001b[39;49;00m \u001b[32minput_fn\u001b[39;49;00m(serialized_input_data, content_type):\r\n",
      "    \u001b[36mprint\u001b[39;49;00m(\u001b[33m'\u001b[39;49;00m\u001b[33mDeserializing the input data.\u001b[39;49;00m\u001b[33m'\u001b[39;49;00m)\r\n",
      "    \u001b[34mif\u001b[39;49;00m content_type == \u001b[33m'\u001b[39;49;00m\u001b[33mtext/plain\u001b[39;49;00m\u001b[33m'\u001b[39;49;00m:\r\n",
      "        data = serialized_input_data.decode(\u001b[33m'\u001b[39;49;00m\u001b[33mutf-8\u001b[39;49;00m\u001b[33m'\u001b[39;49;00m)\r\n",
      "        \u001b[34mreturn\u001b[39;49;00m data\r\n",
      "    \u001b[34mraise\u001b[39;49;00m \u001b[36mException\u001b[39;49;00m(\u001b[33m'\u001b[39;49;00m\u001b[33mRequested unsupported ContentType in content_type: \u001b[39;49;00m\u001b[33m'\u001b[39;49;00m + content_type)\r\n",
      "\r\n",
      "\u001b[34mdef\u001b[39;49;00m \u001b[32moutput_fn\u001b[39;49;00m(prediction_output, accept):\r\n",
      "    \u001b[36mprint\u001b[39;49;00m(\u001b[33m'\u001b[39;49;00m\u001b[33mSerializing the generated output.\u001b[39;49;00m\u001b[33m'\u001b[39;49;00m)\r\n",
      "    \u001b[34mreturn\u001b[39;49;00m \u001b[36mstr\u001b[39;49;00m(prediction_output)\r\n",
      "\r\n",
      "\u001b[34mdef\u001b[39;49;00m \u001b[32mpredict_fn\u001b[39;49;00m(input_data, model):\r\n",
      "    \u001b[36mprint\u001b[39;49;00m(\u001b[33m'\u001b[39;49;00m\u001b[33mInferring sentiment of input data.\u001b[39;49;00m\u001b[33m'\u001b[39;49;00m)\r\n",
      "\r\n",
      "    device = torch.device(\u001b[33m\"\u001b[39;49;00m\u001b[33mcuda\u001b[39;49;00m\u001b[33m\"\u001b[39;49;00m \u001b[34mif\u001b[39;49;00m torch.cuda.is_available() \u001b[34melse\u001b[39;49;00m \u001b[33m\"\u001b[39;49;00m\u001b[33mcpu\u001b[39;49;00m\u001b[33m\"\u001b[39;49;00m)\r\n",
      "    \r\n",
      "    \u001b[34mif\u001b[39;49;00m model.word_dict \u001b[35mis\u001b[39;49;00m \u001b[34mNone\u001b[39;49;00m:\r\n",
      "        \u001b[34mraise\u001b[39;49;00m \u001b[36mException\u001b[39;49;00m(\u001b[33m'\u001b[39;49;00m\u001b[33mModel has not been loaded properly, no word_dict.\u001b[39;49;00m\u001b[33m'\u001b[39;49;00m)\r\n",
      "    \r\n",
      "    \u001b[37m# TODO: Process input_data so that it is ready to be sent to our model.\u001b[39;49;00m\r\n",
      "    \u001b[37m#       You should produce two variables:\u001b[39;49;00m\r\n",
      "    \u001b[37m#         data_X   - A sequence of length 500 which represents the converted review\u001b[39;49;00m\r\n",
      "    \u001b[37m#         data_len - The length of the review\u001b[39;49;00m\r\n",
      "\r\n",
      "    review_words = review_to_words(input_data)\r\n",
      "    review_words, length = convert_and_pad(model.word_dict, review_words)\r\n",
      "    data_X = review_words\r\n",
      "    data_len = length\r\n",
      "\r\n",
      "\r\n",
      "    \u001b[37m# Using data_X and data_len we construct an appropriate input tensor. Remember\u001b[39;49;00m\r\n",
      "    \u001b[37m# that our model expects input data of the form 'len, review[500]'.\u001b[39;49;00m\r\n",
      "    data_pack = np.hstack((data_len, data_X))\r\n",
      "    data_pack = data_pack.reshape(\u001b[34m1\u001b[39;49;00m, -\u001b[34m1\u001b[39;49;00m)\r\n",
      "    \r\n",
      "    data = torch.from_numpy(data_pack)\r\n",
      "    data = data.to(device)\r\n",
      "\r\n",
      "    \u001b[37m# Make sure to put the model into evaluation mode\u001b[39;49;00m\r\n",
      "    model.eval()\r\n",
      "\r\n",
      "    \u001b[37m# TODO: Compute the result of applying the model to the input data. The variable `result` should\u001b[39;49;00m\r\n",
      "    \u001b[37m#       be a numpy array which contains a single integer which is either 1 or 0\u001b[39;49;00m\r\n",
      "\r\n",
      "    y_hat = model(data).detach().cpu().numpy()\r\n",
      "    \u001b[36mprint\u001b[39;49;00m(y_hat)\r\n",
      "    result = np.round(y_hat).astype(np.int)\r\n",
      "\r\n",
      "    \u001b[34mreturn\u001b[39;49;00m result\r\n"
     ]
    }
   ],
   "source": [
    "!pygmentize serve/predict.py"
   ]
  },
  {
   "cell_type": "markdown",
   "metadata": {},
   "source": [
    "As mentioned earlier, the `model_fn` method is the same as the one provided in the training code and the `input_fn` and `output_fn` methods are very simple and your task will be to complete the `predict_fn` method. Make sure that you save the completed file as `predict.py` in the `serve` directory.\n",
    "\n",
    "**TODO**: Complete the `predict_fn()` method in the `serve/predict.py` file."
   ]
  },
  {
   "cell_type": "markdown",
   "metadata": {},
   "source": [
    "### Deploying the model\n",
    "\n",
    "Now that the custom inference code has been written, we will create and deploy our model. To begin with, we need to construct a new PyTorchModel object which points to the model artifacts created during training and also points to the inference code that we wish to use. Then we can call the deploy method to launch the deployment container.\n",
    "\n",
    "**NOTE**: The default behaviour for a deployed PyTorch model is to assume that any input passed to the predictor is a `numpy` array. In our case we want to send a string so we need to construct a simple wrapper around the `RealTimePredictor` class to accomodate simple strings. In a more complicated situation you may want to provide a serialization object, for example if you wanted to sent image data."
   ]
  },
  {
   "cell_type": "code",
   "execution_count": 129,
   "metadata": {},
   "outputs": [
    {
     "name": "stderr",
     "output_type": "stream",
     "text": [
      "Parameter image will be renamed to image_uri in SageMaker Python SDK v2.\n",
      "'create_image_uri' will be deprecated in favor of 'ImageURIProvider' class in SageMaker Python SDK v2.\n"
     ]
    },
    {
     "name": "stdout",
     "output_type": "stream",
     "text": [
      "-----------------!"
     ]
    }
   ],
   "source": [
    "from sagemaker.predictor import RealTimePredictor\n",
    "from sagemaker.pytorch import PyTorchModel\n",
    "\n",
    "class StringPredictor(RealTimePredictor):\n",
    "    def __init__(self, endpoint_name, sagemaker_session):\n",
    "        super(StringPredictor, self).__init__(endpoint_name, sagemaker_session, content_type='text/plain')\n",
    "\n",
    "model = PyTorchModel(model_data=estimator.model_data,\n",
    "                     role = role,\n",
    "                     framework_version='0.4.0',\n",
    "                     entry_point='predict.py',\n",
    "                     source_dir='serve',\n",
    "                     predictor_cls=StringPredictor)\n",
    "predictor = model.deploy(initial_instance_count=1, instance_type='ml.m4.xlarge')"
   ]
  },
  {
   "cell_type": "markdown",
   "metadata": {},
   "source": [
    "### Testing the model\n",
    "\n",
    "Now that we have deployed our model with the custom inference code, we should test to see if everything is working. Here we test our model by loading the first `250` positive and negative reviews and send them to the endpoint, then collect the results. The reason for only sending some of the data is that the amount of time it takes for our model to process the input and then perform inference is quite long and so testing the entire data set would be prohibitive."
   ]
  },
  {
   "cell_type": "code",
   "execution_count": 130,
   "metadata": {},
   "outputs": [],
   "source": [
    "import glob\n",
    "\n",
    "def test_reviews(data_dir='../data/aclImdb', stop=250):\n",
    "    \n",
    "    results = []\n",
    "    ground = []\n",
    "    \n",
    "    # We make sure to test both positive and negative reviews    \n",
    "    for sentiment in ['pos', 'neg']:\n",
    "        \n",
    "        path = os.path.join(data_dir, 'test', sentiment, '*.txt')\n",
    "        files = glob.glob(path)\n",
    "        \n",
    "        files_read = 0\n",
    "        \n",
    "        print('Starting ', sentiment, ' files')\n",
    "        \n",
    "        # Iterate through the files and send them to the predictor\n",
    "        for f in files:\n",
    "            with open(f) as review:\n",
    "                # First, we store the ground truth (was the review positive or negative)\n",
    "                if sentiment == 'pos':\n",
    "                    ground.append(1)\n",
    "                else:\n",
    "                    ground.append(0)\n",
    "                # Read in the review and convert to 'utf-8' for transmission via HTTP\n",
    "                review_input = review.read().encode('utf-8')\n",
    "                # Send the review to the predictor and store the results\n",
    "                results.append(int(predictor.predict(review_input)))\n",
    "                \n",
    "            # Sending reviews to our endpoint one at a time takes a while so we\n",
    "            # only send a small number of reviews\n",
    "            files_read += 1\n",
    "            if files_read == stop:\n",
    "                break\n",
    "            \n",
    "    return ground, results"
   ]
  },
  {
   "cell_type": "code",
   "execution_count": 131,
   "metadata": {},
   "outputs": [
    {
     "name": "stdout",
     "output_type": "stream",
     "text": [
      "Starting  pos  files\n",
      "Starting  neg  files\n"
     ]
    }
   ],
   "source": [
    "ground, results = test_reviews()"
   ]
  },
  {
   "cell_type": "code",
   "execution_count": 132,
   "metadata": {},
   "outputs": [
    {
     "data": {
      "text/plain": [
       "0.824"
      ]
     },
     "execution_count": 132,
     "metadata": {},
     "output_type": "execute_result"
    }
   ],
   "source": [
    "from sklearn.metrics import accuracy_score\n",
    "accuracy_score(ground, results)"
   ]
  },
  {
   "cell_type": "markdown",
   "metadata": {},
   "source": [
    "As an additional test, we can try sending the `test_review` that we looked at earlier."
   ]
  },
  {
   "cell_type": "code",
   "execution_count": 133,
   "metadata": {},
   "outputs": [
    {
     "data": {
      "text/plain": [
       "b'1'"
      ]
     },
     "execution_count": 133,
     "metadata": {},
     "output_type": "execute_result"
    }
   ],
   "source": [
    "predictor.predict(test_review)"
   ]
  },
  {
   "cell_type": "markdown",
   "metadata": {},
   "source": [
    "Now that we know our endpoint is working as expected, we can set up the web page that will interact with it. If you don't have time to finish the project now, make sure to skip down to the end of this notebook and shut down your endpoint. You can deploy it again when you come back."
   ]
  },
  {
   "cell_type": "markdown",
   "metadata": {},
   "source": [
    "## Step 7 (again): Use the model for the web app\n",
    "\n",
    "> **TODO:** This entire section and the next contain tasks for you to complete, mostly using the AWS console.\n",
    "\n",
    "So far we have been accessing our model endpoint by constructing a predictor object which uses the endpoint and then just using the predictor object to perform inference. What if we wanted to create a web app which accessed our model? The way things are set up currently makes that not possible since in order to access a SageMaker endpoint the app would first have to authenticate with AWS using an IAM role which included access to SageMaker endpoints. However, there is an easier way! We just need to use some additional AWS services.\n",
    "\n",
    "<img src=\"Web App Diagram.svg\">\n",
    "\n",
    "The diagram above gives an overview of how the various services will work together. On the far right is the model which we trained above and which is deployed using SageMaker. On the far left is our web app that collects a user's movie review, sends it off and expects a positive or negative sentiment in return.\n",
    "\n",
    "In the middle is where some of the magic happens. We will construct a Lambda function, which you can think of as a straightforward Python function that can be executed whenever a specified event occurs. We will give this function permission to send and recieve data from a SageMaker endpoint.\n",
    "\n",
    "Lastly, the method we will use to execute the Lambda function is a new endpoint that we will create using API Gateway. This endpoint will be a url that listens for data to be sent to it. Once it gets some data it will pass that data on to the Lambda function and then return whatever the Lambda function returns. Essentially it will act as an interface that lets our web app communicate with the Lambda function.\n",
    "\n",
    "### Setting up a Lambda function\n",
    "\n",
    "The first thing we are going to do is set up a Lambda function. This Lambda function will be executed whenever our public API has data sent to it. When it is executed it will receive the data, perform any sort of processing that is required, send the data (the review) to the SageMaker endpoint we've created and then return the result.\n",
    "\n",
    "#### Part A: Create an IAM Role for the Lambda function\n",
    "\n",
    "Since we want the Lambda function to call a SageMaker endpoint, we need to make sure that it has permission to do so. To do this, we will construct a role that we can later give the Lambda function.\n",
    "\n",
    "Using the AWS Console, navigate to the **IAM** page and click on **Roles**. Then, click on **Create role**. Make sure that the **AWS service** is the type of trusted entity selected and choose **Lambda** as the service that will use this role, then click **Next: Permissions**.\n",
    "\n",
    "In the search box type `sagemaker` and select the check box next to the **AmazonSageMakerFullAccess** policy. Then, click on **Next: Review**.\n",
    "\n",
    "Lastly, give this role a name. Make sure you use a name that you will remember later on, for example `LambdaSageMakerRole`. Then, click on **Create role**.\n",
    "\n",
    "#### Part B: Create a Lambda function\n",
    "\n",
    "Now it is time to actually create the Lambda function.\n",
    "\n",
    "Using the AWS Console, navigate to the AWS Lambda page and click on **Create a function**. When you get to the next page, make sure that **Author from scratch** is selected. Now, name your Lambda function, using a name that you will remember later on, for example `sentiment_analysis_func`. Make sure that the **Python 3.6** runtime is selected and then choose the role that you created in the previous part. Then, click on **Create Function**.\n",
    "\n",
    "On the next page you will see some information about the Lambda function you've just created. If you scroll down you should see an editor in which you can write the code that will be executed when your Lambda function is triggered. In our example, we will use the code below. \n",
    "\n",
    "```python\n",
    "# We need to use the low-level library to interact with SageMaker since the SageMaker API\n",
    "# is not available natively through Lambda.\n",
    "import boto3\n",
    "\n",
    "def lambda_handler(event, context):\n",
    "\n",
    "    # The SageMaker runtime is what allows us to invoke the endpoint that we've created.\n",
    "    runtime = boto3.Session().client('sagemaker-runtime')\n",
    "\n",
    "    # Now we use the SageMaker runtime to invoke our endpoint, sending the review we were given\n",
    "    response = runtime.invoke_endpoint(EndpointName = '**ENDPOINT NAME HERE**',    # The name of the endpoint we created\n",
    "                                       ContentType = 'text/plain',                 # The data format that is expected\n",
    "                                       Body = event['body'])                       # The actual review\n",
    "\n",
    "    # The response is an HTTP response whose body contains the result of our inference\n",
    "    result = response['Body'].read().decode('utf-8')\n",
    "\n",
    "    return {\n",
    "        'statusCode' : 200,\n",
    "        'headers' : { 'Content-Type' : 'text/plain', 'Access-Control-Allow-Origin' : '*' },\n",
    "        'body' : result\n",
    "    }\n",
    "```\n",
    "\n",
    "Once you have copy and pasted the code above into the Lambda code editor, replace the `**ENDPOINT NAME HERE**` portion with the name of the endpoint that we deployed earlier. You can determine the name of the endpoint using the code cell below."
   ]
  },
  {
   "cell_type": "code",
   "execution_count": 134,
   "metadata": {},
   "outputs": [
    {
     "data": {
      "text/plain": [
       "'sagemaker-pytorch-2020-10-12-02-43-44-279'"
      ]
     },
     "execution_count": 134,
     "metadata": {},
     "output_type": "execute_result"
    }
   ],
   "source": [
    "predictor.endpoint"
   ]
  },
  {
   "cell_type": "markdown",
   "metadata": {},
   "source": [
    "Once you have added the endpoint name to the Lambda function, click on **Save**. Your Lambda function is now up and running. Next we need to create a way for our web app to execute the Lambda function.\n",
    "\n",
    "### Setting up API Gateway\n",
    "\n",
    "Now that our Lambda function is set up, it is time to create a new API using API Gateway that will trigger the Lambda function we have just created.\n",
    "\n",
    "Using AWS Console, navigate to **Amazon API Gateway** and then click on **Get started**.\n",
    "\n",
    "On the next page, make sure that **New API** is selected and give the new api a name, for example, `sentiment_analysis_api`. Then, click on **Create API**.\n",
    "\n",
    "Now we have created an API, however it doesn't currently do anything. What we want it to do is to trigger the Lambda function that we created earlier.\n",
    "\n",
    "Select the **Actions** dropdown menu and click **Create Method**. A new blank method will be created, select its dropdown menu and select **POST**, then click on the check mark beside it.\n",
    "\n",
    "For the integration point, make sure that **Lambda Function** is selected and click on the **Use Lambda Proxy integration**. This option makes sure that the data that is sent to the API is then sent directly to the Lambda function with no processing. It also means that the return value must be a proper response object as it will also not be processed by API Gateway.\n",
    "\n",
    "Type the name of the Lambda function you created earlier into the **Lambda Function** text entry box and then click on **Save**. Click on **OK** in the pop-up box that then appears, giving permission to API Gateway to invoke the Lambda function you created.\n",
    "\n",
    "The last step in creating the API Gateway is to select the **Actions** dropdown and click on **Deploy API**. You will need to create a new Deployment stage and name it anything you like, for example `prod`.\n",
    "\n",
    "You have now successfully set up a public API to access your SageMaker model. Make sure to copy or write down the URL provided to invoke your newly created public API as this will be needed in the next step. This URL can be found at the top of the page, highlighted in blue next to the text **Invoke URL**."
   ]
  },
  {
   "cell_type": "markdown",
   "metadata": {},
   "source": [
    "## Step 4: Deploying our web app\n",
    "\n",
    "Now that we have a publicly available API, we can start using it in a web app. For our purposes, we have provided a simple static html file which can make use of the public api you created earlier.\n",
    "\n",
    "In the `website` folder there should be a file called `index.html`. Download the file to your computer and open that file up in a text editor of your choice. There should be a line which contains **\\*\\*REPLACE WITH PUBLIC API URL\\*\\***. Replace this string with the url that you wrote down in the last step and then save the file.\n",
    "\n",
    "Now, if you open `index.html` on your local computer, your browser will behave as a local web server and you can use the provided site to interact with your SageMaker model.\n",
    "\n",
    "If you'd like to go further, you can host this html file anywhere you'd like, for example using github or hosting a static site on Amazon's S3. Once you have done this you can share the link with anyone you'd like and have them play with it too!\n",
    "\n",
    "> **Important Note** In order for the web app to communicate with the SageMaker endpoint, the endpoint has to actually be deployed and running. This means that you are paying for it. Make sure that the endpoint is running when you want to use the web app but that you shut it down when you don't need it, otherwise you will end up with a surprisingly large AWS bill.\n",
    "\n",
    "**TODO:** Make sure that you include the edited `index.html` file in your project submission."
   ]
  },
  {
   "cell_type": "markdown",
   "metadata": {},
   "source": [
    "Now that your web app is working, trying playing around with it and see how well it works.\n",
    "\n",
    "**Question**: Give an example of a review that you entered into your web app. What was the predicted sentiment of your example review?"
   ]
  },
  {
   "cell_type": "markdown",
   "metadata": {},
   "source": [
    "**Answer:**\n",
    "That was a good movie\n",
    "\n",
    "POSITIVE"
   ]
  },
  {
   "cell_type": "markdown",
   "metadata": {},
   "source": [
    "### Delete the endpoint\n",
    "\n",
    "Remember to always shut down your endpoint if you are no longer using it. You are charged for the length of time that the endpoint is running so if you forget and leave it on you could end up with an unexpectedly large bill."
   ]
  },
  {
   "cell_type": "code",
   "execution_count": 135,
   "metadata": {},
   "outputs": [],
   "source": [
    "predictor.delete_endpoint()"
   ]
  },
  {
   "cell_type": "code",
   "execution_count": null,
   "metadata": {},
   "outputs": [],
   "source": []
  }
 ],
 "metadata": {
  "kernelspec": {
   "display_name": "conda_pytorch_p36",
   "language": "python",
   "name": "conda_pytorch_p36"
  }
 },
 "nbformat": 4,
 "nbformat_minor": 2
}
